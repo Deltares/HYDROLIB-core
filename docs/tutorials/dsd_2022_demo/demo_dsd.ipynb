{
 "cells": [
  {
   "cell_type": "markdown",
   "metadata": {},
   "source": [
    "# Deltares Software Days 2022: Hydrolib-core demo\n",
    "\n",
    "Hydrolib-core is a pip-installable python package. It consists of wrappers around the D-HYDRO model files.\n",
    "Classes in Hydrolib-core are hierarchically organized by file type, and can be accessed via `hydrolib.core.io.<modeltype>.<filetype>.models`.\n",
    "File objects in Hydrolib-core reflect the same structure as the file contents. \n",
    "\n",
    "In this demo, we will load a Flow FM model, make some changes to the model and save it again. "
   ]
  },
  {
   "cell_type": "markdown",
   "metadata": {},
   "source": [
    "## Step 0) Importing the modules "
   ]
  },
  {
   "cell_type": "code",
   "execution_count": 1,
   "metadata": {},
   "outputs": [],
   "source": [
    "from hydrolib.core.io.mdu.models import FMModel\n",
    "from hydrolib.core.io.structure.models import Weir\n",
    "from pathlib import Path"
   ]
  },
  {
   "cell_type": "markdown",
   "metadata": {},
   "source": [
    "## Step 1) Loading a Flow FM model"
   ]
  },
  {
   "cell_type": "code",
   "execution_count": 2,
   "metadata": {},
   "outputs": [],
   "source": [
    "demo_data_folder = Path.cwd() / \"data\"\n",
    "mdu_file_path = demo_data_folder / \"korte_woerden\" / \"dflowfm\" /\"FlowFM.mdu\"\n",
    "\n",
    "model = FMModel(filepath=mdu_file_path)"
   ]
  },
  {
   "cell_type": "markdown",
   "metadata": {},
   "source": [
    "## Step 2) Inspecting the model"
   ]
  },
  {
   "cell_type": "code",
   "execution_count": 3,
   "metadata": {},
   "outputs": [
    {
     "name": "stdout",
     "output_type": "stream",
     "text": [
      "  d:\\checkouts\\HydroLib-core\\HydroLib-core_1\\docs\\tutorials\\dsd_2022_demo\\data\\korte_woerden\\dflowfm\\FlowFM.mdu\n",
      "    Geometry\n",
      "     ∟ FlowFM_net.nc\n",
      "     ∟ structures.ini\n",
      "     ∟ roughness-Main.ini\n",
      "     ∟ roughness-Sewer1.ini\n",
      "     ∟ roughness-Sewer2.ini\n",
      "     ∟ crsdef.ini\n",
      "     ∟ crsloc.ini\n",
      "     ∟ nodeFile.ini\n",
      "    ExternalForcing\n",
      "     ∟ FlowFM_bnd.ext\n",
      "       ∟ Boundary\n",
      "         ∟ FlowFM_boundaryconditions1d.bc\n",
      "       ∟ Boundary\n",
      "         ∟ FlowFM_boundaryconditions1d.bc\n",
      "       ∟ Boundary\n",
      "         ∟ FlowFM_boundaryconditions1d.bc\n",
      "       ∟ Lateral\n",
      "       ∟ Lateral\n",
      "       ∟ Lateral\n",
      "       ∟ Lateral\n",
      "       ∟ Lateral\n",
      "       ∟ Lateral\n",
      "       ∟ Lateral\n",
      "       ∟ Lateral\n",
      "       ∟ Lateral\n",
      "       ∟ Lateral\n",
      "       ∟ Lateral\n",
      "       ∟ Lateral\n",
      "       ∟ Lateral\n",
      "       ∟ Lateral\n",
      "       ∟ Lateral\n",
      "       ∟ Lateral\n",
      "       ∟ Lateral\n",
      "       ∟ Lateral\n",
      "       ∟ Lateral\n",
      "       ∟ Lateral\n",
      "       ∟ Lateral\n",
      "       ∟ Lateral\n",
      "       ∟ Lateral\n",
      "       ∟ Lateral\n",
      "       ∟ Lateral\n",
      "       ∟ Lateral\n",
      "       ∟ Lateral\n",
      "       ∟ Lateral\n",
      "       ∟ Lateral\n",
      "       ∟ Lateral\n",
      "       ∟ Lateral\n",
      "       ∟ Lateral\n",
      "       ∟ Lateral\n",
      "       ∟ Lateral\n",
      "       ∟ Lateral\n",
      "       ∟ Lateral\n",
      "       ∟ Lateral\n",
      "       ∟ Lateral\n",
      "       ∟ Lateral\n",
      "       ∟ Lateral\n",
      "       ∟ Lateral\n",
      "       ∟ Lateral\n",
      "       ∟ Lateral\n",
      "       ∟ Lateral\n",
      "       ∟ Lateral\n",
      "       ∟ Lateral\n",
      "       ∟ Lateral\n",
      "       ∟ Lateral\n",
      "       ∟ Lateral\n",
      "       ∟ Lateral\n",
      "       ∟ Lateral\n",
      "       ∟ Lateral\n",
      "       ∟ Lateral\n",
      "       ∟ Lateral\n",
      "       ∟ Lateral\n",
      "       ∟ Lateral\n",
      "       ∟ Lateral\n",
      "       ∟ Lateral\n",
      "       ∟ Lateral\n",
      "       ∟ Lateral\n",
      "       ∟ Lateral\n",
      "       ∟ Lateral\n",
      "       ∟ Lateral\n",
      "       ∟ Lateral\n",
      "       ∟ Lateral\n",
      "       ∟ Lateral\n",
      "       ∟ Lateral\n",
      "       ∟ Lateral\n",
      "       ∟ Lateral\n",
      "       ∟ Lateral\n",
      "       ∟ Lateral\n",
      "       ∟ Lateral\n",
      "    Output\n",
      "Number of structures: 12\n",
      "[Orifice(comments=Comments(id=None, name='Given name in the user interface.', polylinefile='*.pli; Polyline geometry definition for 2D structure.', branchid=None, chainage=None, numcoordinates='Number of values in xCoordinates and yCoordinates', xcoordinates='x-coordinates of the location of the structure. (number of values = numCoordinates)', ycoordinates='y-coordinates of the location of the structure. (number of values = numCoordinates)', gateloweredgelevel=None, crestlevel=None, crestwidth=None, usevelocityheight=None, type=None, allowedflowdir=None, corrcoeff=None), id='DRL1', name='id', type='orifice', polylinefile=None, branchid='DRL1', chainage=0.5, numcoordinates=None, xcoordinates=None, ycoordinates=None, allowedflowdir='positive', crestlevel=1.6, crestwidth=0.25, gateloweredgelevel=1.85, corrcoeff=0.6, usevelocityheight=False, uselimitflowpos=False, limitflowpos=None, uselimitflowneg=False, limitflowneg=None), Weir(comments=Comments(id=None, name='Given name in the user interface.', polylinefile='*.pli; Polyline geometry definition for 2D structure.', branchid=None, chainage=None, numcoordinates='Number of values in xCoordinates and yCoordinates', xcoordinates='x-coordinates of the location of the structure. (number of values = numCoordinates)', ycoordinates='y-coordinates of the location of the structure. (number of values = numCoordinates)', type=None, allowedflowdir=None, crestlevel=None, crestwidth=None, corrcoeff=None, usevelocityheight=None), id='OVS1', name='id', type='weir', polylinefile=None, branchid='OVS1', chainage=0.5, numcoordinates=None, xcoordinates=None, ycoordinates=None, allowedflowdir='both', crestlevel=2.05, crestwidth=8.0, corrcoeff=0.8, usevelocityheight=False), Weir(comments=Comments(id=None, name='Given name in the user interface.', polylinefile='*.pli; Polyline geometry definition for 2D structure.', branchid=None, chainage=None, numcoordinates='Number of values in xCoordinates and yCoordinates', xcoordinates='x-coordinates of the location of the structure. (number of values = numCoordinates)', ycoordinates='y-coordinates of the location of the structure. (number of values = numCoordinates)', type=None, allowedflowdir=None, crestlevel=None, crestwidth=None, corrcoeff=None, usevelocityheight=None), id='OVS2', name='id', type='weir', polylinefile=None, branchid='OVS2', chainage=0.5, numcoordinates=None, xcoordinates=None, ycoordinates=None, allowedflowdir='both', crestlevel=2.05, crestwidth=8.0, corrcoeff=0.8, usevelocityheight=False), Weir(comments=Comments(id=None, name='Given name in the user interface.', polylinefile='*.pli; Polyline geometry definition for 2D structure.', branchid=None, chainage=None, numcoordinates='Number of values in xCoordinates and yCoordinates', xcoordinates='x-coordinates of the location of the structure. (number of values = numCoordinates)', ycoordinates='y-coordinates of the location of the structure. (number of values = numCoordinates)', type=None, allowedflowdir=None, crestlevel=None, crestwidth=None, corrcoeff=None, usevelocityheight=None), id='OVS3', name='id', type='weir', polylinefile=None, branchid='OVS3', chainage=0.5, numcoordinates=None, xcoordinates=None, ycoordinates=None, allowedflowdir='both', crestlevel=2.18, crestwidth=1.0, corrcoeff=0.8, usevelocityheight=False), Pump(comments=Comments(id=None, name='Given name in the user interface.', polylinefile='*.pli; Polyline geometry definition for 2D structure.', branchid=None, chainage=None, numcoordinates='Number of values in xCoordinates and yCoordinates', xcoordinates='x-coordinates of the location of the structure. (number of values = numCoordinates)', ycoordinates='y-coordinates of the location of the structure. (number of values = numCoordinates)', orientation=None, controlside=None, type=None, stoplevelsuctionside=None, startleveldeliveryside=None, numstages=None, stopleveldeliveryside=None, capacity=None, startlevelsuctionside=None), id='PMP1', name='id', type='pump', polylinefile=None, branchid='PMP1', chainage=0.5, numcoordinates=None, xcoordinates=None, ycoordinates=None, orientation='positive', controlside='suctionSide', numstages=1, capacity=0.015361, startlevelsuctionside=[0.07], stoplevelsuctionside=[-0.43], startleveldeliveryside=[0.0], stopleveldeliveryside=[0.0], numreductionlevels=None, head=None, reductionfactor=None), Pump(comments=Comments(id=None, name='Given name in the user interface.', polylinefile='*.pli; Polyline geometry definition for 2D structure.', branchid=None, chainage=None, numcoordinates='Number of values in xCoordinates and yCoordinates', xcoordinates='x-coordinates of the location of the structure. (number of values = numCoordinates)', ycoordinates='y-coordinates of the location of the structure. (number of values = numCoordinates)', orientation=None, controlside=None, type=None, stoplevelsuctionside=None, startleveldeliveryside=None, numstages=None, stopleveldeliveryside=None, capacity=None, startlevelsuctionside=None), id='PMP2', name='id', type='pump', polylinefile=None, branchid='PMP2', chainage=0.5, numcoordinates=None, xcoordinates=None, ycoordinates=None, orientation='positive', controlside='suctionSide', numstages=1, capacity=0.011111, startlevelsuctionside=[-1.0], stoplevelsuctionside=[-1.49], startleveldeliveryside=[0.0], stopleveldeliveryside=[0.0], numreductionlevels=None, head=None, reductionfactor=None), Compound(comments=Comments(id=None, name='Given name in the user interface.', polylinefile='*.pli; Polyline geometry definition for 2D structure.', branchid=None, chainage=None, numcoordinates='Number of values in xCoordinates and yCoordinates', xcoordinates='x-coordinates of the location of the structure. (number of values = numCoordinates)', ycoordinates='y-coordinates of the location of the structure. (number of values = numCoordinates)', numstructures=None, structureids=None, type=None), id='CompositeBranchStructure_1D_6', name='id', type='compound', polylinefile=None, branchid='DRL1', chainage=0.5, numcoordinates=None, xcoordinates=None, ycoordinates=None, numstructures=1, structureids=['DRL1']), Compound(comments=Comments(id=None, name='Given name in the user interface.', polylinefile='*.pli; Polyline geometry definition for 2D structure.', branchid=None, chainage=None, numcoordinates='Number of values in xCoordinates and yCoordinates', xcoordinates='x-coordinates of the location of the structure. (number of values = numCoordinates)', ycoordinates='y-coordinates of the location of the structure. (number of values = numCoordinates)', numstructures=None, structureids=None, type=None), id='CompositeBranchStructure_1D_1', name='id', type='compound', polylinefile=None, branchid='OVS1', chainage=0.5, numcoordinates=None, xcoordinates=None, ycoordinates=None, numstructures=1, structureids=['OVS1']), Compound(comments=Comments(id=None, name='Given name in the user interface.', polylinefile='*.pli; Polyline geometry definition for 2D structure.', branchid=None, chainage=None, numcoordinates='Number of values in xCoordinates and yCoordinates', xcoordinates='x-coordinates of the location of the structure. (number of values = numCoordinates)', ycoordinates='y-coordinates of the location of the structure. (number of values = numCoordinates)', numstructures=None, structureids=None, type=None), id='CompositeBranchStructure_1D_2', name='id', type='compound', polylinefile=None, branchid='OVS2', chainage=0.5, numcoordinates=None, xcoordinates=None, ycoordinates=None, numstructures=1, structureids=['OVS2']), Compound(comments=Comments(id=None, name='Given name in the user interface.', polylinefile='*.pli; Polyline geometry definition for 2D structure.', branchid=None, chainage=None, numcoordinates='Number of values in xCoordinates and yCoordinates', xcoordinates='x-coordinates of the location of the structure. (number of values = numCoordinates)', ycoordinates='y-coordinates of the location of the structure. (number of values = numCoordinates)', numstructures=None, structureids=None, type=None), id='CompositeBranchStructure_1D_3', name='id', type='compound', polylinefile=None, branchid='OVS3', chainage=0.5, numcoordinates=None, xcoordinates=None, ycoordinates=None, numstructures=1, structureids=['OVS3']), Compound(comments=Comments(id=None, name='Given name in the user interface.', polylinefile='*.pli; Polyline geometry definition for 2D structure.', branchid=None, chainage=None, numcoordinates='Number of values in xCoordinates and yCoordinates', xcoordinates='x-coordinates of the location of the structure. (number of values = numCoordinates)', ycoordinates='y-coordinates of the location of the structure. (number of values = numCoordinates)', numstructures=None, structureids=None, type=None), id='CompositeBranchStructure_1D_4', name='id', type='compound', polylinefile=None, branchid='PMP1', chainage=0.5, numcoordinates=None, xcoordinates=None, ycoordinates=None, numstructures=1, structureids=['PMP1']), Compound(comments=Comments(id=None, name='Given name in the user interface.', polylinefile='*.pli; Polyline geometry definition for 2D structure.', branchid=None, chainage=None, numcoordinates='Number of values in xCoordinates and yCoordinates', xcoordinates='x-coordinates of the location of the structure. (number of values = numCoordinates)', ycoordinates='y-coordinates of the location of the structure. (number of values = numCoordinates)', numstructures=None, structureids=None, type=None), id='CompositeBranchStructure_1D_5', name='id', type='compound', polylinefile=None, branchid='PMP2', chainage=0.5, numcoordinates=None, xcoordinates=None, ycoordinates=None, numstructures=1, structureids=['PMP2'])]\n"
     ]
    }
   ],
   "source": [
    "# Show the hierachy tree of the model\n",
    "model.show_tree()\n",
    "\n",
    "# Get the structure file of the model. \n",
    "# Note that you can have multiple structure files, but this model has only one\n",
    "structure_file = model.geometry.structurefile[0]\n",
    "\n",
    "# Show the list of all the structures\n",
    "print(f\"Number of structures: {len(structure_file.structure)}\")\n",
    "print(structure_file.structure)"
   ]
  },
  {
   "cell_type": "markdown",
   "metadata": {},
   "source": [
    "## Step 3) Adjusting the model"
   ]
  },
  {
   "cell_type": "markdown",
   "metadata": {},
   "source": [
    "### Adding a new structure"
   ]
  },
  {
   "cell_type": "code",
   "execution_count": null,
   "metadata": {},
   "outputs": [],
   "source": []
  }
 ],
 "metadata": {
  "kernelspec": {
   "display_name": "Python 3.9.12 ('.venv': poetry)",
   "language": "python",
   "name": "python3"
  },
  "language_info": {
   "codemirror_mode": {
    "name": "ipython",
    "version": 3
   },
   "file_extension": ".py",
   "mimetype": "text/x-python",
   "name": "python",
   "nbconvert_exporter": "python",
   "pygments_lexer": "ipython3",
   "version": "3.9.12"
  },
  "orig_nbformat": 4,
  "vscode": {
   "interpreter": {
    "hash": "47f13872d0ca9ba2f61a2a47bb808e22317a8797f23b41d3e6e0121e264aaed9"
   }
  }
 },
 "nbformat": 4,
 "nbformat_minor": 2
}
