{
 "cells": [
  {
   "cell_type": "markdown",
   "metadata": {},
   "source": [
    "# Deltares Software Days 2022: Hydrolib-core demo\n",
    "\n",
    "Hydrolib-core is a pip-installable python package. It consists of wrappers around the D-HYDRO model files.\n",
    "Classes in Hydrolib-core are hierarchically organized by file type, and can be accessed via `hydrolib.core.io.<modeltype>.<filetype>.models`.\n",
    "File objects in Hydrolib-core reflect the same structure as the file contents. \n",
    "\n",
    "In this demo, we will load a Flow FM model, make some changes to the model and save it again. "
   ]
  },
  {
   "cell_type": "markdown",
   "metadata": {},
   "source": [
    "## Step 0) Importing the modules "
   ]
  },
  {
   "cell_type": "code",
   "execution_count": 31,
   "metadata": {},
   "outputs": [],
   "source": [
    "from hydrolib.core.io.mdu.models import FMModel\n",
    "from hydrolib.core.io.structure.models import Weir, FlowDirection\n",
    "from pathlib import Path"
   ]
  },
  {
   "cell_type": "markdown",
   "metadata": {},
   "source": [
    "## Step 1) Loading a Flow FM model"
   ]
  },
  {
   "cell_type": "code",
   "execution_count": 32,
   "metadata": {},
   "outputs": [],
   "source": [
    "demo_data_folder = Path.cwd() / \"data\"\n",
    "mdu_file_path = demo_data_folder /\"FlowFM.mdu\"\n",
    "\n",
    "model = FMModel(filepath=mdu_file_path)"
   ]
  },
  {
   "cell_type": "markdown",
   "metadata": {},
   "source": [
    "## Step 2) Inspecting the model"
   ]
  },
  {
   "cell_type": "code",
   "execution_count": 33,
   "metadata": {},
   "outputs": [
    {
     "name": "stdout",
     "output_type": "stream",
     "text": [
      "  d:\\checkouts\\HydroLib-core\\HydroLib-core_1\\docs\\tutorials\\dsd_2022_demo\\data\\FlowFM.mdu\n",
      "    Geometry\n",
      "     ∟ FlowFM_net.nc\n",
      "     ∟ structures.ini\n",
      "     ∟ initialFields.ini\n",
      "     ∟ roughness-Channels.ini\n",
      "     ∟ roughness-Main.ini\n",
      "     ∟ roughness-Sewer.ini\n",
      "     ∟ roughness-FloodPlain1.ini\n",
      "     ∟ roughness-FloodPlain2.ini\n",
      "     ∟ crsdef.ini\n",
      "     ∟ crsloc.ini\n",
      "     ∟ nodeFile.ini\n",
      "    ExternalForcing\n",
      "     ∟ FlowFM_bnd.ext\n",
      "       ∟ Lateral\n",
      "         ∟ FlowFM_lateral_sources.bc\n",
      "       ∟ Lateral\n",
      "         ∟ FlowFM_lateral_sources.bc\n",
      "       ∟ Lateral\n",
      "       ∟ Lateral\n",
      "       ∟ Lateral\n",
      "         ∟ FlowFM_lateral_sources.bc\n",
      "       ∟ Lateral\n",
      "         ∟ FlowFM_lateral_sources.bc\n",
      "       ∟ Lateral\n",
      "         ∟ FlowFM_lateral_sources.bc\n",
      "    Output\n",
      "     ∟ obsFile1D_obs.ini\n",
      "Number of structures: 10\n",
      "[Pump(comments=Comments(id=None, name=None, polylinefile='*.pli; Polyline geometry definition for 2D structure.', branchid=None, chainage=None, numcoordinates='Number of values in xCoordinates and yCoordinates', xcoordinates='x-coordinates of the location of the structure. (number of values = numCoordinates)', ycoordinates='y-coordinates of the location of the structure. (number of values = numCoordinates)', stoplevelsuctionside=None, startleveldeliveryside=None, head=None, capacity=None, numreductionlevels=None, reductionfactor=None, orientation=None, controlside=None, type=None, numstages=None, stopleveldeliveryside=None, startlevelsuctionside=None), id='636', name='De Poale 34 m3/min', type='pump', polylinefile=None, branchid='164', chainage=610.198737, numcoordinates=None, xcoordinates=None, ycoordinates=None, orientation='positive', controlside='suctionSide', numstages=1, capacity=0.567, startlevelsuctionside=[-0.1], stoplevelsuctionside=[-0.2], startleveldeliveryside=[0.0], stopleveldeliveryside=[0.0], numreductionlevels=1, head=[0.0], reductionfactor=[1.0]), UniversalWeir(comments=Comments(id=None, name='Given name in the user interface.', polylinefile='*.pli; Polyline geometry definition for 2D structure.', branchid=None, chainage=None, numcoordinates='Number of values in xCoordinates and yCoordinates', xcoordinates='x-coordinates of the location of the structure. (number of values = numCoordinates)', ycoordinates='y-coordinates of the location of the structure. (number of values = numCoordinates)', type=None, allowedflowdir=None, numlevels=None, yvalues=None, zvalues=None, crestlevel=None, dischargecoeff=None), id='DV-1472', name='id', type='universalWeir', polylinefile=None, branchid='456', chainage=55.690608, numcoordinates=None, xcoordinates=None, ycoordinates=None, allowedflowdir='both', numlevels=165, yvalues=[0.0, 4.949, 9.898, 14.847, 19.796, 24.745, 29.694, 34.644, 39.593, 44.542, 49.491, 54.44, 59.389, 64.338, 69.287, 74.236, 79.185, 84.134, 89.083, 94.033, 98.982, 103.931, 108.88, 113.829, 118.778, 123.727, 128.676, 133.625, 138.574, 143.523, 148.33, 153.136, 157.942, 162.748, 167.554, 172.36, 177.166, 181.973, 186.779, 191.585, 196.391, 201.197, 205.94, 210.683, 215.426, 220.17, 224.913, 229.656, 234.399, 239.142, 243.885, 248.628, 253.371, 258.114, 262.857, 267.601, 272.346, 277.09, 281.834, 286.578, 291.323, 296.067, 300.811, 305.555, 310.299, 315.049, 319.799, 324.549, 329.299, 334.049, 338.799, 343.548, 348.298, 353.048, 357.798, 362.559, 367.319, 372.08, 376.841, 381.601, 386.362, 391.123, 395.883, 400.644, 405.405, 410.165, 414.926, 419.949, 424.972, 429.996, 435.019, 440.042, 445.065, 450.088, 455.111, 460.033, 464.955, 469.877, 474.798, 479.72, 484.642, 489.564, 494.486, 499.407, 504.329, 509.251, 514.173, 519.095, 524.119, 529.144, 534.169, 539.193, 544.218, 549.243, 554.267, 559.292, 564.316, 569.341, 574.366, 579.39, 584.415, 589.44, 594.464, 599.489, 604.514, 609.538, 614.563, 619.588, 624.426, 629.265, 634.104, 638.942, 643.781, 648.62, 653.458, 658.297, 663.136, 667.975, 672.813, 677.652, 682.491, 687.329, 692.168, 697.007, 701.845, 706.684, 711.523, 716.361, 721.417, 726.472, 731.527, 736.582, 741.637, 746.692, 751.747, 756.803, 761.858, 766.913, 771.968, 777.023, 782.012, 787.0, 791.989, 796.977, 801.966], zvalues=[1.2, 1.104, 1.037, 1.008, 0.934, 1.008, 1.015, 0.974, 0.94, 0.916, 0.881, 0.976, 0.941, 0.994, 0.978, 0.978, 0.942, 0.94, 0.915, 0.867, 0.825, 0.769, 0.799, 0.813, 0.739, 0.782, 0.762, 0.755, 0.741, 0.7, 0.658, 0.624, 0.587, 0.602, 0.566, 0.553, 0.567, 0.557, 0.59, 0.595, 0.569, 0.539, 0.498, 0.445, 0.41, 0.488, 0.493, 0.451, 0.442, 0.529, 0.561, 0.558, 0.565, 0.59, 0.605, 0.586, 0.573, 0.59, 0.599, 0.658, 0.686, 0.755, 0.736, 0.669, 0.596, 0.633, 0.642, 0.642, 0.617, 0.589, 0.643, 0.688, 0.677, 0.618, 0.529, 0.51, 0.523, 0.487, 0.469, 0.438, 0.436, 0.554, 0.56, 0.552, 0.486, 0.462, 0.4, 0.357, 0.405, 0.391, 0.355, 0.458, 0.2, 0.434, 0.475, 0.454, 0.454, 0.445, 0.464, 0.476, 0.423, 0.427, 0.434, 0.434, 0.481, 0.488, 0.502, 0.525, 0.529, 0.533, 0.561, 0.669, 0.754, 0.817, 0.805, 0.7, 0.298, 0.33, 0.644, 0.618, 0.637, 0.631, 0.637, 0.54, 0.591, 0.656, 0.634, 0.615, 0.588, 0.569, 0.513, 0.409, 0.359, 0.284, 0.292, 0.308, 0.292, 0.312, 0.249, 0.268, 0.333, 0.361, 0.288, 0.277, 0.267, 0.356, 0.272, 0.235, 0.229, 0.326, 0.25, 0.291, 0.276, 0.302, 0.2, 0.407, 0.623, 0.686, 0.756, 0.797, 0.926, 0.996, 1.126, 1.217, 1.315], crestlevel=0.2, dischargecoeff=1.0), Orifice(comments=Comments(id=None, name='Given name in the user interface.', polylinefile='*.pli; Polyline geometry definition for 2D structure.', branchid=None, chainage=None, numcoordinates='Number of values in xCoordinates and yCoordinates', xcoordinates='x-coordinates of the location of the structure. (number of values = numCoordinates)', ycoordinates='y-coordinates of the location of the structure. (number of values = numCoordinates)', gateloweredgelevel=None, crestlevel=None, crestwidth=None, usevelocityheight=None, type=None, allowedflowdir=None, corrcoeff=None), id='8_1476', name='id', type='orifice', polylinefile=None, branchid='457', chainage=211.274378, numcoordinates=None, xcoordinates=None, ycoordinates=None, allowedflowdir='positive', crestlevel=-1.0, crestwidth=1.15, gateloweredgelevel=3.0, corrcoeff=0.63, usevelocityheight=True, uselimitflowpos=False, limitflowpos=None, uselimitflowneg=False, limitflowneg=None), Weir(comments=Comments(id=None, name='Given name in the user interface.', polylinefile='*.pli; Polyline geometry definition for 2D structure.', branchid=None, chainage=None, numcoordinates='Number of values in xCoordinates and yCoordinates', xcoordinates='x-coordinates of the location of the structure. (number of values = numCoordinates)', ycoordinates='y-coordinates of the location of the structure. (number of values = numCoordinates)', type=None, allowedflowdir=None, crestlevel=None, crestwidth=None, corrcoeff=None, usevelocityheight=None), id='DV_1471', name='id', type='weir', polylinefile=None, branchid='458', chainage=106.277467, numcoordinates=None, xcoordinates=None, ycoordinates=None, allowedflowdir='both', crestlevel=0.4, crestwidth=40.0, corrcoeff=1.0, usevelocityheight=True), Pump(comments=Comments(id=None, name='Given name in the user interface.', polylinefile='*.pli; Polyline geometry definition for 2D structure.', branchid=None, chainage=None, numcoordinates='Number of values in xCoordinates and yCoordinates', xcoordinates='x-coordinates of the location of the structure. (number of values = numCoordinates)', ycoordinates='y-coordinates of the location of the structure. (number of values = numCoordinates)', numreductionlevels=None, reductionfactor=None, orientation=None, controlside=None, type=None, stoplevelsuctionside=None, startleveldeliveryside=None, numstages=None, stopleveldeliveryside=None, head=None, capacity=None, startlevelsuctionside=None), id='DV_8_216', name='id', type='pump', polylinefile=None, branchid='459', chainage=174.381882, numcoordinates=None, xcoordinates=None, ycoordinates=None, orientation='positive', controlside='suctionSide', numstages=1, capacity=0.05, startlevelsuctionside=[0.4], stoplevelsuctionside=[0.0], startleveldeliveryside=[0.0], stopleveldeliveryside=[0.0], numreductionlevels=1, head=[0.0], reductionfactor=[1.0]), Compound(comments=Comments(id=None, name=None, polylinefile='*.pli; Polyline geometry definition for 2D structure.', branchid=None, chainage=None, numcoordinates='Number of values in xCoordinates and yCoordinates', xcoordinates='x-coordinates of the location of the structure. (number of values = numCoordinates)', ycoordinates='y-coordinates of the location of the structure. (number of values = numCoordinates)', numstructures=None, structureids=None, type=None), id='636 [compound]', name='De Poale 34 m3/min', type='compound', polylinefile=None, branchid='164', chainage=610.198737, numcoordinates=None, xcoordinates=None, ycoordinates=None, numstructures=1, structureids=['636']), Compound(comments=Comments(id=None, name='Given name in the user interface.', polylinefile='*.pli; Polyline geometry definition for 2D structure.', branchid=None, chainage=None, numcoordinates='Number of values in xCoordinates and yCoordinates', xcoordinates='x-coordinates of the location of the structure. (number of values = numCoordinates)', ycoordinates='y-coordinates of the location of the structure. (number of values = numCoordinates)', numstructures=None, structureids=None, type=None), id='DV-1472 [compound]', name='id', type='compound', polylinefile=None, branchid='456', chainage=55.690608, numcoordinates=None, xcoordinates=None, ycoordinates=None, numstructures=1, structureids=['DV-1472']), Compound(comments=Comments(id=None, name='Given name in the user interface.', polylinefile='*.pli; Polyline geometry definition for 2D structure.', branchid=None, chainage=None, numcoordinates='Number of values in xCoordinates and yCoordinates', xcoordinates='x-coordinates of the location of the structure. (number of values = numCoordinates)', ycoordinates='y-coordinates of the location of the structure. (number of values = numCoordinates)', numstructures=None, structureids=None, type=None), id='8_1476 [compound]', name='id', type='compound', polylinefile=None, branchid='457', chainage=211.274378, numcoordinates=None, xcoordinates=None, ycoordinates=None, numstructures=1, structureids=['8_1476']), Compound(comments=Comments(id=None, name='Given name in the user interface.', polylinefile='*.pli; Polyline geometry definition for 2D structure.', branchid=None, chainage=None, numcoordinates='Number of values in xCoordinates and yCoordinates', xcoordinates='x-coordinates of the location of the structure. (number of values = numCoordinates)', ycoordinates='y-coordinates of the location of the structure. (number of values = numCoordinates)', numstructures=None, structureids=None, type=None), id='DV_1471 [compound]', name='id', type='compound', polylinefile=None, branchid='458', chainage=106.277467, numcoordinates=None, xcoordinates=None, ycoordinates=None, numstructures=1, structureids=['DV_1471']), Compound(comments=Comments(id=None, name='Given name in the user interface.', polylinefile='*.pli; Polyline geometry definition for 2D structure.', branchid=None, chainage=None, numcoordinates='Number of values in xCoordinates and yCoordinates', xcoordinates='x-coordinates of the location of the structure. (number of values = numCoordinates)', ycoordinates='y-coordinates of the location of the structure. (number of values = numCoordinates)', numstructures=None, structureids=None, type=None), id='DV_8_216 [compound]', name='id', type='compound', polylinefile=None, branchid='459', chainage=174.381882, numcoordinates=None, xcoordinates=None, ycoordinates=None, numstructures=1, structureids=['DV_8_216'])]\n"
     ]
    }
   ],
   "source": [
    "# Show the hierachy tree of the model\n",
    "model.show_tree()\n",
    "\n",
    "# Get the structure file of the model. \n",
    "# Note that you can have multiple structure files, but this model has only one\n",
    "assert model.geometry.structurefile is not None\n",
    "structure_file = model.geometry.structurefile[0]\n",
    "\n",
    "# Show the list of all the structures\n",
    "print(f\"Number of structures: {len(structure_file.structure)}\")\n",
    "print(structure_file.structure)"
   ]
  },
  {
   "cell_type": "markdown",
   "metadata": {},
   "source": [
    "## Step 3) Adjusting the model"
   ]
  },
  {
   "cell_type": "markdown",
   "metadata": {},
   "source": [
    "### Adding a new structure"
   ]
  },
  {
   "cell_type": "code",
   "execution_count": 34,
   "metadata": {},
   "outputs": [
    {
     "name": "stdout",
     "output_type": "stream",
     "text": [
      "Number of structures: 11\n"
     ]
    }
   ],
   "source": [
    "# Create a new weir.\n",
    "weir = Weir(\n",
    "    id=\"DV_1471\", \n",
    "    branchId=\"458\", \n",
    "    chainage=106.277467, \n",
    "    allowedFlowDir=FlowDirection.both, \n",
    "    crestLevel=0.400, \n",
    "    crestWidth=40.000, \n",
    "    corrCoeff=1.000, \n",
    "    useVelocityHeight=True\n",
    ")\n",
    "\n",
    "# It is also possible to create objects, by passing a dictionary.\n",
    "weir_data = {\n",
    "    \"id\": \"DV_1471\", \n",
    "    \"branchId\": \"458\", \n",
    "    \"chainage\": 106.277467, \n",
    "    \"allowedFlowDir\": FlowDirection.both, \n",
    "    \"crestLevel\": 0.400, \n",
    "    \"crestWidth\": 40.000, \n",
    "    \"corrCoeff\": 1.000, \n",
    "    \"useVelocityHeight\": True\n",
    "}\n",
    "weir = Weir(**weir_data)\n",
    "\n",
    "# Add the weir to the model\n",
    "structure_file.structure.append(weir)\n",
    "\n",
    "print(f\"Number of structures: {len(structure_file.structure)}\")\n"
   ]
  },
  {
   "cell_type": "markdown",
   "metadata": {},
   "source": [
    "### Adjust some parameters of the model"
   ]
  },
  {
   "cell_type": "code",
   "execution_count": 36,
   "metadata": {},
   "outputs": [],
   "source": [
    "model.physics.backgroundsalinity = 30 # [ppt]\n",
    "model.physics.backgroundwatertemperature = 6 # [°C]\n",
    "model.time.dtuser = 900 # [s]"
   ]
  },
  {
   "cell_type": "code",
   "execution_count": null,
   "metadata": {},
   "outputs": [],
   "source": []
  }
 ],
 "metadata": {
  "kernelspec": {
   "display_name": "Python 3.9.12 ('.venv': poetry)",
   "language": "python",
   "name": "python3"
  },
  "language_info": {
   "codemirror_mode": {
    "name": "ipython",
    "version": 3
   },
   "file_extension": ".py",
   "mimetype": "text/x-python",
   "name": "python",
   "nbconvert_exporter": "python",
   "pygments_lexer": "ipython3",
   "version": "3.9.12"
  },
  "orig_nbformat": 4,
  "vscode": {
   "interpreter": {
    "hash": "47f13872d0ca9ba2f61a2a47bb808e22317a8797f23b41d3e6e0121e264aaed9"
   }
  }
 },
 "nbformat": 4,
 "nbformat_minor": 2
}
