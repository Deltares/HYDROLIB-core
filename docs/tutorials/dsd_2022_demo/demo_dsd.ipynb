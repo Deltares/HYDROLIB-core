{
 "cells": [
  {
   "cell_type": "markdown",
   "metadata": {},
   "source": [
    "# Deltares Software Days 2022: Hydrolib-core demo\n",
    "\n",
    "Hydrolib-core is a pip-installable python package. It consists of wrappers around the D-HYDRO model files.\n",
    "Classes in Hydrolib-core are hierarchically organized by file type, and can be accessed via `hydrolib.core.io.<modeltype>.<filetype>.models`.\n",
    "File objects in Hydrolib-core reflect the same structure as the file contents. \n",
    "\n",
    "In this demo, we will load a Flow FM model, make some changes to the model and save it again. "
   ]
  },
  {
   "cell_type": "markdown",
   "metadata": {},
   "source": [
    "## Step 0) Importing the modules "
   ]
  },
  {
   "cell_type": "code",
   "execution_count": null,
   "metadata": {},
   "outputs": [],
   "source": [
    "from hydrolib.core.io.mdu.models import FMModel\n",
    "from hydrolib.core.io.structure.models import Weir, FlowDirection\n",
    "from pathlib import Path"
   ]
  },
  {
   "cell_type": "markdown",
   "metadata": {},
   "source": [
    "## Step 1) Loading a Flow FM model"
   ]
  },
  {
   "cell_type": "code",
   "execution_count": null,
   "metadata": {},
   "outputs": [],
   "source": [
    "demo_data_folder = Path.cwd() / \"data\"\n",
    "mdu_file_path = demo_data_folder /\"FlowFM.mdu\"\n",
    "\n",
    "model = FMModel(filepath=mdu_file_path)\n",
    "print(f\"Loaded the model from {model.filepath}\")"
   ]
  },
  {
   "cell_type": "markdown",
   "metadata": {},
   "source": [
    "## Step 2) Inspecting the model"
   ]
  },
  {
   "cell_type": "code",
   "execution_count": null,
   "metadata": {},
   "outputs": [],
   "source": [
    "# Show the hierachy tree of the model\n",
    "model.show_tree()\n",
    "\n",
    "# Get the structure file of the model. \n",
    "# Note that you can have multiple structure files, but this model has only one\n",
    "assert model.geometry.structurefile is not None\n",
    "structure_file = model.geometry.structurefile[0]\n",
    "\n",
    "# Show the list of all the structures\n",
    "print(f\"Number of structures: {len(structure_file.structure)}\")\n",
    "print(structure_file.structure)"
   ]
  },
  {
   "cell_type": "markdown",
   "metadata": {},
   "source": [
    "## Step 3) Adjusting the model"
   ]
  },
  {
   "cell_type": "markdown",
   "metadata": {},
   "source": [
    "### Adding a new structure"
   ]
  },
  {
   "cell_type": "code",
   "execution_count": null,
   "metadata": {},
   "outputs": [],
   "source": [
    "# Create a new weir.\n",
    "weir = Weir(\n",
    "    id=\"DV_1471\", \n",
    "    branchId=\"458\", \n",
    "    chainage=106.277467, \n",
    "    allowedFlowDir=FlowDirection.both, \n",
    "    crestLevel=0.400, \n",
    "    crestWidth=40.000, \n",
    "    corrCoeff=1.000, \n",
    "    useVelocityHeight=True\n",
    ")\n",
    "\n",
    "# It is also possible to create objects, by passing a dictionary.\n",
    "weir_data = {\n",
    "    \"id\": \"DV_1471\", \n",
    "    \"branchId\": \"458\", \n",
    "    \"chainage\": 106.277467, \n",
    "    \"allowedFlowDir\": FlowDirection.both, \n",
    "    \"crestLevel\": 0.400, \n",
    "    \"crestWidth\": 40.000, \n",
    "    \"corrCoeff\": 1.000, \n",
    "    \"useVelocityHeight\": True\n",
    "}\n",
    "weir = Weir(**weir_data)\n",
    "\n",
    "# Add the weir to the model\n",
    "structure_file.structure.append(weir)\n",
    "\n",
    "print(f\"Number of structures: {len(structure_file.structure)}\")\n"
   ]
  },
  {
   "cell_type": "markdown",
   "metadata": {},
   "source": [
    "### Adjusting some parameters of the model"
   ]
  },
  {
   "cell_type": "code",
   "execution_count": null,
   "metadata": {},
   "outputs": [],
   "source": [
    "model.physics.backgroundsalinity = 30 # [ppt]\n",
    "model.physics.backgroundwatertemperature = 6 # [°C]\n",
    "model.time.dtuser = 900 # [s]"
   ]
  },
  {
   "cell_type": "markdown",
   "metadata": {},
   "source": [
    "## Saving the model\n",
    "If we save the model now, it will overwrite the current model files.\n",
    "So let's save it in a different location."
   ]
  },
  {
   "cell_type": "code",
   "execution_count": null,
   "metadata": {},
   "outputs": [],
   "source": [
    "print(f\"The original model is located at {model.filepath}\")\n",
    "\n",
    "model.filepath = demo_data_folder / \"save\" / \"FlowFM.mdu\"\n",
    "\n",
    "# Set recurse to True to make sure that not only the MDU file is saved, but also the child model files.\n",
    "model.save(recurse=True)\n",
    "\n",
    "print(f\"The saved model is located at {model.filepath}\")"
   ]
  },
  {
   "cell_type": "markdown",
   "metadata": {},
   "source": [
    "### Saving a \"child\" model\n",
    "It is also possible to save individual child model files, such as the cross section definition file."
   ]
  },
  {
   "cell_type": "code",
   "execution_count": null,
   "metadata": {},
   "outputs": [],
   "source": [
    "crossdef_file = model.geometry.crossdeffile\n",
    "assert crossdef_file is not None\n",
    "\n",
    "crossdef_file.filepath = demo_data_folder / \"save_crossdef\" / \"crsdef.ini\"\n",
    "crossdef_file.save()\n"
   ]
  }
 ],
 "metadata": {
  "kernelspec": {
   "display_name": "Python 3.9.12 ('.venv': poetry)",
   "language": "python",
   "name": "python3"
  },
  "language_info": {
   "codemirror_mode": {
    "name": "ipython",
    "version": 3
   },
   "file_extension": ".py",
   "mimetype": "text/x-python",
   "name": "python",
   "nbconvert_exporter": "python",
   "pygments_lexer": "ipython3",
   "version": "3.9.12"
  },
  "orig_nbformat": 4,
  "vscode": {
   "interpreter": {
    "hash": "47f13872d0ca9ba2f61a2a47bb808e22317a8797f23b41d3e6e0121e264aaed9"
   }
  }
 },
 "nbformat": 4,
 "nbformat_minor": 2
}
