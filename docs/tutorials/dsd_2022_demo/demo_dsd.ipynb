{
 "cells": [
  {
   "cell_type": "markdown",
   "metadata": {},
   "source": [
    "# **Deltares Software Days 2022: A simple hydrolib-core demo**\n",
    "\n",
    "Hydrolib-core is a pip-installable python package. \n",
    "It consists of wrappers around the D-HYDRO model files.\n",
    "\n",
    "Classes in Hydrolib-core are hierarchically organized by file type, and can be accessed via `hydrolib.core.io.<filetype>.models`.\n",
    "\n",
    "File objects in Hydrolib-core reflect the same structure as the file contents. \n",
    "\n",
    "In this demo, we will load a Flow FM model, make some changes to the model and save it again."
   ]
  },
  {
   "cell_type": "markdown",
   "metadata": {},
   "source": [
    "💡 **Tips for working in the Jupyter Notebook:**\n",
    "* **Tab**: Auto-complete on code\n",
    "* **Ctrl**+**Enter**: Run cell \n",
    "* **Shift**+**Enter**: Run cell and move to next cell \n",
    "* **Ctrl**+**Shift**+**P**: Open command palette"
   ]
  },
  {
   "cell_type": "markdown",
   "metadata": {},
   "source": [
    "## **Step 0) Importing the modules and setting the path variables**"
   ]
  },
  {
   "cell_type": "code",
   "execution_count": null,
   "metadata": {},
   "outputs": [],
   "source": [
    "from hydrolib.core.dflowfm import (\n",
    "    FMModel,\n",
    "    Lateral,\n",
    "    Weir, FlowDirection\n",
    ")\n",
    "from pathlib import Path\n",
    "\n",
    "root = Path.cwd()\n",
    "demo_data_folder = root / \"data\"\n",
    "work_folder = root / \"work\""
   ]
  },
  {
   "cell_type": "markdown",
   "metadata": {},
   "source": [
    "## **Step 1) Loading a Flow FM model**"
   ]
  },
  {
   "cell_type": "code",
   "execution_count": null,
   "metadata": {},
   "outputs": [],
   "source": [
    "mdu_file_path = demo_data_folder / \"FlowFM.mdu\"\n",
    "model = FMModel(filepath=mdu_file_path)\n",
    "\n",
    "print(f\"Loaded the model from {model.filepath}\")"
   ]
  },
  {
   "cell_type": "markdown",
   "metadata": {},
   "source": [
    "## **Step 2) Inspecting the model**\n",
    "\n",
    "We can see the hierarchy tree of the model by calling the following function:"
   ]
  },
  {
   "cell_type": "code",
   "execution_count": null,
   "metadata": {},
   "outputs": [],
   "source": [
    "model.show_tree()"
   ]
  },
  {
   "cell_type": "markdown",
   "metadata": {},
   "source": [
    "We can also inspect sub-parts of the model, like the structures.\n",
    "\n",
    "Note that a model can have multiple structure files, but this model only has one, so we will get the first and only one."
   ]
  },
  {
   "cell_type": "code",
   "execution_count": null,
   "metadata": {},
   "outputs": [],
   "source": [
    "assert model.geometry.structurefile is not None\n",
    "structure_file = model.geometry.structurefile[0]\n",
    "\n",
    "# Show the list of all the structures\n",
    "print(f\"Number of structures: {len(structure_file.structure)}\")\n",
    "print(structure_file.structure)"
   ]
  },
  {
   "cell_type": "markdown",
   "metadata": {},
   "source": [
    "## **Step 3) Adjusting the model**"
   ]
  },
  {
   "cell_type": "markdown",
   "metadata": {},
   "source": [
    "### **a) Creating a new weir and adding it to the structures**"
   ]
  },
  {
   "cell_type": "code",
   "execution_count": null,
   "metadata": {},
   "outputs": [],
   "source": [
    "# Create a new weir.\n",
    "weir = Weir(\n",
    "    id=\"DV_1471\", \n",
    "    branchId=\"458\", \n",
    "    chainage=106.277467, \n",
    "    allowedFlowDir=FlowDirection.both, \n",
    "    crestLevel=0.400, \n",
    "    crestWidth=40.000, \n",
    "    corrCoeff=1.000, \n",
    "    useVelocityHeight=True\n",
    ")\n",
    "\n",
    "# It is also possible to create objects with a dictionary.\n",
    "weir_data = {\n",
    "    \"id\": \"DV_1471\", \n",
    "    \"branchId\": \"458\", \n",
    "    \"chainage\": 106.277467, \n",
    "    \"allowedFlowDir\": FlowDirection.both, \n",
    "    \"crestLevel\": 0.400, \n",
    "    \"crestWidth\": 40.000, \n",
    "    \"corrCoeff\": 1.000, \n",
    "    \"useVelocityHeight\": True\n",
    "}\n",
    "weir = Weir(**weir_data)\n",
    "\n",
    "# Add the weir to the model\n",
    "structure_file.structure.append(weir)\n",
    "\n",
    "print(f\"Number of structures: {len(structure_file.structure)}\")\n"
   ]
  },
  {
   "cell_type": "markdown",
   "metadata": {},
   "source": [
    "### **b) Adjusting some parameters of the model**"
   ]
  },
  {
   "cell_type": "code",
   "execution_count": null,
   "metadata": {},
   "outputs": [],
   "source": [
    "model.physics.backgroundsalinity = 30 # [ppt]\n",
    "model.physics.backgroundwatertemperature = 6 # [°C]\n",
    "model.time.dtuser = 900 # [s]"
   ]
  },
  {
   "cell_type": "markdown",
   "metadata": {},
   "source": [
    "Hydrolib-core offers **instant validation** of objects that are created, either by loading them from file or by manually creating them. This makes it easier for users to create valid models.\n",
    "\n",
    "A lateral, like many other objects, should have a valid location specification, specified by:\n",
    "* A node id,\n",
    "* A branch id with a chainage, or\n",
    "* Coordinates\n",
    "\n",
    "Let's create an invalid Lateral. We \"forget\" to specify a chainage."
   ]
  },
  {
   "cell_type": "code",
   "execution_count": null,
   "metadata": {},
   "outputs": [],
   "source": [
    "try:\n",
    "    lateral = Lateral(\n",
    "        id=\"lateral_1\",\n",
    "        name=\"lateral_1\",\n",
    "        branchid=\"branch_a\",\n",
    "        discharge=\"realtime\"\n",
    "    )\n",
    "\n",
    "except ValueError as error:\n",
    "    print(error)"
   ]
  },
  {
   "cell_type": "markdown",
   "metadata": {},
   "source": [
    "Now let's create a valid lateral."
   ]
  },
  {
   "cell_type": "code",
   "execution_count": null,
   "metadata": {},
   "outputs": [],
   "source": [
    "lateral = Lateral(\n",
    "    id=\"lateral_1\",\n",
    "    name=\"lateral_1\",\n",
    "    branchid=\"branch_a\",\n",
    "    chainage=100,\n",
    "    discharge=\"realtime\"\n",
    ")\n",
    "\n",
    "print(\"Lateral with branch id and chainage is correct!\")"
   ]
  },
  {
   "cell_type": "markdown",
   "metadata": {},
   "source": [
    "## **Step 5) Saving the model**\n",
    "If we save the model now, it will overwrite the current model files.\n",
    "So let's save it in a different location."
   ]
  },
  {
   "cell_type": "code",
   "execution_count": null,
   "metadata": {},
   "outputs": [],
   "source": [
    "print(f\"The original model is located at {model.filepath}\")\n",
    "\n",
    "save_mdu_file_path = work_folder / \"save_model\" / \"FlowFM.mdu\"\n",
    "model.filepath = save_mdu_file_path\n",
    "\n",
    "# Set recurse to True. If it is False, only the MDU file will be saved.\n",
    "model.save(recurse=True)\n",
    "\n",
    "print(f\"The saved model is located at {model.filepath}\")"
   ]
  },
  {
   "cell_type": "markdown",
   "metadata": {},
   "source": [
    "### **Saving only a sub-part of the model**\n",
    "It is also possible to save individual child model files, such as the cross section definition file."
   ]
  },
  {
   "cell_type": "code",
   "execution_count": null,
   "metadata": {},
   "outputs": [],
   "source": [
    "crossdef_file = model.geometry.crossdeffile\n",
    "assert crossdef_file is not None\n",
    "\n",
    "crossdef_file.filepath = work_folder / \"save_crossdef\" / \"crsdef.ini\"\n",
    "crossdef_file.save()\n",
    "\n",
    "print(f\"The saved cross section definition model is located at {crossdef_file.filepath}\")"
   ]
  },
  {
   "cell_type": "code",
   "execution_count": null,
   "metadata": {},
   "outputs": [],
   "source": []
  }
 ],
 "metadata": {
  "kernelspec": {
   "display_name": "Python 3 (ipykernel)",
   "language": "python",
   "name": "python3"
  },
  "language_info": {
   "codemirror_mode": {
    "name": "ipython",
    "version": 3
   },
   "file_extension": ".py",
   "mimetype": "text/x-python",
   "name": "python",
   "nbconvert_exporter": "python",
   "pygments_lexer": "ipython3",
   "version": "3.8.8"
  },
  "vscode": {
   "interpreter": {
    "hash": "47f13872d0ca9ba2f61a2a47bb808e22317a8797f23b41d3e6e0121e264aaed9"
   }
  }
 },
 "nbformat": 4,
 "nbformat_minor": 2
}
