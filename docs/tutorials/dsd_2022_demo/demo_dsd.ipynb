{
 "cells": [
  {
   "cell_type": "markdown",
   "metadata": {},
   "source": [
    "# **Deltares Software Days 2022: A simple hydrolib-core demo**\n",
    "\n",
    "Hydrolib-core is a pip-installable python package. \n",
    "It consists of wrappers around the D-HYDRO model files.\n",
    "\n",
    "Classes in Hydrolib-core are hierarchically organized by file type, and can be accessed via `hydrolib.core.io.<filetype>.models`.\n",
    "\n",
    "File objects in Hydrolib-core reflect the same structure as the file contents. \n",
    "\n",
    "In this demo, we will load a Flow FM model, make some changes to the model and save it again."
   ]
  },
  {
   "cell_type": "markdown",
   "metadata": {},
   "source": [
    "💡 **Tips for working in the Jupyter Notebook:**\n",
    "* **Tab**: Auto-complete on code\n",
    "* **Ctrl**+**Enter**: Run cell \n",
    "* **Shift**+**Enter**: Run cell and move to next cell \n",
    "* **Ctrl**+**Shift**+**P**: Open command palette"
   ]
  },
  {
   "cell_type": "markdown",
   "metadata": {},
   "source": [
    "## **Step 0) Importing the modules and setting the path variables**"
   ]
  },
  {
   "cell_type": "code",
   "metadata": {
    "ExecuteTime": {
     "end_time": "2025-10-14T12:59:13.288618Z",
     "start_time": "2025-10-14T12:59:11.578851Z"
    }
   },
   "source": [
    "from hydrolib.core.dflowfm import (\n",
    "    FMModel,\n",
    "    Lateral,\n",
    "    Weir, FlowDirection\n",
    ")\n",
    "from pathlib import Path\n",
    "\n",
    "root = Path.cwd()\n",
    "demo_data_folder = root / \"data\"\n",
    "work_folder = root / \"work\""
   ],
   "outputs": [],
   "execution_count": 1
  },
  {
   "cell_type": "markdown",
   "metadata": {},
   "source": [
    "## **Step 1) Loading a Flow FM model**"
   ]
  },
  {
   "cell_type": "code",
   "metadata": {
    "ExecuteTime": {
     "end_time": "2025-10-14T12:59:13.457691Z",
     "start_time": "2025-10-14T12:59:13.297626Z"
    }
   },
   "source": [
    "mdu_file_path = demo_data_folder / \"FlowFM.mdu\"\n",
    "model = FMModel(filepath=mdu_file_path)\n",
    "\n",
    "print(f\"Loaded the model from {model.filepath}\")"
   ],
   "outputs": [
    {
     "name": "stdout",
     "output_type": "stream",
     "text": [
      "Loaded the model from C:\\gdrive\\algorithms\\deltares\\HYDROLIB-core\\docs\\tutorials\\dsd_2022_demo\\data\\FlowFM.mdu\n"
     ]
    }
   ],
   "execution_count": 2
  },
  {
   "cell_type": "markdown",
   "metadata": {},
   "source": [
    "## **Step 2) Inspecting the model**\n",
    "\n",
    "We can see the hierarchy tree of the model by calling the following function:"
   ]
  },
  {
   "cell_type": "code",
   "metadata": {
    "ExecuteTime": {
     "end_time": "2025-10-14T12:59:13.507229Z",
     "start_time": "2025-10-14T12:59:13.499228Z"
    }
   },
   "source": [
    "model.show_tree()"
   ],
   "outputs": [
    {
     "name": "stdout",
     "output_type": "stream",
     "text": [
      "  C:\\gdrive\\algorithms\\deltares\\HYDROLIB-core\\docs\\tutorials\\dsd_2022_demo\\data\\FlowFM.mdu\n",
      "    Geometry\n",
      "     ∟ FlowFM_net.nc\n",
      "     ∟ structures.ini\n",
      "     ∟ initialFields.ini\n",
      "     ∟ roughness-Channels.ini\n",
      "     ∟ roughness-Main.ini\n",
      "     ∟ roughness-Sewer.ini\n",
      "     ∟ roughness-FloodPlain1.ini\n",
      "     ∟ roughness-FloodPlain2.ini\n",
      "     ∟ crsdef.ini\n",
      "     ∟ crsloc.ini\n",
      "     ∟ nodeFile.ini\n",
      "    ExternalForcing\n",
      "     ∟ FlowFM_bnd.ext\n",
      "       ∟ Lateral\n",
      "         ∟ FlowFM_lateral_sources.bc\n",
      "       ∟ Lateral\n",
      "         ∟ FlowFM_lateral_sources.bc\n",
      "       ∟ Lateral\n",
      "       ∟ Lateral\n",
      "       ∟ Lateral\n",
      "         ∟ FlowFM_lateral_sources.bc\n",
      "       ∟ Lateral\n",
      "         ∟ FlowFM_lateral_sources.bc\n",
      "       ∟ Lateral\n",
      "         ∟ FlowFM_lateral_sources.bc\n",
      "    Output\n",
      "     ∟ obsFile1D_obs.ini\n"
     ]
    }
   ],
   "execution_count": 3
  },
  {
   "cell_type": "markdown",
   "metadata": {},
   "source": [
    "We can also inspect sub-parts of the model, like the structures.\n",
    "\n",
    "Note that a model can have multiple structure files, but this model only has one, so we will get the first and only one."
   ]
  },
  {
   "cell_type": "code",
   "metadata": {
    "ExecuteTime": {
     "end_time": "2025-10-14T12:59:13.529425Z",
     "start_time": "2025-10-14T12:59:13.521732Z"
    }
   },
   "source": [
    "assert model.geometry.structurefile is not None\n",
    "structure_file = model.geometry.structurefile[0]\n",
    "\n",
    "# Show the list of all the structures\n",
    "print(f\"Number of structures: {len(structure_file.structure)}\")\n",
    "print(structure_file.structure)"
   ],
   "outputs": [
    {
     "name": "stdout",
     "output_type": "stream",
     "text": [
      "Number of structures: 6\n",
      "[Pump(comments=Comments(id=None, name=None, polylinefile='*.pli; Polyline geometry definition for 2D structure.', branchid=None, chainage=None, numcoordinates='Number of values in xCoordinates and yCoordinates', xcoordinates='x-coordinates of the location of the structure. (number of values = numCoordinates)', ycoordinates='y-coordinates of the location of the structure. (number of values = numCoordinates)', orientation=None, startleveldeliveryside=None, stopleveldeliveryside=None, startlevelsuctionside=None, head=None, controlside=None, capacity=None, stoplevelsuctionside=None, reductionfactor=None, numstages=None, numreductionlevels=None, type=None), id='636', name='De Poale 34 m3/min', type='pump', polylinefile=None, branchid='164', chainage=610.198737, numcoordinates=None, xcoordinates=None, ycoordinates=None, orientation='positive', controlside='suctionSide', numstages=1, capacity=0.567, startlevelsuctionside=[-0.1], stoplevelsuctionside=[-0.2], startleveldeliveryside=[0.0], stopleveldeliveryside=[0.0], numreductionlevels=1, head=[0.0], reductionfactor=[1.0]), Orifice(comments=Comments(id=None, name='Given name in the user interface.', polylinefile='*.pli; Polyline geometry definition for 2D structure.', branchid=None, chainage=None, numcoordinates='Number of values in xCoordinates and yCoordinates', xcoordinates='x-coordinates of the location of the structure. (number of values = numCoordinates)', ycoordinates='y-coordinates of the location of the structure. (number of values = numCoordinates)', allowedflowdir=None, uselimitflowneg=None, crestwidth=None, usevelocityheight=None, corrcoeff=None, uselimitflowpos=None, crestlevel=None, type=None, gateloweredgelevel=None), id='8_1476', name='id', type='orifice', polylinefile=None, branchid='457', chainage=211.274378, numcoordinates=None, xcoordinates=None, ycoordinates=None, allowedflowdir='positive', crestlevel=-1.0, crestwidth=1.15, gateloweredgelevel=3.0, corrcoeff=0.63, usevelocityheight=True, uselimitflowpos=False, limitflowpos=None, uselimitflowneg=False, limitflowneg=None), Pump(comments=Comments(id=None, name='Given name in the user interface.', polylinefile='*.pli; Polyline geometry definition for 2D structure.', branchid=None, chainage=None, numcoordinates='Number of values in xCoordinates and yCoordinates', xcoordinates='x-coordinates of the location of the structure. (number of values = numCoordinates)', ycoordinates='y-coordinates of the location of the structure. (number of values = numCoordinates)', orientation=None, startleveldeliveryside=None, stopleveldeliveryside=None, startlevelsuctionside=None, head=None, controlside=None, capacity=None, stoplevelsuctionside=None, reductionfactor=None, numstages=None, numreductionlevels=None, type=None), id='DV_8_216', name='id', type='pump', polylinefile=None, branchid='459', chainage=174.381882, numcoordinates=None, xcoordinates=None, ycoordinates=None, orientation='positive', controlside='suctionSide', numstages=1, capacity=0.05, startlevelsuctionside=[0.4], stoplevelsuctionside=[0.0], startleveldeliveryside=[0.0], stopleveldeliveryside=[0.0], numreductionlevels=1, head=[0.0], reductionfactor=[1.0]), Compound(comments=Comments(id=None, name=None, polylinefile='*.pli; Polyline geometry definition for 2D structure.', branchid='Branch on which the structure is located.', chainage='Chainage on the branch (m).', numcoordinates='Number of values in xCoordinates and yCoordinates', xcoordinates='x-coordinates of the location of the structure. (number of values = numCoordinates)', ycoordinates='y-coordinates of the location of the structure. (number of values = numCoordinates)', numstructures=None, structureids=None, type=None), id='636 [compound]', name='De Poale 34 m3/min', type='compound', polylinefile=None, branchid=None, chainage=None, numcoordinates=None, xcoordinates=None, ycoordinates=None, numstructures=1, structureids=['636']), Compound(comments=Comments(id=None, name='Given name in the user interface.', polylinefile='*.pli; Polyline geometry definition for 2D structure.', branchid='Branch on which the structure is located.', chainage='Chainage on the branch (m).', numcoordinates='Number of values in xCoordinates and yCoordinates', xcoordinates='x-coordinates of the location of the structure. (number of values = numCoordinates)', ycoordinates='y-coordinates of the location of the structure. (number of values = numCoordinates)', numstructures=None, structureids=None, type=None), id='8_1476 [compound]', name='id', type='compound', polylinefile=None, branchid=None, chainage=None, numcoordinates=None, xcoordinates=None, ycoordinates=None, numstructures=1, structureids=['8_1476']), Compound(comments=Comments(id=None, name='Given name in the user interface.', polylinefile='*.pli; Polyline geometry definition for 2D structure.', branchid='Branch on which the structure is located.', chainage='Chainage on the branch (m).', numcoordinates='Number of values in xCoordinates and yCoordinates', xcoordinates='x-coordinates of the location of the structure. (number of values = numCoordinates)', ycoordinates='y-coordinates of the location of the structure. (number of values = numCoordinates)', numstructures=None, structureids=None, type=None), id='DV_8_216 [compound]', name='id', type='compound', polylinefile=None, branchid=None, chainage=None, numcoordinates=None, xcoordinates=None, ycoordinates=None, numstructures=1, structureids=['DV_8_216'])]\n"
     ]
    }
   ],
   "execution_count": 4
  },
  {
   "cell_type": "markdown",
   "metadata": {},
   "source": [
    "## **Step 3) Adjusting the model**"
   ]
  },
  {
   "cell_type": "markdown",
   "metadata": {},
   "source": [
    "### **a) Creating a new weir and adding it to the structures**"
   ]
  },
  {
   "cell_type": "code",
   "metadata": {
    "ExecuteTime": {
     "end_time": "2025-10-14T12:59:13.555470Z",
     "start_time": "2025-10-14T12:59:13.546445Z"
    }
   },
   "source": [
    "# Create a new weir.\n",
    "weir = Weir(\n",
    "    id=\"DV_1471\", \n",
    "    branchId=\"458\", \n",
    "    chainage=106.277467, \n",
    "    allowedFlowDir=FlowDirection.both, \n",
    "    crestLevel=0.400, \n",
    "    crestWidth=40.000, \n",
    "    corrCoeff=1.000, \n",
    "    useVelocityHeight=True\n",
    ")\n",
    "\n",
    "# It is also possible to create objects with a dictionary.\n",
    "weir_data = {\n",
    "    \"id\": \"DV_1471\", \n",
    "    \"branchId\": \"458\", \n",
    "    \"chainage\": 106.277467, \n",
    "    \"allowedFlowDir\": FlowDirection.both, \n",
    "    \"crestLevel\": 0.400, \n",
    "    \"crestWidth\": 40.000, \n",
    "    \"corrCoeff\": 1.000, \n",
    "    \"useVelocityHeight\": True\n",
    "}\n",
    "weir = Weir(**weir_data)\n",
    "\n",
    "# Add the weir to the model\n",
    "structure_file.structure.append(weir)\n",
    "\n",
    "print(f\"Number of structures: {len(structure_file.structure)}\")\n"
   ],
   "outputs": [
    {
     "name": "stdout",
     "output_type": "stream",
     "text": [
      "Number of structures: 7\n"
     ]
    }
   ],
   "execution_count": 5
  },
  {
   "cell_type": "markdown",
   "metadata": {},
   "source": [
    "### **b) Adjusting some parameters of the model**"
   ]
  },
  {
   "cell_type": "code",
   "metadata": {
    "ExecuteTime": {
     "end_time": "2025-10-14T12:59:13.571810Z",
     "start_time": "2025-10-14T12:59:13.566486Z"
    }
   },
   "source": [
    "model.physics.backgroundsalinity = 30 # [ppt]\n",
    "model.physics.backgroundwatertemperature = 6 # [°C]\n",
    "model.time.dtuser = 900 # [s]"
   ],
   "outputs": [],
   "execution_count": 6
  },
  {
   "cell_type": "markdown",
   "metadata": {},
   "source": [
    "Hydrolib-core offers **instant validation** of objects that are created, either by loading them from file or by manually creating them. This makes it easier for users to create valid models.\n",
    "\n",
    "A lateral, like many other objects, should have a valid location specification, specified by:\n",
    "* A node id,\n",
    "* A branch id with a chainage, or\n",
    "* Coordinates\n",
    "\n",
    "Let's create an invalid Lateral. We \"forget\" to specify a chainage."
   ]
  },
  {
   "cell_type": "code",
   "metadata": {
    "ExecuteTime": {
     "end_time": "2025-10-14T12:59:13.590314Z",
     "start_time": "2025-10-14T12:59:13.578831Z"
    }
   },
   "source": [
    "try:\n",
    "    lateral = Lateral(\n",
    "        id=\"lateral_1\",\n",
    "        name=\"lateral_1\",\n",
    "        branchid=\"branch_a\",\n",
    "        discharge=\"realtime\"\n",
    "    )\n",
    "\n",
    "except ValueError as error:\n",
    "    print(error)"
   ],
   "outputs": [
    {
     "name": "stdout",
     "output_type": "stream",
     "text": [
      "1 validation error for Lateral\n",
      "lateral_1 -> __root__\n",
      "  nodeId or branchId and chainage or xCoordinates, yCoordinates and numCoordinates should be provided (type=value_error)\n"
     ]
    }
   ],
   "execution_count": 7
  },
  {
   "cell_type": "markdown",
   "metadata": {},
   "source": [
    "Now let's create a valid lateral."
   ]
  },
  {
   "cell_type": "code",
   "metadata": {
    "ExecuteTime": {
     "end_time": "2025-10-14T12:59:13.631322Z",
     "start_time": "2025-10-14T12:59:13.623321Z"
    }
   },
   "source": [
    "lateral = Lateral(\n",
    "    id=\"lateral_1\",\n",
    "    name=\"lateral_1\",\n",
    "    branchid=\"branch_a\",\n",
    "    chainage=100,\n",
    "    discharge=\"realtime\"\n",
    ")\n",
    "\n",
    "print(\"Lateral with branch id and chainage is correct!\")"
   ],
   "outputs": [
    {
     "name": "stdout",
     "output_type": "stream",
     "text": [
      "Lateral with branch id and chainage is correct!\n"
     ]
    }
   ],
   "execution_count": 8
  },
  {
   "cell_type": "markdown",
   "metadata": {},
   "source": [
    "## **Step 5) Saving the model**\n",
    "If we save the model now, it will overwrite the current model files.\n",
    "So let's save it in a different location."
   ]
  },
  {
   "cell_type": "code",
   "metadata": {
    "ExecuteTime": {
     "end_time": "2025-10-14T12:59:13.805442Z",
     "start_time": "2025-10-14T12:59:13.649778Z"
    }
   },
   "source": [
    "print(f\"The original model is located at {model.filepath}\")\n",
    "\n",
    "save_mdu_file_path = work_folder / \"save_model\" / \"FlowFM.mdu\"\n",
    "model.filepath = save_mdu_file_path\n",
    "\n",
    "# Set recurse to True. If it is False, only the MDU file will be saved.\n",
    "model.save(recurse=True)\n",
    "\n",
    "print(f\"The saved model is located at {model.filepath}\")"
   ],
   "outputs": [
    {
     "name": "stdout",
     "output_type": "stream",
     "text": [
      "The original model is located at C:\\gdrive\\algorithms\\deltares\\HYDROLIB-core\\docs\\tutorials\\dsd_2022_demo\\data\\FlowFM.mdu\n",
      "The saved model is located at C:\\gdrive\\algorithms\\deltares\\HYDROLIB-core\\docs\\tutorials\\dsd_2022_demo\\work\\save_model\\FlowFM.mdu\n"
     ]
    }
   ],
   "execution_count": 9
  },
  {
   "cell_type": "markdown",
   "metadata": {},
   "source": [
    "### **Saving only a sub-part of the model**\n",
    "It is also possible to save individual child model files, such as the cross section definition file."
   ]
  },
  {
   "cell_type": "code",
   "metadata": {
    "ExecuteTime": {
     "end_time": "2025-10-14T12:59:13.825773Z",
     "start_time": "2025-10-14T12:59:13.813557Z"
    }
   },
   "source": [
    "crossdef_file = model.geometry.crossdeffile\n",
    "assert crossdef_file is not None\n",
    "\n",
    "crossdef_file.filepath = work_folder / \"save_crossdef\" / \"crsdef.ini\"\n",
    "crossdef_file.save()\n",
    "\n",
    "print(f\"The saved cross section definition model is located at {crossdef_file.filepath}\")"
   ],
   "outputs": [
    {
     "name": "stdout",
     "output_type": "stream",
     "text": [
      "The saved cross section definition model is located at C:\\gdrive\\algorithms\\deltares\\HYDROLIB-core\\docs\\tutorials\\dsd_2022_demo\\work\\save_crossdef\\crsdef.ini\n"
     ]
    }
   ],
   "execution_count": 10
  },
  {
   "cell_type": "code",
   "metadata": {
    "ExecuteTime": {
     "end_time": "2025-10-14T12:59:13.842827Z",
     "start_time": "2025-10-14T12:59:13.839785Z"
    }
   },
   "source": [],
   "outputs": [],
   "execution_count": null
  }
 ],
 "metadata": {
  "kernelspec": {
   "display_name": "Python 3 (ipykernel)",
   "language": "python",
   "name": "python3"
  },
  "language_info": {
   "codemirror_mode": {
    "name": "ipython",
    "version": 3
   },
   "file_extension": ".py",
   "mimetype": "text/x-python",
   "name": "python",
   "nbconvert_exporter": "python",
   "pygments_lexer": "ipython3",
   "version": "3.11.6"
  },
  "vscode": {
   "interpreter": {
    "hash": "47f13872d0ca9ba2f61a2a47bb808e22317a8797f23b41d3e6e0121e264aaed9"
   }
  }
 },
 "nbformat": 4,
 "nbformat_minor": 4
}
