{
 "cells": [
  {
   "cell_type": "markdown",
   "id": "d3a50766",
   "metadata": {},
   "source": [
    "# Tutorial getting started\n",
    "\n",
    "This notebook is an introduction on how-to use [HYDROLIB-core](https://github.com/Deltares/HYDROLIB-core) functionalities in [HYDROLIB](https://github.com/Deltares/HYDROLIB) scripts or other Python scripts. \n",
    "\n",
    "```HYDROLIB```is a Python package with tools for pre-processing, post-processing and analysis of hydrodynamical data and simulation results, currently focused on D-HYDRO Suite 1D2D. HYDROLIB  builds upon the basic ```HYDROLIB-core``` Python package. This is the core library of Python wrappers around the D-HYDRO Suite 1D2D model files (input and output) and model engines (kernel libraries).\n",
    "\n",
    "The goal of this tutorial is to familiarize HYDROLIB developers with how to apply HYDROLIB-core functionalities in their scripts. Hence this notebook consist of five parts: \n",
    "1. Read model and/or -elements\n",
    "2. Adjust model parameters of existing model\n",
    "3. Write model(elements) I\n",
    "4. Extend existing model with new elements\n",
    "5. Write model(elements) II\n",
    "\n",
    "To run this notebook a simple Python environment with the following packages is required:\n",
    "```\n",
    "pip install hydrolib-core pandas pathlib\n",
    "```\n",
    "_Remark_ Note that an email was sent to all participants to create an environment with the ```hydrolib-core``` package installed. In the meantime, a new release was created, so please update the pip install of this package:\n",
    "```\n",
    "pip install -U hydrolib-core\n",
    "```\n",
    "\n",
    "Furthermore, a dummy model is needed to run the notebook code. This dummy-model is generated using the D-HyDAMO converter scripts ([delft3dfmpy](https://github.com/openearth/delft3dfmpy) and will, for now, be provided to you via a download link. \n",
    "\n",
    "Let's get started"
   ]
  },
  {
   "cell_type": "markdown",
   "id": "bdfeb89e",
   "metadata": {},
   "source": [
    "## Loading libraries\n",
    "__EX1__: Import the libraries required in the notebook below. _Tip: please consult the [HYDROLIB-core documentation](https://deltares.github.io/HYDROLIB-core/tutorials/steps/)_"
   ]
  },
  {
   "cell_type": "code",
   "execution_count": null,
   "id": "1af81c2e",
   "metadata": {},
   "outputs": [],
   "source": [
    "# basis \n",
    "import pandas as pd\n",
    "\n",
    "# I/O\n",
    "from pathlib import Path\n",
    "\n",
    "# Answer to 1 -  hydrolib-core libraries\n",
    "from hydrolib.core.io.dimr.models import DIMR, FMComponent\n",
    "from hydrolib.core.io.mdu.models import FMModel\n",
    "from hydrolib.core.io.structure.models import FlowDirection, StructureModel, Weir\n",
    "\n"
   ]
  },
  {
   "cell_type": "markdown",
   "id": "5a986aeb",
   "metadata": {},
   "source": [
    "## Read model and/or -elements\n",
    "This part shows the different ways of reading model and/or -elements. \n",
    "\n",
    "There are 3 levels at which a model and/or its elements can be read:\n",
    "1. DIMR-level: \n",
    "```python\n",
    "dimr = DIMR(directory_to_dimr_config.xml)\n",
    "```\n",
    "2. MDU-level: \n",
    "```python\n",
    "fm = FMModel(directory_to_MDU-file)\n",
    "```\n",
    "3. file-level (element-level): e.g. structure INI level\n",
    "```python\n",
    "struc = StructureModel(directory_to_structure-ini)\n",
    "```\n",
    "\n",
    "Most classes in `hydrolib.core` are hierarchically organized by file type, and can be accessed via `hydrolib.core.io.<fileext/type>.models`."
   ]
  },
  {
   "cell_type": "markdown",
   "id": "40c6a63f",
   "metadata": {},
   "source": [
    "__EX2__: Read the model using the MDU-level option. _Tip: (i) specify path and filenames, (ii) see above + HYDROLIB-core documentation_"
   ]
  },
  {
   "cell_type": "code",
   "execution_count": 19,
   "id": "f3795094",
   "metadata": {},
   "outputs": [],
   "source": [
    "# Answer EX2\n",
    "\n",
    "# Specify paths\n",
    "root = Path.cwd()\n",
    "inputdir = root / \"data\"\n",
    "modeldir = inputdir / \"model\"\n",
    "\n",
    "# Specify filenames\n",
    "mdufile = \"moergestels_broek.mdu\"\n",
    "\n",
    "# Read mdu model\n",
    "# ..."
   ]
  },
  {
   "cell_type": "markdown",
   "id": "f9dfab61",
   "metadata": {},
   "source": [
    "__EX3__: Please print (a) MDU-model, (b) tree of MDU-model (_tip:see [principles of HYDROLIB-core](https://deltares.github.io/HYDROLIB-core/topics/principles/)_), (c) Print geometry element of MDU-model, and (d)\n",
    "get filename of structures INI-file (_tip: use tab to see different options_)"
   ]
  },
  {
   "cell_type": "code",
   "execution_count": 20,
   "id": "c19b5cc8",
   "metadata": {},
   "outputs": [],
   "source": [
    "# Answer EX3\n",
    "\n",
    "# 3a simple print\n",
    "# ...\n",
    "\n",
    "# 3b Get tree of fm variable\n",
    "# ...\n",
    "\n",
    "# 3c Print geometry elements of MDU-model\n",
    "# ...\n",
    "\n",
    "# 3d Get and print filename of structure INI-file\n",
    "# ...\n",
    "\n"
   ]
  },
  {
   "cell_type": "markdown",
   "id": "6fbc1113",
   "metadata": {},
   "source": [
    "(i) Note that the header and parameter names from the MDU-file are the same ones use in the Python objects and their fields to get to the data.\n",
    "\n",
    "(ii) Note that if multiple structure files are specified in the MDU-file, a for-loop (list comprehension) would be needed. Even for a single structure file, the `fm.geometry.structurefile` field is always a list."
   ]
  },
  {
   "cell_type": "markdown",
   "id": "e00e2ceb",
   "metadata": {},
   "source": [
    "__EX4__: Get structure data\n",
    "\n",
    "(i) Note that the `structurefile[0].structure` field is a list, for all structures in the underlying file."
   ]
  },
  {
   "cell_type": "code",
   "execution_count": null,
   "id": "0dc33a4a",
   "metadata": {},
   "outputs": [],
   "source": [
    "# Answer to exercise 4 \n",
    "# 4a Get the actual list of structures in the file\n",
    "struc_A = fm.geometry.structurefile[0].structure\n",
    "print(struc_A)"
   ]
  },
  {
   "cell_type": "markdown",
   "id": "0d200153",
   "metadata": {},
   "source": [
    "__IMPORTANT__: For some cases, it is not necessary to read the entire model. Reading the specific model file would be sufficient. "
   ]
  },
  {
   "cell_type": "markdown",
   "id": "c1f9c78d",
   "metadata": {},
   "source": [
    "__EX5__: (a) Read structure INI-File without reading the entire model. (b) Get structure data (save in other variable than EX4)"
   ]
  },
  {
   "cell_type": "code",
   "execution_count": null,
   "id": "83aed1b5",
   "metadata": {},
   "outputs": [],
   "source": [
    "# Answer to exercise 5:\n",
    "\n",
    "# 5a Read structure INI-file\n",
    "# ...\n",
    "\n",
    "# 5b Get structure data again in this file\n",
    "# ...\n"
   ]
  },
  {
   "cell_type": "markdown",
   "id": "b5f3259f",
   "metadata": {},
   "source": [
    "## Adjust model parameters of existing model\n",
    "This part shows:\n",
    "* how to get the model data to a dataframe, \n",
    "* adjust the model data.\n",
    "* and how to convert the model back to a `hydrolib.core` Pydantic object\n",
    "\n",
    "Note that this is the step where you could connect to your HYDROLIB script."
   ]
  },
  {
   "cell_type": "markdown",
   "id": "a279a177",
   "metadata": {},
   "source": [
    "__Ex6__: Convert the structure data of both reading options (via MDU, or directly the structure file) to a dataframe. _Tip: please check [dataframe handling example](https://deltares.github.io/HYDROLIB-core/tutorials/dataframe_handling/)_"
   ]
  },
  {
   "cell_type": "code",
   "execution_count": 21,
   "id": "ea6ccfd9",
   "metadata": {},
   "outputs": [],
   "source": [
    "# Answer to 6\n",
    "\n",
    "# Dict to df\n",
    "# ..."
   ]
  },
  {
   "cell_type": "markdown",
   "id": "46e360df",
   "metadata": {},
   "source": [
    "__EX7__: Please investigate the dataframes. What do you notice?"
   ]
  },
  {
   "cell_type": "code",
   "execution_count": null,
   "id": "8aeaec6d",
   "metadata": {},
   "outputs": [],
   "source": [
    "# Answer to 7\n",
    "# ...\n",
    "\n",
    "# You can see the following things:\n",
    "# (i) all structures are in one datafile, \n",
    "# (ii) this model has the following structures types: weir, universal weir, bridge, pump and compound, \n",
    "# (iii) 12 structures are in the model\n",
    "# (iv) the columns names are all structure parameters in lowercase\n",
    "# (v) and only the relevant structure columns are filled for each structure. \n",
    "\n"
   ]
  },
  {
   "cell_type": "markdown",
   "id": "6b8b3587",
   "metadata": {},
   "source": [
    "__EX8__: Change the crestlevel and crestwidth of the weir \"Weir_RS373-st1\" to respectively 10.1 m AD and 0.69 m in the dataframes."
   ]
  },
  {
   "cell_type": "code",
   "execution_count": null,
   "id": "98d61c32",
   "metadata": {},
   "outputs": [],
   "source": [
    "# Answer to 8\n",
    "\n",
    "# Adjust parameters, for example a crest level\n",
    "# ...\n",
    "\n"
   ]
  },
  {
   "cell_type": "markdown",
   "id": "16cfee0c",
   "metadata": {},
   "source": [
    "__EX9__: Convert the dataframes to a Pydantic object. Please note that the structures in the MDU-Model should be replaced."
   ]
  },
  {
   "cell_type": "code",
   "execution_count": null,
   "id": "11601391",
   "metadata": {},
   "outputs": [],
   "source": [
    "# Answer to 9\n",
    "\n",
    "# Convert dataframe back to object\n",
    "# ...\n",
    "\n",
    "# Store struc_A in FMModel\n",
    "# ...\n",
    "\n",
    "\n"
   ]
  },
  {
   "cell_type": "markdown",
   "id": "25489bd0",
   "metadata": {},
   "source": [
    "Now we learned how to adjust the model parameters in the structure INI-file. Below you will practise with adjusting model parameters in the MDU-file self. \n",
    "\n",
    "__EX10__: Adjust the stop time of the simulation to 2 days after the start time. (_Tip: Use header and parameter name from MDU-file_ to access the model fields in the Python objects.)"
   ]
  },
  {
   "cell_type": "code",
   "execution_count": null,
   "id": "dcf6cd3f",
   "metadata": {},
   "outputs": [],
   "source": [
    "# Answer to 10\n",
    "# ...\n"
   ]
  },
  {
   "cell_type": "markdown",
   "id": "1fc7372a",
   "metadata": {},
   "source": [
    "# Write model(elements) I"
   ]
  },
  {
   "cell_type": "markdown",
   "id": "3577892e",
   "metadata": {},
   "source": [
    "Similar to the reading part, there are also three levels at which the model and/or -elements can be saved. This can be done with the following function: \n",
    "```python\n",
    "\"Model(element)\".save(output_directory)\n",
    "```\n",
    "In this part we will do it for model level (MDU-file) and file level (structure INI-file). "
   ]
  },
  {
   "cell_type": "markdown",
   "id": "03da4287",
   "metadata": {},
   "source": [
    "__EX11__: Create output directory for (a) model, and (b) modelfiles"
   ]
  },
  {
   "cell_type": "code",
   "execution_count": null,
   "id": "04dcc4dc",
   "metadata": {},
   "outputs": [],
   "source": [
    "# Answer to 11\n",
    "\n",
    "# Create output directories\n",
    "outputdir = root / \"output\"\n",
    "outputdir_files = root / \"output_files\"\n",
    "# ...\n"
   ]
  },
  {
   "cell_type": "markdown",
   "id": "d0bd7b9e",
   "metadata": {},
   "source": [
    "__EX12__: Save/write adjusted (a) MDU-model, (b) structure INI-file, and (c) check the saved models"
   ]
  },
  {
   "cell_type": "code",
   "execution_count": null,
   "id": "fa212c1b",
   "metadata": {},
   "outputs": [],
   "source": [
    "# Answer to 12\n",
    "\n",
    "# Save MDU-Model\n",
    "# ...\n",
    "\n",
    "# Save Structure INI-file\n",
    "# ..."
   ]
  },
  {
   "cell_type": "markdown",
   "id": "10720637",
   "metadata": {},
   "source": [
    "# Extend existing model with new elements"
   ]
  },
  {
   "cell_type": "markdown",
   "id": "39dcb2b5",
   "metadata": {},
   "source": [
    "In some cases, new elements needs to be added to an existing model and/or model file or even an entire new model should be generated. \n",
    "\n",
    "This part shows  how to add a single new element to an existing model. First an new weir will be added, followed by turning the MDU-model into a DIMR model and adding the dimr_config.xml into the mix. "
   ]
  },
  {
   "cell_type": "markdown",
   "id": "8b947f18",
   "metadata": {},
   "source": [
    "__EX13__:Add the weir 'tutorial' at branch 'Riv_RS1_1076' 1 km from the upstream point with a positive flow direction, crest level of 8.9 m AD, crest width of 8 m, and a correction coefficient of 0.9. (_Tip: check [tutorial HYDROLIB-core](https://deltares.github.io/HYDROLIB-core/tutorials/steps/)._)"
   ]
  },
  {
   "cell_type": "code",
   "execution_count": null,
   "id": "33c6e222",
   "metadata": {},
   "outputs": [],
   "source": [
    "# Answer to 13\n",
    "\n",
    "# Create a weir\n",
    "# ...\n",
    "\n",
    "# Print crest level of this newly created weir\n",
    "# ...\n",
    "\n",
    "# Add weir structure to other structures\n",
    "# ...\n",
    "\n"
   ]
  },
  {
   "cell_type": "markdown",
   "id": "55d255b9",
   "metadata": {},
   "source": [
    "Note that the code below would generate a new structure model and all the other structure will be lost. \n",
    "```python\n",
    "fm.geometry.structurefile = [StructureModel(structure=[struc_weir])]\n",
    "```\n",
    "If you start from scratch, then the code above will be useful."
   ]
  },
  {
   "cell_type": "markdown",
   "id": "c8797698",
   "metadata": {},
   "source": [
    "__EX14__: (a) Create a dimr model (b) from the MDU-model and (c+d) save the DIMR model."
   ]
  },
  {
   "cell_type": "code",
   "execution_count": null,
   "id": "bdc222f1",
   "metadata": {},
   "outputs": [],
   "source": [
    "# Answer to 14\n",
    "\n",
    "# a) Create a dimr model\n",
    "# ...\n",
    "\n",
    "# b) Add the existing fm model from Ex.2 to this dimr model\n",
    "# ...\n",
    "\n",
    "# c) Generate new directory\n",
    "# ...\n",
    "\n",
    "# d) save dimr model\n",
    "# ..."
   ]
  },
  {
   "cell_type": "code",
   "execution_count": null,
   "id": "10a6b483",
   "metadata": {},
   "outputs": [],
   "source": []
  }
 ],
 "metadata": {
  "kernelspec": {
   "display_name": "Python [conda env:hydrolib] *",
   "language": "python",
   "name": "conda-env-hydrolib-py"
  },
  "language_info": {
   "codemirror_mode": {
    "name": "ipython",
    "version": 3
   },
   "file_extension": ".py",
   "mimetype": "text/x-python",
   "name": "python",
   "nbconvert_exporter": "python",
   "pygments_lexer": "ipython3",
   "version": "3.8.12"
  }
 },
 "nbformat": 4,
 "nbformat_minor": 5
}
