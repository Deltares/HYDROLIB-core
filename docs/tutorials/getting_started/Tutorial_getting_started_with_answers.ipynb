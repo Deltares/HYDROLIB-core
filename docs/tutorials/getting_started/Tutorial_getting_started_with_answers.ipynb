{
 "cells": [
  {
   "cell_type": "markdown",
   "id": "d3a50766",
   "metadata": {},
   "source": [
    "# Tutorial getting started\n",
    "\n",
    "This notebook is an introduction on how-to use [HYDROLIB-core](https://github.com/Deltares/HYDROLIB-core) functionalities in [HYDROLIB](https://github.com/Deltares/HYDROLIB) scripts or other Python scripts. \n",
    "\n",
    "```HYDROLIB```is a Python package with tools for pre-processing, post-processing and analysis of hydrodynamical data and simulation results, currently focused on D-HYDRO Suite 1D2D. HYDROLIB  builds upon the basic ```HYDROLIB-core``` Python package. This is the core library of Python wrappers around the D-HYDRO Suite 1D2D model files (input and output) and model engines (kernel libraries).\n",
    "\n",
    "The goal of this tutorial is to familiarize HYDROLIB developers with how to apply HYDROLIB-core functionalities in their scripts. Hence this notebook consist of five parts: \n",
    "1. Read model and/or -elements\n",
    "2. Adjust model parameters of existing model\n",
    "3. Write model(elements) I\n",
    "4. Extend existing model with new elements\n",
    "5. Write model(elements) II\n",
    "\n",
    "To run this notebook a simple Python environment with the following packages is required:\n",
    "```\n",
    "pip install hydrolib-core pandas pathlib\n",
    "```\n",
    "_Remark_ Note that an email was sent to all participants to create an environment with the ```hydrolib-core``` package installed. In the meantime, a new release was created, so please update the pip install of this package:\n",
    "```\n",
    "pip install -U hydrolib-core\n",
    "```\n",
    "\n",
    "Furthermore, a dummy model is needed to run the notebook code. This dummy-model is generated using the D-HyDAMO converter scripts ([delft3dfmpy](https://github.com/openearth/delft3dfmpy) and will, for now, be provided to you via a download link. \n",
    "\n",
    "Let's get started"
   ]
  },
  {
   "cell_type": "markdown",
   "id": "bdfeb89e",
   "metadata": {},
   "source": [
    "## Loading libraries\n",
    "__EX1__: Import the libraries required in the notebook below. _Tip: please consult the [HYDROLIB-core documentation](https://deltares.github.io/HYDROLIB-core/tutorials/steps/)_"
   ]
  },
  {
   "cell_type": "code",
   "execution_count": 16,
   "id": "1af81c2e",
   "metadata": {},
   "outputs": [],
   "source": [
    "# basis \n",
    "import pandas as pd\n",
    "\n",
    "# I/O\n",
    "from pathlib import Path\n",
    "\n",
    "# Answer to 1 -  hydrolib-core libraries\n",
    "from hydrolib.core.io.dimr.models import DIMR, FMComponent\n",
    "from hydrolib.core.io.mdu.models import FMModel\n",
    "from hydrolib.core.io.structure.models import FlowDirection, StructureModel, Weir\n",
    "\n"
   ]
  },
  {
   "cell_type": "markdown",
   "id": "5a986aeb",
   "metadata": {},
   "source": [
    "## Read model and/or -elements\n",
    "This part shows the different ways of reading model and/or -elements. \n",
    "\n",
    "There are 3 levels at which a model and/or its elements can be read:\n",
    "1. DIMR-level: \n",
    "```python\n",
    "dimr = DIMR(directory_to_dimr_config.xml)\n",
    "```\n",
    "2. MDU-level: \n",
    "```python\n",
    "fm = FMModel(directory_to_MDU-file)\n",
    "```\n",
    "3. file-level (element-level): e.g. structure INI level\n",
    "```python\n",
    "struc = StructureModel(directory_to_structure-ini)\n",
    "```\n",
    "\n",
    "Most classes in `hydrolib.core` are hierarchically organized by file type, and can be accessed via `hydrolib.core.io.<fileext/type>.models`."
   ]
  },
  {
   "cell_type": "markdown",
   "id": "40c6a63f",
   "metadata": {},
   "source": [
    "__EX2__: Read the model using the MDU-level option. _Tip: (i) specify path and filenames, (ii) see above + HYDROLIB-core documentation_"
   ]
  },
  {
   "cell_type": "code",
   "execution_count": 2,
   "id": "f3795094",
   "metadata": {},
   "outputs": [],
   "source": [
    "# Answer EX2\n",
    "\n",
    "# Specify paths\n",
    "root = Path.cwd()\n",
    "inputdir = root / \"data\"\n",
    "modeldir = inputdir / \"model\"\n",
    "\n",
    "# Specify filenames\n",
    "mdufile = \"moergestels_broek.mdu\"\n",
    "\n",
    "# Read mdu model\n",
    "fm = FMModel(modeldir / mdufile)"
   ]
  },
  {
   "cell_type": "markdown",
   "id": "f9dfab61",
   "metadata": {},
   "source": [
    "__EX3__: Please print (a) MDU-model, (b) tree of MDU-model (_tip:see [principles of HYDROLIB-core](https://deltares.github.io/HYDROLIB-core/topics/principles/)_), (c) Print geometry element of MDU-model, and (d)\n",
    "get filename of structures INI-file (_tip: use tab to see different options_)"
   ]
  },
  {
   "cell_type": "code",
   "execution_count": 15,
   "id": "c19b5cc8",
   "metadata": {},
   "outputs": [
    {
     "name": "stdout",
     "output_type": "stream",
     "text": [
      "d:\\dam_ar\\unstruc_plannen\\2021\\20210000_HYDROLIB\\N\\E. Correspondence\\Meetings\\20211102_HYDROLIB-core_developer_training\\getting_started\\output\\moergestels_broek.mdu\n",
      "  d:\\dam_ar\\unstruc_plannen\\2021\\20210000_HYDROLIB\\N\\E. Correspondence\\Meetings\\20211102_HYDROLIB-core_developer_training\\getting_started\\output\\moergestels_broek.mdu\n",
      "    Geometry\n",
      "     ∟ d:\\dam_ar\\unstruc_plannen\\2021\\20210000_HYDROLIB\\N\\E. Correspondence\\Meetings\\20211102_HYDROLIB-core_developer_training\\getting_started\\output\\moergestels_broek_net.nc\n",
      "     ∟ d:\\dam_ar\\unstruc_plannen\\2021\\20210000_HYDROLIB\\N\\E. Correspondence\\Meetings\\20211102_HYDROLIB-core_developer_training\\getting_started\\output\\structures.ini\n",
      "     ∟ d:\\dam_ar\\unstruc_plannen\\2021\\20210000_HYDROLIB\\N\\E. Correspondence\\Meetings\\20211102_HYDROLIB-core_developer_training\\getting_started\\output\\r001.ini\n",
      "     ∟ d:\\dam_ar\\unstruc_plannen\\2021\\20210000_HYDROLIB\\N\\E. Correspondence\\Meetings\\20211102_HYDROLIB-core_developer_training\\getting_started\\output\\r002.ini\n",
      "     ∟ d:\\dam_ar\\unstruc_plannen\\2021\\20210000_HYDROLIB\\N\\E. Correspondence\\Meetings\\20211102_HYDROLIB-core_developer_training\\getting_started\\output\\r003.ini\n",
      "     ∟ d:\\dam_ar\\unstruc_plannen\\2021\\20210000_HYDROLIB\\N\\E. Correspondence\\Meetings\\20211102_HYDROLIB-core_developer_training\\getting_started\\output\\r004.ini\n",
      "     ∟ d:\\dam_ar\\unstruc_plannen\\2021\\20210000_HYDROLIB\\N\\E. Correspondence\\Meetings\\20211102_HYDROLIB-core_developer_training\\getting_started\\output\\cross_section_definitions.ini\n",
      "     ∟ d:\\dam_ar\\unstruc_plannen\\2021\\20210000_HYDROLIB\\N\\E. Correspondence\\Meetings\\20211102_HYDROLIB-core_developer_training\\getting_started\\output\\cross_section_locations.ini\n",
      "    ExternalForcing\n",
      "     ∟ d:\\dam_ar\\unstruc_plannen\\2021\\20210000_HYDROLIB\\N\\E. Correspondence\\Meetings\\20211102_HYDROLIB-core_developer_training\\getting_started\\output\\moergestels_broek_new.ext\n",
      "       ∟ Boundary\n",
      "         ∟ d:\\dam_ar\\unstruc_plannen\\2021\\20210000_HYDROLIB\\N\\E. Correspondence\\Meetings\\20211102_HYDROLIB-core_developer_training\\getting_started\\output\\boundaries.bc\n",
      "       ∟ Boundary\n",
      "         ∟ d:\\dam_ar\\unstruc_plannen\\2021\\20210000_HYDROLIB\\N\\E. Correspondence\\Meetings\\20211102_HYDROLIB-core_developer_training\\getting_started\\output\\boundaries.bc\n",
      "[StructureModel(filepath=WindowsPath('d:/dam_ar/unstruc_plannen/2021/20210000_HYDROLIB/N/E. Correspondence/Meetings/20211102_HYDROLIB-core_developer_training/getting_started/output/structures.ini'), general=StructureGeneral(comments=Comments(), fileversion='3.00', filetype='structure'), structure=[Weir(comments=Comments(id=None, name=None, branchid=None, chainage=None, numcoordinates='Number of values in xCoordinates and yCoordinates', xcoordinates='x-coordinates of the location of the structure. (number of values = numCoordinates)', ycoordinates='y-coordinates of the location of the structure. (number of values = numCoordinates)', type=None, allowedflowdir=None, crestlevel=None, crestwidth=None, corrcoeff=None, usevelocityheight=None, crest=None), id='Weir_RS373-st1', name='Weir_RS373-st1', type='weir', branchid='riv_RS373_2442', chainage=584.463, numcoordinates=None, xcoordinates=None, ycoordinates=None, allowedflowdir='both', crestlevel=10.1, crestwidth=0.69, corrcoeff=1.0, usevelocityheight=True, controlside=nan, reductionfactor=nan, yvalues=nan, stopleveldeliveryside=nan, datablock=None, structureids=nan, stoplevelsuctionside=nan, friction=nan, capacity=nan, numlevels=nan, uselimitflowpos=nan, uselimitflowneg=nan, numstructures=nan, shift=nan, head=nan, csdefid=nan, limitflowneg=nan, crest='boundaries.bc', startleveldeliveryside=nan, numstages=nan, startlevelsuctionside=nan, outletlosscoeff=nan, length=nan, frictiontype=nan, numreductionlevels=nan, zvalues=nan, inletlosscoeff=nan, limitflowpos=nan, orientation=nan, gateloweredgelevel=nan, _header='Structure', dischargecoeff=nan), Weir(comments=Comments(id=None, name=None, branchid=None, chainage=None, numcoordinates='Number of values in xCoordinates and yCoordinates', xcoordinates='x-coordinates of the location of the structure. (number of values = numCoordinates)', ycoordinates='y-coordinates of the location of the structure. (number of values = numCoordinates)', type=None, allowedflowdir=None, crestlevel=None, crestwidth=None, corrcoeff=None, usevelocityheight=None), id='Weir_RS373-st2', name='Weir_RS373-st2', type='weir', branchid='riv_RS375_41', chainage=573.639, numcoordinates=None, xcoordinates=None, ycoordinates=None, allowedflowdir='both', crestlevel=9.431, crestwidth=0.71, corrcoeff=1.0, usevelocityheight=True, controlside=nan, reductionfactor=nan, yvalues=nan, stopleveldeliveryside=nan, datablock=None, structureids=nan, stoplevelsuctionside=nan, friction=nan, capacity=nan, numlevels=nan, uselimitflowpos=nan, uselimitflowneg=nan, numstructures=nan, shift=nan, head=nan, csdefid=nan, limitflowneg=nan, crest=nan, startleveldeliveryside=nan, numstages=nan, startlevelsuctionside=nan, outletlosscoeff=nan, length=nan, frictiontype=nan, numreductionlevels=nan, zvalues=nan, inletlosscoeff=nan, limitflowpos=nan, orientation=nan, gateloweredgelevel=nan, _header='Structure', dischargecoeff=nan), Weir(comments=Comments(id=None, name=None, branchid=None, chainage=None, numcoordinates='Number of values in xCoordinates and yCoordinates', xcoordinates='x-coordinates of the location of the structure. (number of values = numCoordinates)', ycoordinates='y-coordinates of the location of the structure. (number of values = numCoordinates)', type=None, allowedflowdir=None, crestlevel=None, crestwidth=None, corrcoeff=None, usevelocityheight=None), id='Weir_RS1-st15', name='Weir_RS1-st15', type='weir', branchid='riv_RS1_1810', chainage=977.222, numcoordinates=None, xcoordinates=None, ycoordinates=None, allowedflowdir='both', crestlevel=8.235, crestwidth=7.19, corrcoeff=1.0, usevelocityheight=True, controlside=nan, reductionfactor=nan, yvalues=nan, stopleveldeliveryside=nan, datablock=None, structureids=nan, stoplevelsuctionside=nan, friction=nan, capacity=nan, numlevels=nan, uselimitflowpos=nan, uselimitflowneg=nan, numstructures=nan, shift=nan, head=nan, csdefid=nan, limitflowneg=nan, crest=nan, startleveldeliveryside=nan, numstages=nan, startlevelsuctionside=nan, outletlosscoeff=nan, length=nan, frictiontype=nan, numreductionlevels=nan, zvalues=nan, inletlosscoeff=nan, limitflowpos=nan, orientation=nan, gateloweredgelevel=nan, _header='Structure', dischargecoeff=nan), Weir(comments=Comments(id=None, name=None, branchid=None, chainage=None, numcoordinates='Number of values in xCoordinates and yCoordinates', xcoordinates='x-coordinates of the location of the structure. (number of values = numCoordinates)', ycoordinates='y-coordinates of the location of the structure. (number of values = numCoordinates)', type=None, allowedflowdir=None, crestlevel=None, crestwidth=None, corrcoeff=None, usevelocityheight=None), id='extra_weir', name='extra_weir', type='weir', branchid='riv_RS1_1810', chainage=950.0, numcoordinates=None, xcoordinates=None, ycoordinates=None, allowedflowdir='both', crestlevel=8.0, crestwidth=7.5, corrcoeff=1.0, usevelocityheight=True, controlside=nan, reductionfactor=nan, yvalues=nan, stopleveldeliveryside=nan, datablock=None, structureids=nan, stoplevelsuctionside=nan, friction=nan, capacity=nan, numlevels=nan, uselimitflowpos=nan, uselimitflowneg=nan, numstructures=nan, shift=nan, head=nan, csdefid=nan, limitflowneg=nan, crest=nan, startleveldeliveryside=nan, numstages=nan, startlevelsuctionside=nan, outletlosscoeff=nan, length=nan, frictiontype=nan, numreductionlevels=nan, zvalues=nan, inletlosscoeff=nan, limitflowpos=nan, orientation=nan, gateloweredgelevel=nan, _header='Structure', dischargecoeff=nan), Bridge(comments=Comments(id=None, name=None, branchid=None, chainage=None, numcoordinates='Number of values in xCoordinates and yCoordinates', xcoordinates='x-coordinates of the location of the structure. (number of values = numCoordinates)', ycoordinates='y-coordinates of the location of the structure. (number of values = numCoordinates)', type=None, allowedflowdir=None, csdefid=None, shift=None, inletlosscoeff=None, outletlosscoeff=None, frictiontype=None, friction=None, length=None), id='RS1-KBR32', name='RS1-KBR32', type='bridge', branchid='riv_RS375_41', chainage=701.141, numcoordinates=None, xcoordinates=None, ycoordinates=None, allowedflowdir='both', csdefid='prof_RS1-KBR32', shift=0.0, inletlosscoeff=1.0, outletlosscoeff=1.0, frictiontype='Strickler', friction=70.0, length=3.54, controlside=nan, reductionfactor=nan, corrcoeff=nan, yvalues=nan, stopleveldeliveryside=nan, datablock=None, structureids=nan, crestlevel=nan, stoplevelsuctionside=nan, capacity=nan, numlevels=nan, uselimitflowpos=nan, crestwidth=nan, uselimitflowneg=nan, numstructures=nan, head=nan, limitflowneg=nan, crest=nan, startleveldeliveryside=nan, numstages=nan, startlevelsuctionside=nan, usevelocityheight=nan, numreductionlevels=nan, zvalues=nan, limitflowpos=nan, orientation=nan, gateloweredgelevel=nan, _header='Structure', dischargecoeff=nan), Bridge(comments=Comments(id=None, name=None, branchid=None, chainage=None, numcoordinates='Number of values in xCoordinates and yCoordinates', xcoordinates='x-coordinates of the location of the structure. (number of values = numCoordinates)', ycoordinates='y-coordinates of the location of the structure. (number of values = numCoordinates)', type=None, allowedflowdir=None, csdefid=None, shift=None, inletlosscoeff=None, outletlosscoeff=None, frictiontype=None, friction=None, length=None), id='RS1-KBR31', name='RS1-KBR31', type='bridge', branchid='riv_RS1_264', chainage=104.184, numcoordinates=None, xcoordinates=None, ycoordinates=None, allowedflowdir='both', csdefid='W_980.1S_0', shift=0.0, inletlosscoeff=1.0, outletlosscoeff=1.0, frictiontype='Strickler', friction=70.0, length=9.75, controlside=nan, reductionfactor=nan, corrcoeff=nan, yvalues=nan, stopleveldeliveryside=nan, datablock=None, structureids=nan, crestlevel=nan, stoplevelsuctionside=nan, capacity=nan, numlevels=nan, uselimitflowpos=nan, crestwidth=nan, uselimitflowneg=nan, numstructures=nan, head=nan, limitflowneg=nan, crest=nan, startleveldeliveryside=nan, numstages=nan, startlevelsuctionside=nan, usevelocityheight=nan, numreductionlevels=nan, zvalues=nan, limitflowpos=nan, orientation=nan, gateloweredgelevel=nan, _header='Structure', dischargecoeff=nan), Pump(comments=Comments(id=None, name=None, branchid=None, chainage=None, numcoordinates='Number of values in xCoordinates and yCoordinates', xcoordinates='x-coordinates of the location of the structure. (number of values = numCoordinates)', ycoordinates='y-coordinates of the location of the structure. (number of values = numCoordinates)', controlside=None, reductionfactor=None, stoplevelsuctionside=None, startleveldeliveryside=None, capacity=None, orientation=None, numstages=None, startlevelsuctionside=None, head=None, stopleveldeliveryside=None, type=None), id='RS372-gm1_pomp_1', name='RS372-gm1_pomp_1', type='pump', branchid='riv_RS372_175', chainage=0.977, numcoordinates=None, xcoordinates=None, ycoordinates=None, orientation='positive', controlside='suctionSide', numstages=1, capacity=0.44, startlevelsuctionside=[9.3], stoplevelsuctionside=[9.2], startleveldeliveryside=[0.0], stopleveldeliveryside=[0.0], numreductionlevels=0, head=[0.0], reductionfactor=[0.0], corrcoeff=nan, allowedflowdir=nan, yvalues=nan, datablock=None, structureids=nan, crestlevel=nan, friction=nan, numlevels=nan, uselimitflowpos=nan, crestwidth=nan, uselimitflowneg=nan, numstructures=nan, shift=nan, csdefid=nan, limitflowneg=nan, crest=nan, outletlosscoeff=nan, length=nan, frictiontype=nan, usevelocityheight=nan, zvalues=nan, inletlosscoeff=nan, limitflowpos=nan, gateloweredgelevel=nan, _header='Structure', dischargecoeff=nan), Pump(comments=Comments(id=None, name=None, branchid=None, chainage=None, numcoordinates='Number of values in xCoordinates and yCoordinates', xcoordinates='x-coordinates of the location of the structure. (number of values = numCoordinates)', ycoordinates='y-coordinates of the location of the structure. (number of values = numCoordinates)', controlside=None, reductionfactor=None, stoplevelsuctionside=None, startleveldeliveryside=None, capacity=None, orientation=None, numstages=None, startlevelsuctionside=None, head=None, stopleveldeliveryside=None, type=None), id='RS178-gm1_pomp_1', name='RS178-gm1_pomp_1', type='pump', branchid='riv_RS375_2611', chainage=341.699, numcoordinates=None, xcoordinates=None, ycoordinates=None, orientation='positive', controlside='suctionSide', numstages=1, capacity=0.44, startlevelsuctionside=[8.6], stoplevelsuctionside=[8.4], startleveldeliveryside=[0.0], stopleveldeliveryside=[0.0], numreductionlevels=0, head=[0.0], reductionfactor=[0.0], corrcoeff=nan, allowedflowdir=nan, yvalues=nan, datablock=None, structureids=nan, crestlevel=nan, friction=nan, numlevels=nan, uselimitflowpos=nan, crestwidth=nan, uselimitflowneg=nan, numstructures=nan, shift=nan, csdefid=nan, limitflowneg=nan, crest=nan, outletlosscoeff=nan, length=nan, frictiontype=nan, usevelocityheight=nan, zvalues=nan, inletlosscoeff=nan, limitflowpos=nan, gateloweredgelevel=nan, _header='Structure', dischargecoeff=nan), UniversalWeir(comments=Comments(id=None, name=None, branchid=None, chainage=None, numcoordinates='Number of values in xCoordinates and yCoordinates', xcoordinates='x-coordinates of the location of the structure. (number of values = numCoordinates)', ycoordinates='y-coordinates of the location of the structure. (number of values = numCoordinates)', type=None, allowedflowdir=None, numlevels=None, yvalues=None, zvalues=None, crestlevel=None, dischargecoeff=None), id='UWeir_Test1', name='UWeir_Test1', type='universalWeir', branchid='riv_RS375_41', chainage=475.277, numcoordinates=None, xcoordinates=None, ycoordinates=None, allowedflowdir='both', numlevels=5, yvalues=[0.0, 1.0, 2.0, 4.0, 6.0], zvalues=[1.1, 0.5, 0.0, 0.5, 1.1], crestlevel=7.935, dischargecoeff=1.0, controlside=nan, reductionfactor=nan, corrcoeff=nan, stopleveldeliveryside=nan, datablock=None, structureids=nan, stoplevelsuctionside=nan, friction=nan, capacity=nan, uselimitflowpos=nan, crestwidth=nan, uselimitflowneg=nan, numstructures=nan, shift=nan, head=nan, csdefid=nan, limitflowneg=nan, crest=nan, startleveldeliveryside=nan, numstages=nan, startlevelsuctionside=nan, outletlosscoeff=nan, length=nan, frictiontype=nan, usevelocityheight=nan, numreductionlevels=nan, inletlosscoeff=nan, limitflowpos=nan, orientation=nan, gateloweredgelevel=nan, _header='Structure'), UniversalWeir(comments=Comments(id=None, name=None, branchid=None, chainage=None, numcoordinates='Number of values in xCoordinates and yCoordinates', xcoordinates='x-coordinates of the location of the structure. (number of values = numCoordinates)', ycoordinates='y-coordinates of the location of the structure. (number of values = numCoordinates)', type=None, allowedflowdir=None, numlevels=None, yvalues=None, zvalues=None, crestlevel=None, dischargecoeff=None), id='UWeir_Test2', name='UWeir_Test2', type='universalWeir', branchid='riv_RS1_264', chainage=104.147, numcoordinates=None, xcoordinates=None, ycoordinates=None, allowedflowdir='both', numlevels=4, yvalues=[0.0, 2.561, 3.361, 5.891], zvalues=[0.845, 0.0, 0.0, 0.835], crestlevel=7.935, dischargecoeff=1.0, controlside=nan, reductionfactor=nan, corrcoeff=nan, stopleveldeliveryside=nan, datablock=None, structureids=nan, stoplevelsuctionside=nan, friction=nan, capacity=nan, uselimitflowpos=nan, crestwidth=nan, uselimitflowneg=nan, numstructures=nan, shift=nan, head=nan, csdefid=nan, limitflowneg=nan, crest=nan, startleveldeliveryside=nan, numstages=nan, startlevelsuctionside=nan, outletlosscoeff=nan, length=nan, frictiontype=nan, usevelocityheight=nan, numreductionlevels=nan, inletlosscoeff=nan, limitflowpos=nan, orientation=nan, gateloweredgelevel=nan, _header='Structure'), Orifice(comments=Comments(id=None, name=None, branchid=None, chainage=None, numcoordinates='Number of values in xCoordinates and yCoordinates', xcoordinates='x-coordinates of the location of the structure. (number of values = numCoordinates)', ycoordinates='y-coordinates of the location of the structure. (number of values = numCoordinates)', crestlevel=None, limitflowneg=None, limitflowpos=None, uselimitflowpos=None, uselimitflowneg=None, crestwidth=None, corrcoeff=None, gateloweredgelevel=None, allowedflowdir=None, usevelocityheight=None, type=None), id='Orifice_Test1', name='Orifice_Test1', type='orifice', branchid='riv_RS1_264', chainage=104.147, numcoordinates=None, xcoordinates=None, ycoordinates=None, allowedflowdir='both', crestlevel=7.935, crestwidth=10.1, gateloweredgelevel=8.95, corrcoeff=1.0, usevelocityheight=True, uselimitflowpos=False, limitflowpos=0.0, uselimitflowneg=False, limitflowneg=0.0, controlside=nan, reductionfactor=nan, yvalues=nan, stopleveldeliveryside=nan, datablock=None, structureids=nan, stoplevelsuctionside=nan, friction=nan, capacity=nan, numlevels=nan, numstructures=nan, shift=nan, head=nan, csdefid=nan, crest=nan, startleveldeliveryside=nan, numstages=nan, startlevelsuctionside=nan, outletlosscoeff=nan, length=nan, frictiontype=nan, numreductionlevels=nan, zvalues=nan, inletlosscoeff=nan, orientation=nan, _header='Structure', dischargecoeff=nan), Compound(comments=Comments(id=None, name=None, branchid='Branch on which the structure is located.', chainage='Chainage on the branch (m).', numcoordinates='Number of values in xCoordinates and yCoordinates', xcoordinates='x-coordinates of the location of the structure. (number of values = numCoordinates)', ycoordinates='y-coordinates of the location of the structure. (number of values = numCoordinates)', numstructures=None, type=None, structureids=None), id='cmpnd_1', name='cmpnd_1', type='compound', branchid=None, chainage=nan, numcoordinates=None, xcoordinates=None, ycoordinates=None, numstructures=2, structureids=['Orifice_Test1', 'UWeir_Test2'], controlside=nan, reductionfactor=nan, corrcoeff=nan, allowedflowdir=nan, yvalues=nan, stopleveldeliveryside=nan, datablock=None, crestlevel=nan, stoplevelsuctionside=nan, friction=nan, capacity=nan, numlevels=nan, uselimitflowpos=nan, crestwidth=nan, uselimitflowneg=nan, shift=nan, head=nan, csdefid=nan, limitflowneg=nan, crest=nan, startleveldeliveryside=nan, numstages=nan, startlevelsuctionside=nan, outletlosscoeff=nan, length=nan, frictiontype=nan, usevelocityheight=nan, numreductionlevels=nan, zvalues=nan, inletlosscoeff=nan, limitflowpos=nan, orientation=nan, gateloweredgelevel=nan, _header='Structure', dischargecoeff=nan), Weir(comments=Comments(id='Unique structure id (max. 256 characters).', name='Given name in the user interface.', branchid='Branch on which the structure is located.', chainage='Chainage on the branch (m).', numcoordinates='Number of values in xCoordinates and yCoordinates', xcoordinates='x-coordinates of the location of the structure. (number of values = numCoordinates)', ycoordinates='y-coordinates of the location of the structure. (number of values = numCoordinates)', type='Structure type; must read weir', allowedflowdir=<FlowDirection.allowedvaluestext: 'Possible values: both, positive, negative, none.'>, crestlevel='Crest level of weir (m AD).', crestwidth='Width of the weir (m).', corrcoeff='Correction coefficient (-).', usevelocityheight='Flag indicating whether the velocity height is to be calculated or not.'), id='tutorial', name='tutorial_weir', type='weir', branchid='Riv_RS1_1076', chainage=1000.0, numcoordinates=None, xcoordinates=None, ycoordinates=None, allowedflowdir='positive', crestlevel=8.9, crestwidth=8.0, corrcoeff=1.0, usevelocityheight=True, corrcoef=0.9)])]\n",
      "d:\\dam_ar\\unstruc_plannen\\2021\\20210000_HYDROLIB\\N\\E. Correspondence\\Meetings\\20211102_HYDROLIB-core_developer_training\\getting_started\\output\\structures.ini\n"
     ]
    }
   ],
   "source": [
    "# Answer EX3\n",
    "\n",
    "# 3a simple print\n",
    "print(fm)\n",
    "\n",
    "# 3b Get tree of fm variable\n",
    "fm.show_tree()\n",
    "\n",
    "# 3c Print geometry elements of MDU-model\n",
    "#print(fm.geometry)\n",
    "\n",
    "# 3d Get filename of structure INI-file\n",
    "print(fm.geometry.structurefile)\n",
    "structuresfile = fm.geometry.structurefile[0].filepath\n",
    "print(structuresfile)\n",
    "\n"
   ]
  },
  {
   "cell_type": "markdown",
   "id": "6fbc1113",
   "metadata": {},
   "source": [
    "(i) Note that the header and parameter names from the MDU-file are the same ones use in the Python objects and their fields to get to the data.\n",
    "\n",
    "(ii) Note that if multiple structure files are specified in the MDU-file, a for-loop (list comprehension) would be needed. Even for a single structure file, the `fm.geometry.structurefile` field is always a list."
   ]
  },
  {
   "cell_type": "markdown",
   "id": "e00e2ceb",
   "metadata": {},
   "source": [
    "__EX4__: Get structure data\n",
    "\n",
    "(i) Note that the `structurefile[0].structure` field is a list, for all structures in the underlying file."
   ]
  },
  {
   "cell_type": "code",
   "execution_count": 4,
   "id": "0dc33a4a",
   "metadata": {},
   "outputs": [
    {
     "name": "stdout",
     "output_type": "stream",
     "text": [
      "[Weir(comments=Comments(id=None, name=None, branchid=None, chainage=None, numcoordinates='Number of values in xCoordinates and yCoordinates', xcoordinates='x-coordinates of the location of the structure. (number of values = numCoordinates)', ycoordinates='y-coordinates of the location of the structure. (number of values = numCoordinates)', type=None, allowedflowdir=None, crestlevel=None, crestwidth=None, corrcoeff=None, usevelocityheight=None, crest=None), id='Weir_RS373-st1', name='Weir_RS373-st1', type='weir', branchid='riv_RS373_2442', chainage=584.463, numcoordinates=None, xcoordinates=None, ycoordinates=None, allowedflowdir='both', crestlevel=10.429, crestwidth=0.71, corrcoeff=1.0, usevelocityheight=True, crest='boundaries.bc', datablock=None, _header='Structure'), Weir(comments=Comments(id=None, name=None, branchid=None, chainage=None, numcoordinates='Number of values in xCoordinates and yCoordinates', xcoordinates='x-coordinates of the location of the structure. (number of values = numCoordinates)', ycoordinates='y-coordinates of the location of the structure. (number of values = numCoordinates)', type=None, allowedflowdir=None, crestlevel=None, crestwidth=None, corrcoeff=None, usevelocityheight=None), id='Weir_RS373-st2', name='Weir_RS373-st2', type='weir', branchid='riv_RS375_41', chainage=573.639, numcoordinates=None, xcoordinates=None, ycoordinates=None, allowedflowdir='both', crestlevel=9.431, crestwidth=0.71, corrcoeff=1.0, usevelocityheight=True, datablock=None, _header='Structure'), Weir(comments=Comments(id=None, name=None, branchid=None, chainage=None, numcoordinates='Number of values in xCoordinates and yCoordinates', xcoordinates='x-coordinates of the location of the structure. (number of values = numCoordinates)', ycoordinates='y-coordinates of the location of the structure. (number of values = numCoordinates)', type=None, allowedflowdir=None, crestlevel=None, crestwidth=None, corrcoeff=None, usevelocityheight=None), id='Weir_RS1-st15', name='Weir_RS1-st15', type='weir', branchid='riv_RS1_1810', chainage=977.222, numcoordinates=None, xcoordinates=None, ycoordinates=None, allowedflowdir='both', crestlevel=8.235, crestwidth=7.19, corrcoeff=1.0, usevelocityheight=True, datablock=None, _header='Structure'), Weir(comments=Comments(id=None, name=None, branchid=None, chainage=None, numcoordinates='Number of values in xCoordinates and yCoordinates', xcoordinates='x-coordinates of the location of the structure. (number of values = numCoordinates)', ycoordinates='y-coordinates of the location of the structure. (number of values = numCoordinates)', type=None, allowedflowdir=None, crestlevel=None, crestwidth=None, corrcoeff=None, usevelocityheight=None), id='extra_weir', name='extra_weir', type='weir', branchid='riv_RS1_1810', chainage=950.0, numcoordinates=None, xcoordinates=None, ycoordinates=None, allowedflowdir='both', crestlevel=8.0, crestwidth=7.5, corrcoeff=1.0, usevelocityheight=True, datablock=None, _header='Structure'), Bridge(comments=Comments(id=None, name=None, branchid=None, chainage=None, numcoordinates='Number of values in xCoordinates and yCoordinates', xcoordinates='x-coordinates of the location of the structure. (number of values = numCoordinates)', ycoordinates='y-coordinates of the location of the structure. (number of values = numCoordinates)', type=None, allowedflowdir=None, csdefid=None, shift=None, inletlosscoeff=None, outletlosscoeff=None, frictiontype=None, friction=None, length=None), id='RS1-KBR32', name='RS1-KBR32', type='bridge', branchid='riv_RS375_41', chainage=701.141, numcoordinates=None, xcoordinates=None, ycoordinates=None, allowedflowdir='both', csdefid='prof_RS1-KBR32', shift=0.0, inletlosscoeff=1.0, outletlosscoeff=1.0, frictiontype='Strickler', friction=70.0, length=3.54, datablock=None, _header='Structure'), Bridge(comments=Comments(id=None, name=None, branchid=None, chainage=None, numcoordinates='Number of values in xCoordinates and yCoordinates', xcoordinates='x-coordinates of the location of the structure. (number of values = numCoordinates)', ycoordinates='y-coordinates of the location of the structure. (number of values = numCoordinates)', type=None, allowedflowdir=None, csdefid=None, shift=None, inletlosscoeff=None, outletlosscoeff=None, frictiontype=None, friction=None, length=None), id='RS1-KBR31', name='RS1-KBR31', type='bridge', branchid='riv_RS1_264', chainage=104.184, numcoordinates=None, xcoordinates=None, ycoordinates=None, allowedflowdir='both', csdefid='W_980.1S_0', shift=0.0, inletlosscoeff=1.0, outletlosscoeff=1.0, frictiontype='Strickler', friction=70.0, length=9.75, datablock=None, _header='Structure'), Pump(comments=Comments(id=None, name=None, branchid=None, chainage=None, numcoordinates='Number of values in xCoordinates and yCoordinates', xcoordinates='x-coordinates of the location of the structure. (number of values = numCoordinates)', ycoordinates='y-coordinates of the location of the structure. (number of values = numCoordinates)', controlside=None, reductionfactor=None, stoplevelsuctionside=None, startleveldeliveryside=None, capacity=None, orientation=None, numstages=None, startlevelsuctionside=None, head=None, stopleveldeliveryside=None, type=None), id='RS372-gm1_pomp_1', name='RS372-gm1_pomp_1', type='pump', branchid='riv_RS372_175', chainage=0.977, numcoordinates=None, xcoordinates=None, ycoordinates=None, orientation='positive', controlside='suctionSide', numstages=1, capacity=0.44, startlevelsuctionside=[9.3], stoplevelsuctionside=[9.2], startleveldeliveryside=[0.0], stopleveldeliveryside=[0.0], numreductionlevels=0, head=[0.0], reductionfactor=[0.0], datablock=None, _header='Structure'), Pump(comments=Comments(id=None, name=None, branchid=None, chainage=None, numcoordinates='Number of values in xCoordinates and yCoordinates', xcoordinates='x-coordinates of the location of the structure. (number of values = numCoordinates)', ycoordinates='y-coordinates of the location of the structure. (number of values = numCoordinates)', controlside=None, reductionfactor=None, stoplevelsuctionside=None, startleveldeliveryside=None, capacity=None, orientation=None, numstages=None, startlevelsuctionside=None, head=None, stopleveldeliveryside=None, type=None), id='RS178-gm1_pomp_1', name='RS178-gm1_pomp_1', type='pump', branchid='riv_RS375_2611', chainage=341.699, numcoordinates=None, xcoordinates=None, ycoordinates=None, orientation='positive', controlside='suctionSide', numstages=1, capacity=0.44, startlevelsuctionside=[8.6], stoplevelsuctionside=[8.4], startleveldeliveryside=[0.0], stopleveldeliveryside=[0.0], numreductionlevels=0, head=[0.0], reductionfactor=[0.0], datablock=None, _header='Structure'), UniversalWeir(comments=Comments(id=None, name=None, branchid=None, chainage=None, numcoordinates='Number of values in xCoordinates and yCoordinates', xcoordinates='x-coordinates of the location of the structure. (number of values = numCoordinates)', ycoordinates='y-coordinates of the location of the structure. (number of values = numCoordinates)', type=None, allowedflowdir=None, numlevels=None, yvalues=None, zvalues=None, crestlevel=None, dischargecoeff=None), id='UWeir_Test1', name='UWeir_Test1', type='universalWeir', branchid='riv_RS375_41', chainage=475.277, numcoordinates=None, xcoordinates=None, ycoordinates=None, allowedflowdir='both', numlevels=5, yvalues=[0.0, 1.0, 2.0, 4.0, 6.0], zvalues=[1.1, 0.5, 0.0, 0.5, 1.1], crestlevel=7.935, dischargecoeff=1.0, datablock=None, _header='Structure'), UniversalWeir(comments=Comments(id=None, name=None, branchid=None, chainage=None, numcoordinates='Number of values in xCoordinates and yCoordinates', xcoordinates='x-coordinates of the location of the structure. (number of values = numCoordinates)', ycoordinates='y-coordinates of the location of the structure. (number of values = numCoordinates)', type=None, allowedflowdir=None, numlevels=None, yvalues=None, zvalues=None, crestlevel=None, dischargecoeff=None), id='UWeir_Test2', name='UWeir_Test2', type='universalWeir', branchid='riv_RS1_264', chainage=104.147, numcoordinates=None, xcoordinates=None, ycoordinates=None, allowedflowdir='both', numlevels=4, yvalues=[0.0, 2.561, 3.361, 5.891], zvalues=[0.845, 0.0, 0.0, 0.835], crestlevel=7.935, dischargecoeff=1.0, datablock=None, _header='Structure'), Orifice(comments=Comments(id=None, name=None, branchid=None, chainage=None, numcoordinates='Number of values in xCoordinates and yCoordinates', xcoordinates='x-coordinates of the location of the structure. (number of values = numCoordinates)', ycoordinates='y-coordinates of the location of the structure. (number of values = numCoordinates)', crestlevel=None, limitflowneg=None, limitflowpos=None, uselimitflowpos=None, uselimitflowneg=None, crestwidth=None, corrcoeff=None, gateloweredgelevel=None, allowedflowdir=None, usevelocityheight=None, type=None), id='Orifice_Test1', name='Orifice_Test1', type='orifice', branchid='riv_RS1_264', chainage=104.147, numcoordinates=None, xcoordinates=None, ycoordinates=None, allowedflowdir='both', crestlevel=7.935, crestwidth=10.1, gateloweredgelevel=8.95, corrcoeff=1.0, usevelocityheight=True, uselimitflowpos=False, limitflowpos=0.0, uselimitflowneg=False, limitflowneg=0.0, datablock=None, _header='Structure'), Compound(comments=Comments(id=None, name=None, branchid='Branch on which the structure is located.', chainage='Chainage on the branch (m).', numcoordinates='Number of values in xCoordinates and yCoordinates', xcoordinates='x-coordinates of the location of the structure. (number of values = numCoordinates)', ycoordinates='y-coordinates of the location of the structure. (number of values = numCoordinates)', numstructures=None, type=None, structureids=None), id='cmpnd_1', name='cmpnd_1', type='compound', branchid=None, chainage=None, numcoordinates=None, xcoordinates=None, ycoordinates=None, numstructures=2, structureids=['Orifice_Test1', 'UWeir_Test2'], datablock=None, _header='Structure')]\n"
     ]
    }
   ],
   "source": [
    "# Answer to exercise 4 \n",
    "# 4a Get the actual list of structures in the file\n",
    "struc_A = fm.geometry.structurefile[0].structure\n",
    "print(struc_A)"
   ]
  },
  {
   "cell_type": "markdown",
   "id": "0d200153",
   "metadata": {},
   "source": [
    "__IMPORTANT__: For some cases, it is not necessary to read the entire model. Reading the specific model file would be sufficient. "
   ]
  },
  {
   "cell_type": "markdown",
   "id": "c1f9c78d",
   "metadata": {},
   "source": [
    "__EX5__: (a) Read structure INI-File without reading the entire model. (b) Get structure data (save in other variable than EX4)"
   ]
  },
  {
   "cell_type": "code",
   "execution_count": 5,
   "id": "83aed1b5",
   "metadata": {},
   "outputs": [
    {
     "name": "stdout",
     "output_type": "stream",
     "text": [
      "[Weir(comments=Comments(id=None, name=None, branchid=None, chainage=None, numcoordinates='Number of values in xCoordinates and yCoordinates', xcoordinates='x-coordinates of the location of the structure. (number of values = numCoordinates)', ycoordinates='y-coordinates of the location of the structure. (number of values = numCoordinates)', type=None, allowedflowdir=None, crestlevel=None, crestwidth=None, corrcoeff=None, usevelocityheight=None, crest=None), id='Weir_RS373-st1', name='Weir_RS373-st1', type='weir', branchid='riv_RS373_2442', chainage=584.463, numcoordinates=None, xcoordinates=None, ycoordinates=None, allowedflowdir='both', crestlevel=10.429, crestwidth=0.71, corrcoeff=1.0, usevelocityheight=True, crest='boundaries.bc', datablock=None, _header='Structure'), Weir(comments=Comments(id=None, name=None, branchid=None, chainage=None, numcoordinates='Number of values in xCoordinates and yCoordinates', xcoordinates='x-coordinates of the location of the structure. (number of values = numCoordinates)', ycoordinates='y-coordinates of the location of the structure. (number of values = numCoordinates)', type=None, allowedflowdir=None, crestlevel=None, crestwidth=None, corrcoeff=None, usevelocityheight=None), id='Weir_RS373-st2', name='Weir_RS373-st2', type='weir', branchid='riv_RS375_41', chainage=573.639, numcoordinates=None, xcoordinates=None, ycoordinates=None, allowedflowdir='both', crestlevel=9.431, crestwidth=0.71, corrcoeff=1.0, usevelocityheight=True, datablock=None, _header='Structure'), Weir(comments=Comments(id=None, name=None, branchid=None, chainage=None, numcoordinates='Number of values in xCoordinates and yCoordinates', xcoordinates='x-coordinates of the location of the structure. (number of values = numCoordinates)', ycoordinates='y-coordinates of the location of the structure. (number of values = numCoordinates)', type=None, allowedflowdir=None, crestlevel=None, crestwidth=None, corrcoeff=None, usevelocityheight=None), id='Weir_RS1-st15', name='Weir_RS1-st15', type='weir', branchid='riv_RS1_1810', chainage=977.222, numcoordinates=None, xcoordinates=None, ycoordinates=None, allowedflowdir='both', crestlevel=8.235, crestwidth=7.19, corrcoeff=1.0, usevelocityheight=True, datablock=None, _header='Structure'), Weir(comments=Comments(id=None, name=None, branchid=None, chainage=None, numcoordinates='Number of values in xCoordinates and yCoordinates', xcoordinates='x-coordinates of the location of the structure. (number of values = numCoordinates)', ycoordinates='y-coordinates of the location of the structure. (number of values = numCoordinates)', type=None, allowedflowdir=None, crestlevel=None, crestwidth=None, corrcoeff=None, usevelocityheight=None), id='extra_weir', name='extra_weir', type='weir', branchid='riv_RS1_1810', chainage=950.0, numcoordinates=None, xcoordinates=None, ycoordinates=None, allowedflowdir='both', crestlevel=8.0, crestwidth=7.5, corrcoeff=1.0, usevelocityheight=True, datablock=None, _header='Structure'), Bridge(comments=Comments(id=None, name=None, branchid=None, chainage=None, numcoordinates='Number of values in xCoordinates and yCoordinates', xcoordinates='x-coordinates of the location of the structure. (number of values = numCoordinates)', ycoordinates='y-coordinates of the location of the structure. (number of values = numCoordinates)', type=None, allowedflowdir=None, csdefid=None, shift=None, inletlosscoeff=None, outletlosscoeff=None, frictiontype=None, friction=None, length=None), id='RS1-KBR32', name='RS1-KBR32', type='bridge', branchid='riv_RS375_41', chainage=701.141, numcoordinates=None, xcoordinates=None, ycoordinates=None, allowedflowdir='both', csdefid='prof_RS1-KBR32', shift=0.0, inletlosscoeff=1.0, outletlosscoeff=1.0, frictiontype='Strickler', friction=70.0, length=3.54, datablock=None, _header='Structure'), Bridge(comments=Comments(id=None, name=None, branchid=None, chainage=None, numcoordinates='Number of values in xCoordinates and yCoordinates', xcoordinates='x-coordinates of the location of the structure. (number of values = numCoordinates)', ycoordinates='y-coordinates of the location of the structure. (number of values = numCoordinates)', type=None, allowedflowdir=None, csdefid=None, shift=None, inletlosscoeff=None, outletlosscoeff=None, frictiontype=None, friction=None, length=None), id='RS1-KBR31', name='RS1-KBR31', type='bridge', branchid='riv_RS1_264', chainage=104.184, numcoordinates=None, xcoordinates=None, ycoordinates=None, allowedflowdir='both', csdefid='W_980.1S_0', shift=0.0, inletlosscoeff=1.0, outletlosscoeff=1.0, frictiontype='Strickler', friction=70.0, length=9.75, datablock=None, _header='Structure'), Pump(comments=Comments(id=None, name=None, branchid=None, chainage=None, numcoordinates='Number of values in xCoordinates and yCoordinates', xcoordinates='x-coordinates of the location of the structure. (number of values = numCoordinates)', ycoordinates='y-coordinates of the location of the structure. (number of values = numCoordinates)', controlside=None, reductionfactor=None, stoplevelsuctionside=None, startleveldeliveryside=None, capacity=None, orientation=None, numstages=None, startlevelsuctionside=None, head=None, stopleveldeliveryside=None, type=None), id='RS372-gm1_pomp_1', name='RS372-gm1_pomp_1', type='pump', branchid='riv_RS372_175', chainage=0.977, numcoordinates=None, xcoordinates=None, ycoordinates=None, orientation='positive', controlside='suctionSide', numstages=1, capacity=0.44, startlevelsuctionside=[9.3], stoplevelsuctionside=[9.2], startleveldeliveryside=[0.0], stopleveldeliveryside=[0.0], numreductionlevels=0, head=[0.0], reductionfactor=[0.0], datablock=None, _header='Structure'), Pump(comments=Comments(id=None, name=None, branchid=None, chainage=None, numcoordinates='Number of values in xCoordinates and yCoordinates', xcoordinates='x-coordinates of the location of the structure. (number of values = numCoordinates)', ycoordinates='y-coordinates of the location of the structure. (number of values = numCoordinates)', controlside=None, reductionfactor=None, stoplevelsuctionside=None, startleveldeliveryside=None, capacity=None, orientation=None, numstages=None, startlevelsuctionside=None, head=None, stopleveldeliveryside=None, type=None), id='RS178-gm1_pomp_1', name='RS178-gm1_pomp_1', type='pump', branchid='riv_RS375_2611', chainage=341.699, numcoordinates=None, xcoordinates=None, ycoordinates=None, orientation='positive', controlside='suctionSide', numstages=1, capacity=0.44, startlevelsuctionside=[8.6], stoplevelsuctionside=[8.4], startleveldeliveryside=[0.0], stopleveldeliveryside=[0.0], numreductionlevels=0, head=[0.0], reductionfactor=[0.0], datablock=None, _header='Structure'), UniversalWeir(comments=Comments(id=None, name=None, branchid=None, chainage=None, numcoordinates='Number of values in xCoordinates and yCoordinates', xcoordinates='x-coordinates of the location of the structure. (number of values = numCoordinates)', ycoordinates='y-coordinates of the location of the structure. (number of values = numCoordinates)', type=None, allowedflowdir=None, numlevels=None, yvalues=None, zvalues=None, crestlevel=None, dischargecoeff=None), id='UWeir_Test1', name='UWeir_Test1', type='universalWeir', branchid='riv_RS375_41', chainage=475.277, numcoordinates=None, xcoordinates=None, ycoordinates=None, allowedflowdir='both', numlevels=5, yvalues=[0.0, 1.0, 2.0, 4.0, 6.0], zvalues=[1.1, 0.5, 0.0, 0.5, 1.1], crestlevel=7.935, dischargecoeff=1.0, datablock=None, _header='Structure'), UniversalWeir(comments=Comments(id=None, name=None, branchid=None, chainage=None, numcoordinates='Number of values in xCoordinates and yCoordinates', xcoordinates='x-coordinates of the location of the structure. (number of values = numCoordinates)', ycoordinates='y-coordinates of the location of the structure. (number of values = numCoordinates)', type=None, allowedflowdir=None, numlevels=None, yvalues=None, zvalues=None, crestlevel=None, dischargecoeff=None), id='UWeir_Test2', name='UWeir_Test2', type='universalWeir', branchid='riv_RS1_264', chainage=104.147, numcoordinates=None, xcoordinates=None, ycoordinates=None, allowedflowdir='both', numlevels=4, yvalues=[0.0, 2.561, 3.361, 5.891], zvalues=[0.845, 0.0, 0.0, 0.835], crestlevel=7.935, dischargecoeff=1.0, datablock=None, _header='Structure'), Orifice(comments=Comments(id=None, name=None, branchid=None, chainage=None, numcoordinates='Number of values in xCoordinates and yCoordinates', xcoordinates='x-coordinates of the location of the structure. (number of values = numCoordinates)', ycoordinates='y-coordinates of the location of the structure. (number of values = numCoordinates)', crestlevel=None, limitflowneg=None, limitflowpos=None, uselimitflowpos=None, uselimitflowneg=None, crestwidth=None, corrcoeff=None, gateloweredgelevel=None, allowedflowdir=None, usevelocityheight=None, type=None), id='Orifice_Test1', name='Orifice_Test1', type='orifice', branchid='riv_RS1_264', chainage=104.147, numcoordinates=None, xcoordinates=None, ycoordinates=None, allowedflowdir='both', crestlevel=7.935, crestwidth=10.1, gateloweredgelevel=8.95, corrcoeff=1.0, usevelocityheight=True, uselimitflowpos=False, limitflowpos=0.0, uselimitflowneg=False, limitflowneg=0.0, datablock=None, _header='Structure'), Compound(comments=Comments(id=None, name=None, branchid='Branch on which the structure is located.', chainage='Chainage on the branch (m).', numcoordinates='Number of values in xCoordinates and yCoordinates', xcoordinates='x-coordinates of the location of the structure. (number of values = numCoordinates)', ycoordinates='y-coordinates of the location of the structure. (number of values = numCoordinates)', numstructures=None, type=None, structureids=None), id='cmpnd_1', name='cmpnd_1', type='compound', branchid=None, chainage=None, numcoordinates=None, xcoordinates=None, ycoordinates=None, numstructures=2, structureids=['Orifice_Test1', 'UWeir_Test2'], datablock=None, _header='Structure')]\n"
     ]
    }
   ],
   "source": [
    "# Answer to exercise 5:\n",
    "\n",
    "# 5a Read structure INI-file\n",
    "structures = StructureModel(structuresfile)\n",
    "\n",
    "# 5b Get structure data again in this file\n",
    "struc_B = structures.structure\n",
    "print(struc_B)"
   ]
  },
  {
   "cell_type": "markdown",
   "id": "b5f3259f",
   "metadata": {},
   "source": [
    "## Adjust model parameters of existing model\n",
    "This part shows:\n",
    "* how to get the model data to a dataframe, \n",
    "* adjust the model data.\n",
    "* and how to convert the model back to a `hydrolib.core` Pydantic object\n",
    "\n",
    "Note that this is the step where you could connect to your HYDROLIB script."
   ]
  },
  {
   "cell_type": "markdown",
   "id": "a279a177",
   "metadata": {},
   "source": [
    "__Ex6__: Convert the structure data of both reading option to a dataframe. _Tip: please check [dataframe handling example](https://deltares.github.io/HYDROLIB-core/tutorials/dataframe_handling/)_"
   ]
  },
  {
   "cell_type": "code",
   "execution_count": 6,
   "id": "ea6ccfd9",
   "metadata": {},
   "outputs": [],
   "source": [
    "# Answer to 6\n",
    "\n",
    "# Dict to df\n",
    "df_struc_A = pd.DataFrame([f.__dict__ for f in struc_A])\n",
    "df_struc_B = pd.DataFrame([f.__dict__ for f in struc_B])"
   ]
  },
  {
   "cell_type": "markdown",
   "id": "46e360df",
   "metadata": {},
   "source": [
    "__EX7__: Please investigate the dataframes. What do you notice?"
   ]
  },
  {
   "cell_type": "code",
   "execution_count": 7,
   "id": "8aeaec6d",
   "metadata": {},
   "outputs": [
    {
     "name": "stdout",
     "output_type": "stream",
     "text": [
      "                                            comments              id  \\\n",
      "0  id=None name=None branchid=None chainage=None ...  Weir_RS373-st1   \n",
      "1  id=None name=None branchid=None chainage=None ...  Weir_RS373-st2   \n",
      "2  id=None name=None branchid=None chainage=None ...   Weir_RS1-st15   \n",
      "3  id=None name=None branchid=None chainage=None ...      extra_weir   \n",
      "4  id=None name=None branchid=None chainage=None ...       RS1-KBR32   \n",
      "\n",
      "             name    type        branchid  chainage numcoordinates  \\\n",
      "0  Weir_RS373-st1    weir  riv_RS373_2442   584.463           None   \n",
      "1  Weir_RS373-st2    weir    riv_RS375_41   573.639           None   \n",
      "2   Weir_RS1-st15    weir    riv_RS1_1810   977.222           None   \n",
      "3      extra_weir    weir    riv_RS1_1810   950.000           None   \n",
      "4       RS1-KBR32  bridge    riv_RS375_41   701.141           None   \n",
      "\n",
      "  xcoordinates ycoordinates allowedflowdir  ...  yvalues  zvalues  \\\n",
      "0         None         None           both  ...      NaN      NaN   \n",
      "1         None         None           both  ...      NaN      NaN   \n",
      "2         None         None           both  ...      NaN      NaN   \n",
      "3         None         None           both  ...      NaN      NaN   \n",
      "4         None         None           both  ...      NaN      NaN   \n",
      "\n",
      "   dischargecoeff gateloweredgelevel uselimitflowpos limitflowpos  \\\n",
      "0             NaN                NaN             NaN          NaN   \n",
      "1             NaN                NaN             NaN          NaN   \n",
      "2             NaN                NaN             NaN          NaN   \n",
      "3             NaN                NaN             NaN          NaN   \n",
      "4             NaN                NaN             NaN          NaN   \n",
      "\n",
      "  uselimitflowneg limitflowneg  numstructures  structureids  \n",
      "0             NaN          NaN            NaN           NaN  \n",
      "1             NaN          NaN            NaN           NaN  \n",
      "2             NaN          NaN            NaN           NaN  \n",
      "3             NaN          NaN            NaN           NaN  \n",
      "4             NaN          NaN            NaN           NaN  \n",
      "\n",
      "[5 rows x 46 columns]\n",
      "Index(['comments', 'id', 'name', 'type', 'branchid', 'chainage',\n",
      "       'numcoordinates', 'xcoordinates', 'ycoordinates', 'allowedflowdir',\n",
      "       'crestlevel', 'crestwidth', 'corrcoeff', 'usevelocityheight', 'crest',\n",
      "       'datablock', '_header', 'csdefid', 'shift', 'inletlosscoeff',\n",
      "       'outletlosscoeff', 'frictiontype', 'friction', 'length', 'orientation',\n",
      "       'controlside', 'numstages', 'capacity', 'startlevelsuctionside',\n",
      "       'stoplevelsuctionside', 'startleveldeliveryside',\n",
      "       'stopleveldeliveryside', 'numreductionlevels', 'head',\n",
      "       'reductionfactor', 'numlevels', 'yvalues', 'zvalues', 'dischargecoeff',\n",
      "       'gateloweredgelevel', 'uselimitflowpos', 'limitflowpos',\n",
      "       'uselimitflowneg', 'limitflowneg', 'numstructures', 'structureids'],\n",
      "      dtype='object')\n",
      "RangeIndex(start=0, stop=12, step=1)\n",
      "['weir' 'bridge' 'pump' 'universalWeir' 'orifice' 'compound']\n"
     ]
    }
   ],
   "source": [
    "# Answer to 7\n",
    "print(df_struc_A.head())\n",
    "print(df_struc_A.columns)\n",
    "print(df_struc_A.index)\n",
    "print(df_struc_A[\"type\"].unique())\n",
    "\n",
    "# You can see the following things:\n",
    "# (i) all structures are in one datafile, \n",
    "# (ii) this model has the following structures types: weir, universal weir, bridge, pump and compound, \n",
    "# (iii) 12 structures are in the model\n",
    "# (iv) the columns names are all structure parameters in lowercase\n",
    "# (v) and only the relevant structure columns are filled for each structure. \n",
    "\n"
   ]
  },
  {
   "cell_type": "markdown",
   "id": "6b8b3587",
   "metadata": {},
   "source": [
    "__EX8__: Change the crestlevel and crestwidth of the weir \"Weir_RS373-st1\" to respectively 10.1 m AD and 0.69 m in the dataframes."
   ]
  },
  {
   "cell_type": "code",
   "execution_count": 8,
   "id": "98d61c32",
   "metadata": {},
   "outputs": [],
   "source": [
    "# Answer to 8\n",
    "\n",
    "# Adjust parameters, for example a crest level\n",
    "df_struc_A.loc[df_struc_A[\"id\"] == \"Weir_RS373-st1\", \"crestlevel\"] = 10.1\n",
    "df_struc_A.loc[df_struc_A[\"id\"] == \"Weir_RS373-st1\", \"crestwidth\"] = 0.69\n",
    "\n",
    "df_struc_B.loc[df_struc_B[\"id\"] == \"Weir_RS373-st1\", \"crestlevel\"] = 10.1\n",
    "df_struc_B.loc[df_struc_B[\"id\"] == \"Weir_RS373-st1\", \"crestwidth\"] = 0.69\n",
    "\n"
   ]
  },
  {
   "cell_type": "markdown",
   "id": "16cfee0c",
   "metadata": {},
   "source": [
    "__EX9__: Convert the dataframes to a Pydantic object. Please note that the structures in the MDU-Model should be replaced."
   ]
  },
  {
   "cell_type": "code",
   "execution_count": 9,
   "id": "11601391",
   "metadata": {},
   "outputs": [],
   "source": [
    "# Answer to 9\n",
    "\n",
    "# Convert dataframe back to object\n",
    "struc_A = StructureModel(structure=df_struc_A.to_dict(\"records\"))\n",
    "struc_B = StructureModel(structure=df_struc_B.to_dict(\"records\"))\n",
    "\n",
    "# Store struc_A in FMModel\n",
    "fm.geometry.structurefile[0] = struc_A\n",
    "\n",
    "\n"
   ]
  },
  {
   "cell_type": "markdown",
   "id": "25489bd0",
   "metadata": {},
   "source": [
    "Now we learned how to adjust the model parameters in the structure INI-file. Below you will practise with adjusting model parameters in the MDU-file self. \n",
    "\n",
    "__EX10__: Adjust the stop time of the simulation to 2 days after the start time. (_Tip: Use header and parameter name from MDU-file_ to access the model fields in the Python objects.)"
   ]
  },
  {
   "cell_type": "code",
   "execution_count": 10,
   "id": "dcf6cd3f",
   "metadata": {},
   "outputs": [
    {
     "name": "stdout",
     "output_type": "stream",
     "text": [
      "0.0\n",
      "86400.0\n",
      "172800.0\n"
     ]
    }
   ],
   "source": [
    "# Answer to 10\n",
    "print(fm.time.tstart)\n",
    "print(fm.time.tstop)\n",
    "fm.time.tstop = 2*fm.time.tstop\n",
    "print(fm.time.tstop)"
   ]
  },
  {
   "cell_type": "markdown",
   "id": "1fc7372a",
   "metadata": {},
   "source": [
    "# Write model(elements) I"
   ]
  },
  {
   "cell_type": "markdown",
   "id": "3577892e",
   "metadata": {},
   "source": [
    "Similar to the reading part, there are also three levels at which the model and/or -elements can be saved. This can be done with the following function: \n",
    "```python\n",
    "\"Model(element)\".save(output_directory)\n",
    "```\n",
    "In this part we will do it for model level (MDU-file) and file level (structure INI-file). "
   ]
  },
  {
   "cell_type": "markdown",
   "id": "03da4287",
   "metadata": {},
   "source": [
    "__EX11__: Create output directory for (a) model, and (b) modelfiles"
   ]
  },
  {
   "cell_type": "code",
   "execution_count": 11,
   "id": "04dcc4dc",
   "metadata": {},
   "outputs": [],
   "source": [
    "# Answer to 11\n",
    "\n",
    "# Create output directories\n",
    "outputdir = root / \"output\"\n",
    "outputdir_files = root / \"output_files\"\n",
    "outputdir.mkdir(parents=True, exist_ok=True)\n",
    "outputdir_files.mkdir(parents=True, exist_ok=True)\n"
   ]
  },
  {
   "cell_type": "markdown",
   "id": "d0bd7b9e",
   "metadata": {},
   "source": [
    "__EX12__: Save/write adjusted (a) MDU-model, (b) structure INI-file, and (c) check the saved models"
   ]
  },
  {
   "cell_type": "code",
   "execution_count": 12,
   "id": "fa212c1b",
   "metadata": {},
   "outputs": [
    {
     "data": {
      "text/plain": [
       "WindowsPath('d:/dam_ar/unstruc_plannen/2021/20210000_HYDROLIB/N/E. Correspondence/Meetings/20211102_HYDROLIB-core_developer_training/getting_started/output_files/structures.ini')"
      ]
     },
     "execution_count": 12,
     "metadata": {},
     "output_type": "execute_result"
    }
   ],
   "source": [
    "# Answer to 12\n",
    "\n",
    "# Save MDU-Model\n",
    "fm.save(outputdir)\n",
    "\n",
    "# Save Structure INI-file\n",
    "struc_B.save(outputdir_files)"
   ]
  },
  {
   "cell_type": "markdown",
   "id": "10720637",
   "metadata": {},
   "source": [
    "# Extend existing model with new elements"
   ]
  },
  {
   "cell_type": "markdown",
   "id": "39dcb2b5",
   "metadata": {},
   "source": [
    "In some cases, new elements needs to be added to an existing model and/or model file or even an entire new model should be generated. \n",
    "\n",
    "This part shows  how to add a single new element to an existing model. First an new weir will be added, followed by turning the MDU-model into a DIMR model and adding the dimr_config.xml into the mix. "
   ]
  },
  {
   "cell_type": "markdown",
   "id": "8b947f18",
   "metadata": {},
   "source": [
    "__EX13__:Add the weir 'tutorial' at branch 'Riv_RS1_1076' 1 km from the upstream point with a positive flow direction, crest level of 8.9 m AD, crest width of 8 m, and a correction coefficient of 0.9. (_Tip: check [tutorial HYDROLIB-core](https://deltares.github.io/HYDROLIB-core/tutorials/steps/)._)"
   ]
  },
  {
   "cell_type": "code",
   "execution_count": 13,
   "id": "33c6e222",
   "metadata": {},
   "outputs": [
    {
     "name": "stdout",
     "output_type": "stream",
     "text": [
      "8.9\n"
     ]
    }
   ],
   "source": [
    "# Answer to 13\n",
    "\n",
    "# Create a weir\n",
    "struc_weir = Weir(\n",
    "    id=\"tutorial\", \n",
    "    name=\"tutorial_weir\", \n",
    "    branchid=\"Riv_RS1_1076\", \n",
    "    chainage=1000.0, type=\"weir\", \n",
    "    allowedflowdir=FlowDirection.positive, \n",
    "    crestlevel=8.9, \n",
    "    crestwidth=8.0, \n",
    "    corrcoef=0.9, \n",
    "    usevelocityheight=True\n",
    ")\n",
    "\n",
    "# Print crest level of this newly created weir\n",
    "print(struc_weir.crestlevel)\n",
    "\n",
    "# Add weir structure to other structures\n",
    "fm.geometry.structurefile[0].structure.append(struc_weir)\n",
    "\n"
   ]
  },
  {
   "cell_type": "markdown",
   "id": "55d255b9",
   "metadata": {},
   "source": [
    "Note that the code below would generate a new structure model and all the other structure will be lost. \n",
    "```python\n",
    "fm.geometry.structurefile = [StructureModel(structure=[struc_weir])]\n",
    "```\n",
    "If you start from scratch, then the code above will be useful."
   ]
  },
  {
   "cell_type": "markdown",
   "id": "c8797698",
   "metadata": {},
   "source": [
    "__EX14__: (a) Create a dimr model (b) from the MDU-model and (c+d) save the DIMR model."
   ]
  },
  {
   "cell_type": "code",
   "execution_count": 18,
   "id": "bdc222f1",
   "metadata": {},
   "outputs": [
    {
     "data": {
      "text/plain": [
       "WindowsPath('d:/dam_ar/unstruc_plannen/2021/20210000_HYDROLIB/N/E. Correspondence/Meetings/20211102_HYDROLIB-core_developer_training/getting_started/output_dimr/dimr_config.xml')"
      ]
     },
     "execution_count": 18,
     "metadata": {},
     "output_type": "execute_result"
    }
   ],
   "source": [
    "# Answer to 14\n",
    "\n",
    "# a) Create a dimr model\n",
    "dimr = DIMR()\n",
    "\n",
    "# b) Add the existing fm model from Ex.2 to this dimr model\n",
    "dimr.component.append(\n",
    "    FMComponent(name=\"MGB\", workingDir=\".\", inputfile=fm.filepath, model=fm)\n",
    ")\n",
    "\n",
    "# c) Generate new directory\n",
    "outputdimr = root/\"output_dimr\"\n",
    "outputdimr.mkdir(parents=True, exist_ok=True)\n",
    "\n",
    "# d) save dimr model\n",
    "dimr.save(outputdimr)"
   ]
  },
  {
   "cell_type": "code",
   "execution_count": null,
   "id": "10a6b483",
   "metadata": {},
   "outputs": [],
   "source": []
  }
 ],
 "metadata": {
  "kernelspec": {
   "display_name": "Python [conda env:hydrolib] *",
   "language": "python",
   "name": "conda-env-hydrolib-py"
  },
  "language_info": {
   "codemirror_mode": {
    "name": "ipython",
    "version": 3
   },
   "file_extension": ".py",
   "mimetype": "text/x-python",
   "name": "python",
   "nbconvert_exporter": "python",
   "pygments_lexer": "ipython3",
   "version": "3.8.12"
  }
 },
 "nbformat": 4,
 "nbformat_minor": 5
}
