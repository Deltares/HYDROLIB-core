{
 "cells": [
  {
   "cell_type": "markdown",
   "id": "d3a50766",
   "metadata": {},
   "source": [
    "# Tutorial Delft3D FM 1D2D fluvial flood model of Magdalena river \n",
    "\n",
    "This notebook is an introduction on how-to use [HYDROLIB-core](https://github.com/Deltares/HYDROLIB-core) functionalities to create a Delft3D FM Suite 1D2D fluvial flood model of the Magdalena river in Columbia. First an 1D river model of the Magdalena river and Canal del Dique will be created, shown in the left figure. This model will be extended with an 2D Flexible Mesh and a MERIT DTM will be added to the model in order to mimic the fluvial flood patterns. Running the model or importing the model in the Delft3D FM Suite 1D2D is not part of the exercise.  \n",
    "\n",
    "<p align=\"center\">\n",
    "  <img alt=\"Light\" src=\"figures/1D_model.png\" width=\"45%\" >\n",
    "&nbsp; &nbsp; &nbsp; &nbsp;\n",
    "  <img alt=\"Dark\" src=\"figures/1D2D_model.png\" width=\"45%\">\n",
    "</p>\n",
    "\n",
    "Note that the model and tutorial are created for educational purposes and consist partially of fictive/unvalidated model elements. \n",
    "\n",
    "<hr style=\"border-style: dotted;\" />\n",
    "\n",
    " ```HYDROLIB-core``` is the core library of Python wrappers around the D-HYDRO Suite 1D2D model files (input and output) and model engines (kernel libraries). ```HYDROLIB``` is a Python package with tools for pre-processing, post-processing and analysis of hydrodynamical data and simulation results, currently focused on Delft3D Suite 1D2D. [HYDROLIB](https://github.com/Deltares/HYDROLIB)  builds upon the basic HYDROLIB-core functionalities.\n",
    "\n",
    "<hr style=\"border-style: dotted;\" />\n",
    "\n",
    "The main goal of this tutorial is to familiarize modelers with how to apply HYDROLIB-core functionalities in their modelling procedures. \n",
    "\n",
    "1. Loading libraries\n",
    "2. Create \n",
    "Adjust model parameters of existing model\n",
    "3. Write model(elements) I\n",
    "4. Extend existing model with new elements\n",
    "5. Write model(elements) II\n",
    "\n",
    "To run this notebook a simple Python environment with the following packages is required:\n",
    "```\n",
    "pip install hydrolib-core pandas pathlib\n",
    "```\n",
    "_Remark_ Note that an email was sent to all participants to create an environment with the ```hydrolib-core``` package installed. In the meantime, a new release was created, so please update the pip install of this package:\n",
    "```\n",
    "pip install -U hydrolib-core\n",
    "```\n",
    "\n",
    "Furthermore, a dummy model is needed to run the notebook code. This dummy-model is generated using the D-HyDAMO converter scripts ([delft3dfmpy](https://github.com/openearth/delft3dfmpy) and will, for now, be provided to you via a download link. \n",
    "\n",
    "Let's get started"
   ]
  },
  {
   "cell_type": "markdown",
   "id": "bdfeb89e",
   "metadata": {},
   "source": [
    "## Loading libraries\n",
    "__EX1__: Import the libraries required in the notebook below. _Tip: please consult the [HYDROLIB-core documentation](https://deltares.github.io/HYDROLIB-core/tutorials/steps/)_"
   ]
  },
  {
   "cell_type": "code",
   "execution_count": 16,
   "id": "1af81c2e",
   "metadata": {},
   "outputs": [],
   "source": [
    "# basis \n",
    "import pandas as pd\n",
    "\n",
    "# I/O\n",
    "from pathlib import Path\n",
    "\n",
    "# Answer to 1 -  hydrolib-core libraries\n",
    "from hydrolib.core.io.dimr.models import DIMR, FMComponent\n",
    "from hydrolib.core.io.mdu.models import FMModel\n",
    "from hydrolib.core.io.structure.models import FlowDirection, StructureModel, Weir\n",
    "\n"
   ]
  }
 ],
 "metadata": {
  "kernelspec": {
   "display_name": "Python [conda env:hydrolib] *",
   "language": "python",
   "name": "conda-env-hydrolib-py"
  },
  "language_info": {
   "codemirror_mode": {
    "name": "ipython",
    "version": 3
   },
   "file_extension": ".py",
   "mimetype": "text/x-python",
   "name": "python",
   "nbconvert_exporter": "python",
   "pygments_lexer": "ipython3",
   "version": "3.8.12"
  }
 },
 "nbformat": 4,
 "nbformat_minor": 5
}
