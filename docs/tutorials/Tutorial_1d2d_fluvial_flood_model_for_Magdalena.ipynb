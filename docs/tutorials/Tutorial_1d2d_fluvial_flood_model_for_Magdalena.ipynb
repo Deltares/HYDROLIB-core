{
 "cells": [
  {
   "cell_type": "markdown",
   "id": "d3a50766",
   "metadata": {},
   "source": [
    "# Tutorial Delft3D FM 1D2D fluvial flood model of Magdalena river \n",
    "\n",
    "This notebook is an introduction on how to use [HYDROLIB-core](https://github.com/Deltares/HYDROLIB-core) functionalities to create and adjust a Delft3D FM Suite 1D2D fluvial flood model of the Magdalena river in Columbia. First a 1D river model of the Magdalena river and Canal del Dique will be created, shown in the left figure. This model will be extended with a 2D Flexible Mesh, with a uniform roughness field. Adding a DTM on that 2D mesh is currently not part of this tutorial, but normally this is of course indispensible to mimic the fluvial flood patterns. Running the model or importing the model in the Delft3D FM Suite 1D2D is not shown in this tutorial.  \n",
    "\n",
    "<p align=\"center\">\n",
    "  <img alt=\"Light\" src=\"figures/1D_model.png\" width=\"45%\" >\n",
    "&nbsp; &nbsp; &nbsp; &nbsp;\n",
    "  <img alt=\"Dark\" src=\"figures/1D2D_model.png\" width=\"45%\">\n",
    "</p>\n",
    "\n",
    "Note that the model and tutorial are created for educational purposes and consist partially of fictive/unvalidated model data. \n",
    "\n",
    "<hr style=\"border-style: dotted;\" />\n",
    "\n",
    " ```HYDROLIB-core``` is the core library of Python wrappers around the D-HYDRO Suite 1D2D model files (input and output) and model engines (kernel libraries). ```HYDROLIB``` is a Python package with tools for pre-processing, post-processing and analysis of hydrodynamical data and simulation results, currently focused on Delft3D Suite 1D2D. [HYDROLIB](https://github.com/Deltares/HYDROLIB) builds upon the basic HYDROLIB-core functionalities.\n",
    "\n",
    "<hr style=\"border-style: dotted;\" />\n",
    "\n",
    "The goal of this tutorial is to familiarize modelers with how to apply HYDROLIB-core functionalities in their modelling procedures for building new models or adjusting existing models. As mentioned above, you will create an 1D2D fluvial flood model from scratch using the ```D-Flow FM``` HYDROLIB-core functionalities and the underlying functions from mesh generation ([MeshKernelPy](https://github.com/Deltares/MeshKernelPy)). The building of the model is done by the following steps\n",
    "\n",
    "1. Loading libraries\n",
    "1. Connect to data folder\n",
    "1. Create empty D-Flow FM model \n",
    "3. Read branches\n",
    "4. Create computational grid\n",
    "5. Add cross-sections\n",
    "6. Add roughness\n",
    "7. Add boundary conditions\n",
    "7. Add initial conditions\n",
    "8. Add a weir to the model\n",
    "9. Save 1D model\n",
    "10. Create 2D flexible mesh\n",
    "11. Add 2D DTM to model\n",
    "13. Save 1D2D model\n",
    "\n",
    "Note that HYDROLIB-core also contains functionalities to setup lumped rainfall runoff models (```D-RR```) and to apply real-time control at structures (```D-RTC```), but these are not covered in this tutorial.\n",
    "### Installation\n",
    "To run this notebook a simple Python environment with the following packages is required:\n",
    "```\n",
    "  - python=3.9\n",
    "  - pandas\n",
    "  - geopandas\n",
    "  - pyogrio \n",
    "  - matplotlib\n",
    "  - numpy\n",
    "  - jupyter\n",
    "  - xarray\n",
    "  - openpyxl\n",
    "  - pip\n",
    "  - pip:\n",
    "    - hydrolib-core==0.3.1\n",
    "    - meshkernel==1.0.0\n",
    "\n",
    "```\n",
    "Note that all participants received an e-mail to download the material from the Deltares download portal and to create a [Conda](https://conda.io/projects/conda/en/latest/user-guide/tasks/manage-environments.html#) environment with the packages automatically installed from ```environment.yml```. Furthermore, a dummy model is provided at the download portal to test the  environment.\n",
    "\n",
    "### Tips for working in the Jupyter Notebook:\n",
    "\n",
    "  * __Tab__: Auto-complete on code\n",
    "  * __Shift__+__Tab__: Tooltip\n",
    "  * __Ctrl__+__Enter__: Run cell \n",
    "  * __Shift__+__Enter__: Run cell and move to next cell \n",
    "  * __Ctrl__+__Shift__+__P__: Open command palette\n",
    "\n",
    "Let's get started!"
   ]
  },
  {
   "cell_type": "markdown",
   "id": "bdfeb89e",
   "metadata": {},
   "source": [
    "## Loading libraries\n",
    "Several Python packages are required to run the notebook. These packages are imported below. Please consult the [HYDROLIB-core documentation](https://deltares.github.io/HYDROLIB-core/latest/) if you want to import additional HYDROLIB-core functionalities later. The import of HYDROLIB-core packages will be simplied in future HYDROLIB-core release (> 0.3.1)"
   ]
  },
  {
   "cell_type": "code",
   "execution_count": null,
   "id": "1af81c2e",
   "metadata": {},
   "outputs": [],
   "source": [
    "# basic packages\n",
    "import numpy as np\n",
    "import pandas as pd\n",
    "import matplotlib.pyplot as plt\n",
    "\n",
    "# I/O\n",
    "from pathlib import Path\n",
    "\n",
    "# vector/polygon packages\n",
    "import geopandas as gpd\n",
    "from shapely import wkt\n",
    "from shapely.geometry import box\n",
    "\n",
    "# HYDROLIB-core libraries\n",
    "from hydrolib.core.io.mdu.models import FMModel, AutoStartOption\n",
    "from hydrolib.core.io.net.models import *\n",
    "from hydrolib.core.io.crosssection.models import CrossLocModel, CrossDefModel, CrossSection, YZCrsDef\n",
    "from hydrolib.core.io.friction.models import *\n",
    "from hydrolib.core.io.bc.models import *\n",
    "from hydrolib.core.io.ext.models import *\n",
    "from hydrolib.core.io.inifield.models import *\n",
    "from hydrolib.core.io.onedfield.models import *\n",
    "from hydrolib.core.io.structure.models import Weir, FlowDirection, StructureModel\n"
   ]
  },
  {
   "cell_type": "markdown",
   "id": "70b1fece",
   "metadata": {},
   "source": [
    "## Connect to data\n",
    "The data for this tutorial is provided via the download portal. \n",
    "\n",
    "__EX1__: Change the ```inputdir``` to the path of your unzipped data folder."
   ]
  },
  {
   "cell_type": "code",
   "execution_count": null,
   "id": "020cec22",
   "metadata": {},
   "outputs": [],
   "source": [
    "# Get the directory of the notebook location\n",
    "root = Path.cwd()\n",
    "\n",
    "# Answer EX1\n",
    "# Specify the path to the data folder\n",
    "inputdir = \n"
   ]
  },
  {
   "cell_type": "markdown",
   "id": "08b0b683",
   "metadata": {},
   "source": [
    "## Create empty D-Flow FM model\n",
    "\n",
    "To start a model from scratch you need to create first an empty model without data and assign a filepath to the model. In this case a D-Flow FM model is created. The MDU file (master definition file) is the main file of the D-Flow FM model. This is created with the [```FMModel()```](https://deltares.github.io/HYDROLIB-core/0.3.1/reference/mdu/#hydrolib.core.io.mdu.models.FMModel) function.\n",
    "The `fm` model object is only created in memory. To save the actual model file, call `fm.save()`.\n",
    "\n",
    "__EX2__: Set the ```outputdir``` of the model and give it a name. Verify that an MDU file has been written in your output directory."
   ]
  },
  {
   "cell_type": "code",
   "execution_count": null,
   "id": "d7c50c3c",
   "metadata": {},
   "outputs": [],
   "source": [
    "# Create empty D-Flow FM model\n",
    "fm = FMModel()\n",
    "\n",
    "# Answer EX2\n",
    "# Assign filepath to the D-Flow FM model\n",
    "outputdir = \n",
    "\n",
    "fm.filepath = outputdir / 'Magdalena_1D.mdu'\n",
    "fm.save()"
   ]
  },
  {
   "cell_type": "markdown",
   "id": "5d1575c3",
   "metadata": {},
   "source": [
    "## PART 1: Set up a 1D Delft3D FM model\n",
    "In this part we will build up the complete 1D model schematization step by step. At the end you should have a complete set of model input files for a 1D calculation.\n",
    "\n",
    "## Read branches\n",
    "The model will include the lower part of the Magadalena from Cordoba Teton to the river mouth Baranquilla and the Canal del Dique.\n",
    "\n",
    "__EX2__: Please investigate the ```branches``` variable and answer the following questions for yourself:\n",
    "* How many river branches does the model have?\n",
    "* What are their names?\n",
    "* Which friction type and values are used for each branch?\n"
   ]
  },
  {
   "cell_type": "code",
   "execution_count": null,
   "id": "4b0f78b6",
   "metadata": {},
   "outputs": [],
   "source": [
    "# Read the branches\n",
    "branches = gpd.read_file(filename = inputdir / 'branches_Branches.shp')\n",
    "\n",
    "# Answer EX3\n",
    " "
   ]
  },
  {
   "cell_type": "markdown",
   "id": "c2ff9e4e",
   "metadata": {},
   "source": [
    "## Create 1D computational grid\n",
    "\n",
    "In the previous step you read the geometry and attributes of the branches into the notebook. These branches will become the ***network*** input to our `FMModel`. The cell below shows how the geometry and name of the branches are assigned to the network. In addition a 1D computational grid (````mesh1d````) with gridpoint every 1000 meter is created on top of this network. \n",
    "\n",
    "Since the network does not yet exist, you need to create an empty [network model](https://deltares.github.io/HYDROLIB-core/0.3.1/reference/net/). Assign the geometry of the branches followed by the generation of the computational grid. The network model should be added to the D-Flow FM model (``fm`` variable in this notebook) as ```network``` in the ```netfile``` parameter in the section ```geometry```. Note that you have to specify a filepath for the networkfile.  \n",
    "\n",
    "Note that the network model can consist of 1D, 2D flexible mesh (```mesh2d```) and 1D2D links (```links1d2d```). "
   ]
  },
  {
   "cell_type": "code",
   "execution_count": null,
   "id": "92176f85",
   "metadata": {},
   "outputs": [],
   "source": [
    "# Specify 1D computational grid distance\n",
    "dx = 1000.0\n",
    "\n",
    "# Create an empty network\n",
    "network = Network()\n",
    "\n",
    "# Assign geometry of the branches and generate the computational grid on top of the branches.\n",
    "for index,branch in branches.iterrows():\n",
    "    xy = np.transpose(branch.geometry.xy)\n",
    "    branch_new = Branch(geometry=xy) \n",
    "    branch_new.generate_nodes(mesh1d_edge_length=dx)\n",
    "    network.mesh1d_add_branch(branch_new, name=branch.Name)\n",
    "\n",
    "# Assign the 1D network with 1D mesh to the D-Flow FM model and specify filepath\n",
    "fm.geometry.netfile.network = network\n",
    "fm.geometry.netfile.filepath = \"FlowFM_net.nc\"\n"
   ]
  },
  {
   "cell_type": "markdown",
   "id": "1e99805a",
   "metadata": {},
   "source": [
    "__EX3__: Please change the computational grid distance of each branch accordingly:\n",
    "\n",
    "| **Branch name** | **dx [m]** |\n",
    "|-----------------|------------|\n",
    "| Channel_1D_1_A  | 1000       |\n",
    "| Channel_1D_1_B  | 1000       |\n",
    "| Channel_1D      | 500        |\n",
    "\n",
    "_Tip_: Do not forget to create a new network."
   ]
  },
  {
   "cell_type": "code",
   "execution_count": null,
   "id": "d3217021",
   "metadata": {},
   "outputs": [],
   "source": [
    "# Answer EX3\n",
    "\n",
    "# Specify 1D computational grid distance\n",
    "dx = \n",
    "\n",
    "# Create an empty network\n",
    "\n",
    "\n",
    "# Assign geometry of the branches and generate the computational grid on top of the branches.\n",
    "for index,branch in branches.iterrows():\n",
    "    xy = np.transpose(branch.geometry.xy)\n",
    "    branch_new = Branch(geometry=xy) \n",
    "    branch_new.generate_nodes(mesh1d_edge_length=dx)\n",
    "    network.mesh1d_add_branch(branch_new, name=branch.Name)\n",
    "network._mesh1d._set_mesh1d()\n",
    "\n",
    "# Assign the 1D network with 1D mesh to the D-Flow FM model and specify filepath\n",
    "fm.geometry.netfile.network = \n",
    "fm.geometry.netfile.filepath = "
   ]
  },
  {
   "cell_type": "markdown",
   "id": "a2c2d047",
   "metadata": {},
   "source": [
    "The 1D branches are plotted on a map in the figure below.\n",
    "Also, the computational grid points in the `mesh1d` definition are shown."
   ]
  },
  {
   "cell_type": "code",
   "execution_count": null,
   "id": "72c846a8",
   "metadata": {},
   "outputs": [],
   "source": [
    "# Create a figure with the flowlinks of the model\n",
    "figure, (ax1, ax2) = plt.subplots(ncols=2)\n",
    "img = plt.imread(inputdir/\"osm_background.png\")\n",
    "mesh1d_meshkernel = network._mesh1d._get_mesh1d()\n",
    "\n",
    "ax1.imshow(img, extent=[440000,531544.97964175534434617 ,1057000 ,1228644.01383191486820579 ])\n",
    "mesh1d_meshkernel.plot_edges(ax=ax1, color='red')\n",
    "\n",
    "# Add some annotation of branches:\n",
    "for index,branch in branches.iterrows():\n",
    "    middleIndex = int((len(branch['geometry'].coords) - 1)/2)\n",
    "    ax1.text(branch['geometry'].xy[0][middleIndex], branch['geometry'].xy[1][middleIndex], branch['Name'], ha='right')\n",
    "\n",
    "# Make a second plot with a zoom-in view of the computational grid points near the junction\n",
    "ax2.imshow(img, extent=[440000,531544.97964175534434617 ,1057000 ,1228644.01383191486820579 ])\n",
    "ax2.set_xlim([500000, 525000])\n",
    "ax2.set_ylim([1125000 ,1150000])\n",
    "mesh1d_meshkernel.plot_edges(ax=ax2, color='red',marker='.',markeredgecolor='k',markersize=1)\n",
    "\n"
   ]
  },
  {
   "cell_type": "markdown",
   "id": "f3c66497",
   "metadata": {},
   "source": [
    "## Add cross-sections\n",
    "\n",
    "In order to determine the flow area of the 1D model during the computation, you need cross-sections. These cross-sections consist of two components: \n",
    "1. __Cross-section locations__ (```crosslocfile```):\n",
    "The crosslocfile contains the location of the cross-section on the branches. This is indicated with ```branchId chainage```, where branchId is the name of the branch  and chainage the distance to the upstream node. The figure below shows the cross-section locations in grey. In addition the cross-section location consist of the ```cross-section definition``` used at that location and a vertical ```shift``` of the profile. The latter is mainly used to create a good longitudinal slope over the 1D model (in case of shared cross-sections).\n",
    "<p align=\"center\">\n",
    "<img alt=\"Light\" src=\"figures/crosloc.png\" width=\"80%\" >\n",
    "<p\\>\n",
    "\n",
    "2. __Cross-section definitions__ (```crossdeffile```): The crossdeffile has the cross-section definitions in it. These definitions describe the shape of the profile. There are multiple types available: circle, rectangle, ZW- (tabulated), YZ- and XYZ-profiles. Depending on what type of watersystem you try to model you decide which cross-section to use. We recommend to use ZW- or YZ-profiles for rivers. \n",
    "<p align=\"center\">\n",
    "<img alt=\"Light\" src=\"figures/crsdef.png\" width=\"40%\" >\n",
    "<p\\>\n",
    "\n"
   ]
  },
  {
   "cell_type": "markdown",
   "id": "895bbf0b",
   "metadata": {},
   "source": [
    "### Add cross-section locations\n",
    "Below the cross-section locations are read from a CSV-file and added to an empty [CrossLocModel](https://deltares.github.io/HYDROLIB-core/0.3.1/reference/crosssection/#hydrolib.core.io.crosssection.models.CrossLocGeneral). Note that the entire dataframe with the cross-section locations is converted at once to CrossLocModel. More about dataframe handling in HYDROLIB-core can be found [here](https://deltares.github.io/HYDROLIB-core/0.3.1/tutorials/dataframe_handling/).\n",
    "\n",
    "__EX4__: \n",
    "Please investigate the ```profile_loc``` variable and answer the following questions for yourself:\n",
    "* How many cross-sections are there in the model and per branch?\n",
    "* Check the chainage. \n",
    "\n",
    "Also print the cross-sections locations assigned to the D-Flow FM model. Use ```fm.geometry.crosslocfile.crosssection``` (part 2). \n",
    "* What happens if you only print the first ```fm.geometry.crosslocfile```"
   ]
  },
  {
   "cell_type": "code",
   "execution_count": null,
   "id": "45cd95de",
   "metadata": {},
   "outputs": [],
   "source": [
    "# Read profile location file\n",
    "profiles_location_file = inputdir / 'cross_section_locations.csv'\n",
    "profiles_loc = pd.read_csv(profiles_location_file, index_col=False)\n",
    "\n",
    "# Answer EX4  - part 1\n",
    "\n",
    "\n",
    "# Create empty cross-section location model\n",
    "crsloc = CrossLocModel()\n",
    "\n",
    "# Assign filepath to the model\n",
    "crsloc.filepath = 'crsloc.ini'\n",
    "\n",
    "# Convert the dataframe\n",
    "crsloc.crosssection = profiles_loc.to_dict(\"records\")\n",
    "\n",
    "# Assign CrossLocModel to the D-Flow FM model.\n",
    "fm.geometry.crosslocfile = crsloc\n",
    "\n",
    "# Answer EX4 - part 2\n",
    "\n",
    "\n",
    " \n",
    "\n"
   ]
  },
  {
   "cell_type": "markdown",
   "id": "cda90bc6",
   "metadata": {},
   "source": [
    "### Add cross-section definitions\n",
    "\n",
    "In the following cell the definitions belonging to the cross-section locations are added to the D-Flow FM model. These cross-sections are all YZ-profiles in order to define natural shape of the river. \n",
    "\n",
    "Please see that the following steps are included:\n",
    "1. Read the cross-section definitions from an excel. Note that the cross-section definitions id's match with the definitions specified in the crossLocModel.\n",
    "2. Create an empty [CrossDefModel](https://deltares.github.io/HYDROLIB-core/0.3.1/reference/crosssection/#hydrolib.core.io.crosssection.models.CrossDefModel) and assign filepath\n",
    "3. Specify some characteristics for YZ profile. Please consult [appendix C.16.1.6 from D-Flow FM 1D2D](https://content.oss.deltares.nl/delft3d/manuals/D-Flow_FM_User_Manual_1D2D.pdf)\n",
    "4. Create [YZCrsDef](https://deltares.github.io/HYDROLIB-core/0.3.1/reference/crosssection/#hydrolib.core.io.crosssection.models.YZCrsDef) for each profile definition.\n",
    "5. Append the definition to the CrossDefModel.\n",
    "6. Append the CrossDefModel to the D-Flow FM model.\n"
   ]
  },
  {
   "cell_type": "code",
   "execution_count": null,
   "id": "3cbe2f36",
   "metadata": {},
   "outputs": [],
   "source": [
    "# Create cross-section definitions\n",
    "profiles_file = inputdir / '1D_YZ_CrossSections.xlsx'\n",
    "\n",
    "profiles = pd.read_excel(profiles_file, sheet_name=None)\n",
    "names = list(profiles.keys())\n",
    "print(names)\n",
    "\n",
    "# Create empty CrossDefModel\n",
    "crsdef = CrossDefModel()\n",
    "crsdef.filepath = 'crsdef.ini'\n",
    "\n",
    "# Specify some charachteristics for YZ profile\n",
    "type_crs = 'yz'\n",
    "thalweg = 0.0\n",
    "singleValued = 'yes'\n",
    "conveyance = 'segmented'\n",
    "sectionCount = 1\n",
    "\n",
    "# Create the YZ profiles and append them to the CrossDefModel\n",
    "for name in names:\n",
    "    yzCount = len(profiles[name].values)\n",
    "    ycoord = profiles[name].y.to_list()\n",
    "    zcoord = profiles[name].z.to_list()\n",
    "    frictionIds = 'channels'\n",
    "    frictionPositions = [profiles[name].y[0], profiles[name].y[yzCount-1]]\n",
    "\n",
    "    crosssection = YZCrsDef(id=name, \n",
    "        type=type_crs, \n",
    "        thalweg=thalweg, \n",
    "        singleValuedZ=singleValued, \n",
    "        conveyance=conveyance,\n",
    "        yzCount=yzCount, \n",
    "        yCoordinates= ycoord, \n",
    "        zCoordinates=zcoord,\n",
    "        sectionCount=sectionCount,\n",
    "        frictionIds = frictionIds,\n",
    "        frictionPositions=frictionPositions)\n",
    "    \n",
    "    crsdef.definition.append(crosssection)\n",
    "    print(f'definition of {name} added to cross-section model')\n",
    "\n",
    "# Append CrossDefModel to D-Flow FM model\n",
    "fm.geometry.crossdeffile = crsdef\n"
   ]
  },
  {
   "cell_type": "markdown",
   "id": "22f6e51a",
   "metadata": {},
   "source": [
    "## Add roughness\n",
    "\n",
    "The 1D model has now a network topology, computational 1D grid and cross-sections. Friction is a component that should be added to the model to get the proper bed roughness and channel conveyance.\n",
    "\n",
    "In this step you will add the [FrictionModel](https://deltares.github.io/HYDROLIB-core/0.3.1/reference/friction/#hydrolib.core.io.friction.models.FrictionModel) to the D-Flow FM model by specifying the friction type and value at the upstream cross-section location (chainage=1000.0 m) of each branch in the model ([FrictBranch](https://deltares.github.io/HYDROLIB-core/0.3.1/reference/friction/#hydrolib.core.io.friction.models.FrictBranch)). Also a global roughness section is specified ([FrictGlobal](https://deltares.github.io/HYDROLIB-core/0.3.1/reference/friction/#hydrolib.core.io.friction.models.FrictGlobal)). This global section is used when there is no friction type and values specified for a specific branch. It also contains the frictionId. In the cross-section definition model a reference is made to this frictionId. You can check this with the commands below and search for ```frictionIds```."
   ]
  },
  {
   "cell_type": "code",
   "execution_count": null,
   "id": "4aa834a6",
   "metadata": {},
   "outputs": [],
   "source": [
    "# Print directly the modelobject (in this case all definitions)\n",
    "print(fm.geometry.crossdeffile.definition)\n",
    "\n",
    "# Or convert it first to a dataframe\n",
    "df_def = pd.DataFrame([f.__dict__ for f in fm.geometry.crossdeffile.definition])\n",
    "print(df_def[['frictionids']])"
   ]
  },
  {
   "cell_type": "markdown",
   "id": "cb9b0f9e",
   "metadata": {},
   "source": [
    "Note that YZ profiles can refer to multiple frictionIds, since the friction can vary over the cross-section. Hence the frictionId is given in a ```List()```. This means indirectly that multiple FrictionModels can be added to one D-Flow FM model. The created FrictionModel should therefore been added in a ```List()``` to the D-Flow FM model."
   ]
  },
  {
   "cell_type": "code",
   "execution_count": null,
   "id": "cd9e087d",
   "metadata": {},
   "outputs": [],
   "source": [
    "# Specify frictionId(s) for the FrictionModel(s)\n",
    "friction_name = 'channels'\n",
    "\n",
    "# Specify for each FrictionModel a global type and value\n",
    "global_type = FrictionType.manning # Options are chezy,debosbijkerk, manning, strickler, stricklernikuradse, wallawnikuradse, whitecolebrook\n",
    "global_value = 0.023\n",
    "\n",
    "# Create empty friction model and assign filepath\n",
    "roughness = FrictionModel()\n",
    "roughness.filepath = \"roughness-channels.ini\" # often we specify the filenames as \"roughness-frictionId.ini\"\n",
    "\n",
    "# Create global friction model and add it to frictionmodel\n",
    "roughness.global_ = FrictGlobal(frictionId=friction_name,frictionType=global_type,frictionValue=global_value)\n",
    "\n",
    "# Add friction from branches\n",
    "function_type = 'constant' # This model uses constant friction per branch\n",
    "\n",
    "df_friction = branches[['Name', 'fric_type', 'fric_value', 'chainage']]\n",
    "df_friction.columns = ['branchId','frictionType','frictionValues', 'chainage']\n",
    "df_friction = df_friction.assign(frictionValues = [[i] for i in df_friction.frictionValues.values])\n",
    "df_friction = df_friction.assign(functionType=function_type)\n",
    "df_friction = df_friction.assign(chainage = [[i] for i in df_friction.chainage.values])\n",
    "df_friction = df_friction.assign(numlocations=1) # you can specify multiple location along the branch with different friction values.\n",
    "\n",
    "\n",
    "roughness.branch = df_friction.to_dict('records') # the dataframe is converted to FrictBranch models at once \n",
    "\n",
    "# Add frictionmodel to the D-Flow FM model.\n",
    "fm.geometry.frictfile = [roughness] # frictfile is a list of frictionModels"
   ]
  },
  {
   "cell_type": "markdown",
   "id": "51751aad",
   "metadata": {},
   "source": [
    "__EX5__: Let's build another frictionmodel with frictionId  _dique_ representing the friction in Canal del Dique. This frictionmodel assumes Chezy as global friction type and has a friction value of 45."
   ]
  },
  {
   "cell_type": "code",
   "execution_count": null,
   "id": "0b47143d",
   "metadata": {},
   "outputs": [],
   "source": [
    "# Answer to EX5\n",
    "# Specify frictionId(s) for the FrictionModel(s)\n",
    "friction_id2 = \n",
    "\n",
    "# Specify for each FrictionModel a global type and value\n",
    "global_type2 = \n",
    "global_value2 = \n",
    "\n",
    "# Create empty friction model and assign filepath\n",
    "roughness_dique = \n",
    "roughness_dique.filepath = \n",
    "\n",
    "# Create global friction model and add it to frictionmodel\n",
    "roughness_dique.global_ = \n",
    "\n",
    "# Add frictionmodels to the D-Flow FM model.\n",
    "fm.geometry.frictfile =  # Note that the other friction needs to be added to the list.  "
   ]
  },
  {
   "cell_type": "markdown",
   "id": "f7a6dcdd",
   "metadata": {},
   "source": [
    "The cross-sections on the Canal del Dique (Channel_1D_1) do not refer to this new frictionId. Please uncomment the code below to change this after completion of exercise 5."
   ]
  },
  {
   "cell_type": "code",
   "execution_count": null,
   "id": "1d604ee2",
   "metadata": {},
   "outputs": [],
   "source": [
    "## Convert crosssection defintions from D-Flow FM model to dataframe\n",
    "#df_def = pd.DataFrame([f.__dict__ for f in fm.geometry.crossdeffile.definition])\n",
    "#print(df_def)\n",
    "#\n",
    "## Check which cross-section locations are located on Channel_1D_1 \n",
    "#df_loc = pd.DataFrame([f.__dict__ for f in fm.geometry.crosslocfile.crosssection])\n",
    "#print(df_loc.loc[:,['id','branchid','definitionid']])\n",
    "#\n",
    "## To which definition do these locations refer:\n",
    "#defs = df_loc.loc[df_loc.index[df_loc.branchid=='Channel_1D_1'],'definitionid'].values\n",
    "#\n",
    "## Change the Frictionids to dique for Channel_1D_1\n",
    "#index_defs = df_def.index[df_def.id.isin(defs)]\n",
    "#\n",
    "#for i in index_defs:\n",
    "#    df_def.loc[i, 'frictionids'] = ['dique']\n",
    "#\n",
    "## Overwrite the definitions in D-Flow FM model with the changes in the dataframe\n",
    "#fm.geometry.crossdeffile.definition = df_def.to_dict(\"records\")"
   ]
  },
  {
   "cell_type": "markdown",
   "id": "5d0e1109",
   "metadata": {},
   "source": [
    "## Add boundary conditions to the model\n",
    "Fluvial floods occur when water levels in the river are too high. These high water levels in the rivers can result from several factors. One of those is the occurence of heavy rainfall in the upstream catchment. These heavy rainstorm can lead to a high discharge wave entering the upstream boundary of the river. \n",
    "\n",
    "In this tutorial you will model such a high discharge wave (time series) at the upstream 1D boundary (node id = '521410.278872_1056811.761107'). For the two downstream boundaries (node ids = [wkt_geom\tName\tBridgeCount\tCrossSectio\tCulvertCoun\tGateCount\tGeometryLen\tIsLengthCus\tLateralSour\tLength\tLongName\tOrderNumber\tPumpCount\tSource\tStructureCo\tTarget\tWeirCount\tfric_type\tfric_value\tchainage]) a constant water level of 0 m AD is assumed. Note that this are tidal boundaries in reality. \n",
    "\n",
    "In order to apply boundary conditions on a model you need two components:\n",
    "1. Forcing (.bc) file [ForcingModel](https://deltares.github.io/HYDROLIB-core/0.3.1/reference/forcing/#hydrolib.core.io.bc.models.ForcingModel): This model contains the forcing value, time series, astronomical tide, realtime connection with other modules (D-RR) or QHtable. The first two options are created in this tutorial. \n",
    "2. External Forcing (.ext) file [ExtModel](https://deltares.github.io/HYDROLIB-core/0.3.1/reference/ext/#hydrolib.core.io.ext.models.ExtModel): The external forcing specifies the location and type of forcing. Types of forcing are [Boundary](https://deltares.github.io/HYDROLIB-core/0.3.1/reference/ext/#hydrolib.core.io.ext.models.Boundary), [Lateral](https://deltares.github.io/HYDROLIB-core/0.3.1/reference/ext/#hydrolib.core.io.ext.models.Lateral) and meteo. \n"
   ]
  },
  {
   "cell_type": "code",
   "execution_count": null,
   "id": "faa29b70",
   "metadata": {},
   "outputs": [],
   "source": [
    "# Get node ids of branches\n",
    "node_ids = fm.geometry.netfile.network._mesh1d.network1d_node_id \n",
    "print(node_ids)\n",
    "\n",
    "# Specify the node ids\n",
    "node_upstream = node_ids[0] # discharge time series node\n",
    "nodes_downstream = node_ids[2:] # water level nodes\n",
    "\n",
    "# Create an empty external forcing model and forcing model\n",
    "ext = ExtModel()\n",
    "ext.filepath = 'boundary_new.ext'\n",
    "bc = ForcingModel()\n",
    "#bc.filepath = inputdir / 'BoundaryConditions.bc'\n",
    "\n",
    "# Read the upstream boundary time series from excel \n",
    "discharge_file = inputdir / '1D_BoundaryConditions.xlsx'\n",
    "discharge = pd.read_excel(discharge_file, sheet_name=[0])\n",
    "\n",
    "# Create the timeseries\n",
    "bc_up = TimeSeries(\n",
    "    name = node_upstream,\n",
    "    nodeid = node_upstream,\n",
    "    timeinterpolation = TimeInterpolation.linear,\n",
    "    quantityunitpair = [QuantityUnitPair(quantity = 'time', unit = 'minutes since 2012-01-01 00:00:00'), QuantityUnitPair(quantity = 'dischargebnd', unit = 'm³/s')],\n",
    "    datablock = [[time, dis] for [time,dis] in discharge[0].values]\n",
    ")\n",
    "\n",
    "# Create downstream constant boundaries\n",
    "bc_dn1 = Constant(\n",
    "    name = nodes_downstream[0],\n",
    "    nodeid = nodes_downstream[0],\n",
    "    quantityunitpair = [QuantityUnitPair(quantity = 'waterlevelbnd', unit = 'm')],\n",
    "    datablock = [[\"0.0\"]]\n",
    ")\n",
    "\n",
    "bc_dn2 = Constant(\n",
    "    name = nodes_downstream[1],\n",
    "    nodeid = nodes_downstream[1],\n",
    "    quantityunitpair = [QuantityUnitPair(quantity = 'waterlevelbnd', unit = 'm')],\n",
    "    datablock = [[\"0.0\"]]\n",
    ")\n",
    "\n",
    "# Add the forcing to ForcingModel\n",
    "bc.forcing.extend([bc_up,bc_dn1,bc_dn2])\n",
    "\n",
    "# Create boundary locations in ExtModel\n",
    "ext_up = Boundary(\n",
    "    quantity = 'dischargebnd',\n",
    "    nodeid = node_upstream,\n",
    "    forcingfile = bc\n",
    "    )\n",
    "\n",
    "ext_dn1 = Boundary(\n",
    "    quantity = 'waterlevelbnd',\n",
    "    nodeid = nodes_downstream[0],\n",
    "    forcingfile = bc\n",
    "    )\n",
    "\n",
    "ext_dn2 = Boundary(\n",
    "    quantity = 'waterlevelbnd',\n",
    "    nodeid = nodes_downstream[1],\n",
    "    forcingfile = bc\n",
    "    )\n",
    "\n",
    "# Add the boundaries to ExtModel\n",
    "ext.boundary.extend([ext_up,ext_dn1,ext_dn2])\n",
    "\n",
    "# Add the ExtModel to D-Flow FM model\n",
    "fm.external_forcing.extforcefilenew = ext"
   ]
  },
  {
   "cell_type": "markdown",
   "id": "dfa479b4",
   "metadata": {},
   "source": [
    "## Add initial conditions\n",
    "For this model an initial water depth of 1.0 meter is assumed in the 1D model. \n",
    "\n",
    "Below you can see how this initial waterdepth is added to the D-Flow FM model using the following steps:\n",
    "1. Creating 1D initial conditions field ([1DField](https://deltares.github.io/HYDROLIB-core/0.3.1/reference/onedfield/)), which contains the actual waterdepths on each branch. Note that the file is seperately saved from the rest of the model.\n",
    "2. Creating [IniFieldModel](https://deltares.github.io/HYDROLIB-core/0.3.1/reference/inifield/) (= Initial and parameter field files) in which we collect the initial condition specified in step 1, so that it can be added to the `FMModel`. "
   ]
  },
  {
   "cell_type": "code",
   "execution_count": null,
   "id": "a03305cc",
   "metadata": {},
   "outputs": [],
   "source": [
    "# Create 1D initial conditions field\n",
    "ini_1d = OneDFieldModel()\n",
    "ini_1d.global_ = OneDFieldGlobal(quantity='waterdepth', unit='m', value=1.0) # only global values are needed in this case, but you could also specify it per branch.\n",
    "ini_1d.filepath = 'initialwaterdepth.ini'\n",
    "ini_1d.save(outputdir / ini_1d.filepath) # 1D field ini files needs to be saved seperately from the model save. \n",
    "\n",
    "# Create initial field file\n",
    "ini_field = IniFieldModel()\n",
    "ini_field.filepath = 'inifield.ini'\n",
    "ini_field.initial = InitialField(quantity='waterdepth',datafile=ini_1d.filepath, datafiletype=DataFileType.onedfield)\n",
    "fm.geometry.inifieldfile = ini_field\n"
   ]
  },
  {
   "cell_type": "markdown",
   "id": "3c3fb82d",
   "metadata": {},
   "source": [
    "## Add a weir to the model\n",
    "Many lakes occur close along Canal del Dique. See figure below. This tutorial assumes that these lakes can function as extra storage for the floods from the river. Hence a weir structure, functioning as a small dam, is added downstream of the lakes. This weir structure has the following conditions:\n",
    "* It is located at 70 km from the upstream node of the branch. \n",
    "* The crestlevel is 4.0 m AD.\n",
    "* The crest width is 105.0 m. \n",
    "* The flow over the dam is in both directions. \n",
    "\n",
    "<p align=\"center\">\n",
    "<img alt=\"Light\" src=\"figures/multiple_lakes.png\" width=\"40%\" >\n",
    "<p\\>"
   ]
  },
  {
   "cell_type": "code",
   "execution_count": null,
   "id": "2c00c10b",
   "metadata": {},
   "outputs": [],
   "source": [
    "# Create weir structure\n",
    "weir = Weir(\n",
    "    id='fictive_dam', \n",
    "    name = 'fictive_dam',\n",
    "    branchId='Channel_1D_1', \n",
    "    chainage=70000.0, \n",
    "    allowedFlowDir=FlowDirection.both, \n",
    "    crestLevel=4.0, \n",
    "    crestWidth=105.0, \n",
    "    corrCoeff=1.000, \n",
    "    useVelocityHeight=True\n",
    ")\n",
    "\n",
    "# Create structure model\n",
    "struc = StructureModel()\n",
    "struc.filepath = 'structure.ini'\n",
    "\n",
    "# Append weir to structure\n",
    "struc.structure.append(weir)\n",
    "\n",
    "# Assign structure model to D-Flow FM model\n",
    "fm.geometry.structurefile = [struc]\n",
    "\n"
   ]
  },
  {
   "cell_type": "markdown",
   "id": "0337ac90",
   "metadata": {},
   "source": [
    "__EX6__: You found out that the dam should be significantly higher. Hence you increase the crestlevel to 10.0 m AD. Your client also decided that flow can only occur from upstream to downstream. Please change the weir above. "
   ]
  },
  {
   "cell_type": "code",
   "execution_count": null,
   "id": "0400ad18",
   "metadata": {},
   "outputs": [],
   "source": [
    "# Answer EX6: \n",
    "\n",
    "# Create weir structure\n",
    "weir = \n",
    "\n",
    "# Create structure model\n",
    "struc = StructureModel()\n",
    "struc.filepath = 'structure.ini'\n",
    "\n",
    "# Append weir to structure\n",
    "struc.structure.append(weir)\n",
    "\n",
    "# Assign structure model to D-Flow FM model\n",
    "fm.geometry.structurefile = [struc]"
   ]
  },
  {
   "cell_type": "markdown",
   "id": "0faf52b4",
   "metadata": {},
   "source": [
    "## Save 1D model\n",
    "\n",
    "The 1D model is now finished. The commands below are used to save the model to the correct filepath (specified for the MDU-file). Note that the ```recurse``` is set to ```True``` to make sure all underlying model files are written to the directory. Else the MDU-file will be the only file written to the directory. \n"
   ]
  },
  {
   "cell_type": "code",
   "execution_count": null,
   "id": "296915d5",
   "metadata": {},
   "outputs": [],
   "source": [
    "# Change some time settings\n",
    "fm.time.refdate = '20120101'\n",
    "fm.time.dtuser = 60. # seconds\n",
    "fm.time.tstart = 43200.\n",
    "fm.time.tstop = 561600.\n",
    "\n",
    "# Save the 1D model. \n",
    "fm.general.autostart = AutoStartOption.no # This is a workaround for a bug in hydrolib-core 0.3.1\n",
    "fm.save(recurse=True)"
   ]
  },
  {
   "cell_type": "markdown",
   "id": "30c14c11",
   "metadata": {},
   "source": [
    "## PART 2: Extend to a 1D2D Delft3D FM model\n",
    "We will now continue with the model `fm` from part 1, and add a 2D mesh to it, as well as 1D2D couplings."
   ]
  },
  {
   "cell_type": "markdown",
   "id": "ea6f208f",
   "metadata": {},
   "source": [
    "## Create 2D flexible mesh\n",
    "We use a shapefile with the area of interest to define the extent of the new 2D mesh that is to be generated.\n",
    "First, a uniform rectilinear mesh is generated, after which it can be clipped. \n",
    "\n",
    "__EX7__: Create a rectangular grid with a cell size of 2500 by 2500 meter. Use [create_rectilinear()](https://deltares.github.io/HYDROLIB-core/0.3.1/reference/net/#hydrolib.core.io.net.models.Mesh2d.create_rectilinear) function.\n",
    "\n",
    "__EX8__: Clip the rectangular grid with the ```clip_geom``` using [clip()](https://deltares.github.io/HYDROLIB-core/0.3.1/reference/net/#hydrolib.core.io.net.models.Mesh2d.clip) function."
   ]
  },
  {
   "cell_type": "code",
   "execution_count": null,
   "id": "4d2912f1",
   "metadata": {},
   "outputs": [],
   "source": [
    "# Read grid outline\n",
    "gdf_grid = gpd.read_file(inputdir / 'outline_2D_grid.shp')\n",
    "\n",
    "# Determine the boundary box\n",
    "extent = gdf_grid.geometry[0].bounds\n",
    "\n",
    "# Create uniform rectilinear mesh\n",
    "mesh2d = Mesh2d()\n",
    "\n",
    "# Answer EX7\n",
    "\n",
    "\n",
    "# Clip resulting mesh within polygon area of interest\n",
    "# Prepare a clipping polygon for MeshKernel input:\n",
    "clip_polygon = np.array(gdf_grid.geometry[0].exterior.xy)\n",
    "clip_geom = GeometryList(clip_polygon[0],clip_polygon[1])\n",
    "\n",
    "# Answer EX8\n",
    "\n",
    "\n",
    "fm.geometry.netfile.network._mesh2d = mesh2d\n",
    "fm.geometry.netfile.filepath = \"FlowFM_1D2D_net.nc\"\n"
   ]
  },
  {
   "cell_type": "markdown",
   "id": "828e9b2b",
   "metadata": {},
   "source": [
    "The cell below produces a basic plot of the 1D + 2D mesh."
   ]
  },
  {
   "cell_type": "code",
   "execution_count": null,
   "id": "df678f9b",
   "metadata": {},
   "outputs": [],
   "source": [
    "# Create a plot\n",
    "mesh2d_mk = network._mesh2d.get_mesh2d()\n",
    "mesh1d_mk = network._mesh1d._get_mesh1d()\n",
    "\n",
    "figure, ax = plt.subplots()\n",
    "ax.set_aspect('equal')\n",
    "plt.rcParams[\"figure.figsize\"]=10,10\n",
    "\n",
    "ax.imshow(img, extent=[440000,531544.97964175534434617 ,1057000 ,1228644.01383191486820579 ])\n",
    "# Plot the 1D2D network\n",
    "mesh2d_mk.plot_edges(ax=ax, color=\"orange\")\n",
    "mesh1d_mk.plot_edges(ax=ax, color='blue')"
   ]
  },
  {
   "cell_type": "markdown",
   "id": "e7444ed8",
   "metadata": {},
   "source": [
    "### Local refinement of the 2D mesh\n",
    "One of the key functionalities of Delft3D Flexible Mesh is that you can refine the 2D grid locally. The cell below shows how the grid is locally refined around the river by executing the refinement algorithm once (```level=1```).\n"
   ]
  },
  {
   "cell_type": "code",
   "execution_count": null,
   "id": "56e14d1a",
   "metadata": {},
   "outputs": [],
   "source": [
    "# Create empty mesh2d object\n",
    "mesh2d = Mesh2d()\n",
    "\n",
    "# Create rectangular grid\n",
    "mesh2d.create_rectilinear(\n",
    "    extent=extent, \n",
    "    dx=2500.0,\n",
    "    dy=2500.0\n",
    ")\n",
    "\n",
    "# Clip resulting mesh within polygon area of interest\n",
    "# Prepare a clipping polygon for MeshKernel input:\n",
    "clip_polygon = np.array(gdf_grid.geometry[0].exterior.xy)\n",
    "clip_geom = GeometryList(clip_polygon[0],clip_polygon[1])\n",
    "mesh2d.clip(clip_geom)\n",
    "\n",
    "\n",
    "# Refine the coarse uniform grid in a buffer region around the rivers\n",
    "gdf_refine = gpd.read_file(inputdir / 'buffer_around_river_proj.shp')\n",
    "refine_polygon = np.array(gdf_refine.geometry[0].exterior.xy)\n",
    "refine_geom = GeometryList(refine_polygon[0], refine_polygon[1])\n",
    "mesh2d.refine(refine_geom, level=1)\n",
    "\n",
    "fm.geometry.netfile.network._mesh2d = mesh2d\n",
    "fm.geometry.netfile.filepath = \"FlowFM_1D2D_refined_net.nc\""
   ]
  },
  {
   "cell_type": "code",
   "execution_count": null,
   "id": "dead5039",
   "metadata": {},
   "outputs": [],
   "source": [
    "# Create a plot\n",
    "mesh2d_mk = network._mesh2d.get_mesh2d()\n",
    "mesh1d_mk = network._mesh1d._get_mesh1d()\n",
    "\n",
    "figure, ax = plt.subplots()\n",
    "ax.set_aspect('equal')\n",
    "plt.rcParams[\"figure.figsize\"]=10,10\n",
    "\n",
    "ax.imshow(img, extent=[440000,531544.97964175534434617 ,1057000 ,1228644.01383191486820579 ])\n",
    "# Plot the 1D2D network\n",
    "mesh2d_mk.plot_edges(ax=ax, color=\"orange\")\n",
    "mesh1d_mk.plot_edges(ax=ax, color='blue')"
   ]
  },
  {
   "cell_type": "markdown",
   "id": "54b642aa",
   "metadata": {},
   "source": [
    "## Save 1D2D model\n",
    "The 1D2D model is now finished. The commands below are used to save the model to the correct filepath (specified for the MDU-file). Note that the ```recurse``` is set to ```True``` to make sure all underlying model files are written to the directory. Else the MDU-file will be the only file written to the directory. \n",
    "\n",
    "Note that the 1D2D links will be generated in the Delft3D FM 1D2D software. Future releases of HYDROLIB-core will consist of 1D2D functionalities."
   ]
  },
  {
   "cell_type": "code",
   "execution_count": null,
   "id": "46eccc5f",
   "metadata": {},
   "outputs": [],
   "source": [
    "# Change fm\n",
    "outputdir_1d2d = root / '1D2D_model'\n",
    "fm.filepath = outputdir_1d2d / 'Magdalena_1D2D.mdu'\n",
    "\n",
    "fm.general.autostart = AutoStartOption.no\n",
    "fm.save(recurse=True)"
   ]
  }
 ],
 "metadata": {
  "kernelspec": {
   "display_name": "Python 3 (ipykernel)",
   "language": "python",
   "name": "python3"
  },
  "language_info": {
   "codemirror_mode": {
    "name": "ipython",
    "version": 3
   },
   "file_extension": ".py",
   "mimetype": "text/x-python",
   "name": "python",
   "nbconvert_exporter": "python",
   "pygments_lexer": "ipython3",
   "version": "3.8.8"
  },
  "vscode": {
   "interpreter": {
    "hash": "644751cfc7bc1a56380f9efbb6880b44a2a5a2a85fb44e9a3d09ecacb1012801"
   }
  }
 },
 "nbformat": 4,
 "nbformat_minor": 5
}
