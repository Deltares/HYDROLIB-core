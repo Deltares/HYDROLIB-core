{
 "cells": [
  {
   "cell_type": "markdown",
   "id": "d3a50766",
   "metadata": {},
   "source": [
    "# Tutorial Delft3D FM 1D2D fluvial flood model of Magdalena river \n",
    "\n",
    "This notebook is an introduction on how-to use [HYDROLIB-core](https://github.com/Deltares/HYDROLIB-core) functionalities to create/adjust a Delft3D FM Suite 1D2D fluvial flood model of the Magdalena river in Columbia. First an 1D river model of the Magdalena river and Canal del Dique will be created, shown in the left figure. This model will be extended with an 2D Flexible Mesh, whereafter a MERIT DTM will be added to the model in order to mimic the fluvial flood patterns. Running the model or importing the model in the Delft3D FM Suite 1D2D is not part of the exercise.  \n",
    "\n",
    "<p align=\"center\">\n",
    "  <img alt=\"Light\" src=\"figures/1D_model.png\" width=\"45%\" >\n",
    "&nbsp; &nbsp; &nbsp; &nbsp;\n",
    "  <img alt=\"Dark\" src=\"figures/1D2D_model.png\" width=\"45%\">\n",
    "</p>\n",
    "\n",
    "Note that the model and tutorial are created for educational purposes and consist partially of fictive/unvalidated model data. \n",
    "\n",
    "<hr style=\"border-style: dotted;\" />\n",
    "\n",
    " ```HYDROLIB-core``` is the core library of Python wrappers around the D-HYDRO Suite 1D2D model files (input and output) and model engines (kernel libraries). ```HYDROLIB``` is a Python package with tools for pre-processing, post-processing and analysis of hydrodynamical data and simulation results, currently focused on Delft3D Suite 1D2D. [HYDROLIB](https://github.com/Deltares/HYDROLIB)  builds upon the basic HYDROLIB-core functionalities.\n",
    "\n",
    "<hr style=\"border-style: dotted;\" />\n",
    "\n",
    "As mentioned above, the goal of this tutorial is to familiarize modelers with how to apply HYDROLIB-core functionalities in their modelling procedures such as fluvial flood modelling.  This is done by the following steps\n",
    "\n",
    "1. Loading libraries\n",
    "1. Connect to data\n",
    "1. Create empty D-Flow FM model \n",
    "3. Read branches\n",
    "4. Create computational grid\n",
    "5. Add cross-sections\n",
    "6. Add roughness\n",
    "7. Add initial conditions\n",
    "8. Add a weir to the model\n",
    "9. Save 1D model\n",
    "10. Create 2D flexible mesh\n",
    "11. Add 2D DTM to model\n",
    "12. Generate 1D2D links\n",
    "13. Save 1D2D model\n",
    "\n",
    "### Installation\n",
    "To run this notebook a simple Python environment with the following packages is required:\n",
    "```\n",
    "TO DO \n",
    "```\n",
    "_Remark_ Note that an email was sent to all participants to download the material from download portal and to create an environment with the ```hydrolib-core``` package installed from ```environment.yaml```. Furthermore, a dummy model was provided at the download portal to test the [Conda](https://conda.io/projects/conda/en/latest/user-guide/tasks/manage-environments.html#) environment.\n",
    "\n",
    "### Jupyter Notebook shortcuts\n",
    "Still need to be added\n",
    "\n",
    "Let's get started"
   ]
  },
  {
   "cell_type": "markdown",
   "id": "bdfeb89e",
   "metadata": {},
   "source": [
    "## Loading libraries\n",
    "__EX1__: Import the libraries required in the notebook below. _Tip: please consult the [HYDROLIB-core documentation](https://deltares.github.io/HYDROLIB-core/0.3.1/)_"
   ]
  },
  {
   "cell_type": "code",
   "execution_count": 11,
   "id": "1af81c2e",
   "metadata": {},
   "outputs": [],
   "source": [
    "# basis \n",
    "import numpy as np\n",
    "import pandas as pd\n",
    "import geopandas as gpd\n",
    "from shapely import wkt\n",
    "import matplotlib.pyplot as plt\n",
    "\n",
    "\n",
    "# I/O\n",
    "from pathlib import Path\n",
    "\n",
    "# Answer to 1 -  hydrolib-core libraries. Note in future releases io should be followed by .dflowfm\n",
    "from hydrolib.core.io.mdu.models import FMModel\n",
    "from hydrolib.core.io.net.models import *\n",
    "from hydrolib.core.io.crosssection.models import CrossLocModel, CrossDefModel, CrossSection\n",
    "\n"
   ]
  },
  {
   "cell_type": "markdown",
   "id": "70b1fece",
   "metadata": {},
   "source": [
    "## Connect to data\n",
    "__EX2__:"
   ]
  },
  {
   "cell_type": "code",
   "execution_count": 2,
   "id": "020cec22",
   "metadata": {},
   "outputs": [],
   "source": [
    "# Answer EX2\n",
    "\n",
    "# Specify paths to connect to local zip\n",
    "root = Path.cwd()\n",
    "inputdir = root / 'data'\n",
    "\n",
    "# Download data from zip\n",
    "# TODO: download from HYDROLIB-data"
   ]
  },
  {
   "cell_type": "markdown",
   "id": "08b0b683",
   "metadata": {},
   "source": [
    "## Create empty D-Flow FM model"
   ]
  },
  {
   "cell_type": "code",
   "execution_count": 3,
   "id": "d7c50c3c",
   "metadata": {},
   "outputs": [],
   "source": [
    "# Answer EX3\n",
    "\n",
    "# Create empty D-Flow FM model\n",
    "fm = FMModel()\n",
    "\n",
    "# Assign filepath to the D-Flow FM model\n",
    "outputdir = root / '1D_model'\n",
    "fm.filepath = outputdir / 'Magdalena_1D.mdu'"
   ]
  },
  {
   "cell_type": "markdown",
   "id": "5d1575c3",
   "metadata": {},
   "source": [
    "## Read branches\n"
   ]
  },
  {
   "cell_type": "code",
   "execution_count": 4,
   "id": "4b0f78b6",
   "metadata": {},
   "outputs": [],
   "source": [
    "# Read the branches\n",
    "branches = gpd.read_file(filename = inputdir / 'branches_Branches.shp')\n"
   ]
  },
  {
   "cell_type": "markdown",
   "id": "c2ff9e4e",
   "metadata": {},
   "source": [
    "## Create computational grid\n"
   ]
  },
  {
   "cell_type": "code",
   "execution_count": 5,
   "id": "4b0f78b6",
   "metadata": {},
   "outputs": [],
   "source": [
    "dx = 1000.0\n",
    "network = Network()\n",
    "\n",
    "for index,branch in branches.iterrows():\n",
    "    xy = np.transpose(branch.geometry.xy)\n",
    "    branch_new = Branch(geometry=xy)\n",
    "    branch_new.generate_nodes(mesh1d_edge_length=dx)\n",
    "    network.mesh1d_add_branch(branch_new, name=branch.Name)\n",
    "\n",
    "fm.geometry.netfile.network = network\n",
    "fm.geometry.netfile.filepath = \"FlowFM_net.nc\"\n"
   ]
  },
  {
   "cell_type": "code",
   "execution_count": 7,
   "id": "72c846a8",
   "metadata": {},
   "outputs": [
    {
     "data": {
      "image/png": "[encoded data removed]",
      "text/plain": [
       "<Figure size 640x480 with 1 Axes>"
      ]
     },
     "metadata": {},
     "output_type": "display_data"
    }
   ],
   "source": [
    "figure, ax = plt.subplots()\n",
    "network._mesh1d._set_mesh1d()\n",
    "mesh1d_meshkernel = network._mesh1d._get_mesh1d()\n",
    "mesh1d_meshkernel.plot_edges(ax=ax, color='blue')"
   ]
  },
  {
   "cell_type": "markdown",
   "id": "f3c66497",
   "metadata": {},
   "source": [
    "## Add cross-sections\n"
   ]
  },
  {
   "cell_type": "code",
   "execution_count": 10,
   "id": "45cd95de",
   "metadata": {},
   "outputs": [],
   "source": [
    "profiles_file = inputdir / '1D_YZ_CrossSections.xlsx'\n",
    "\n",
    "profiles = pd.read_excel(profiles_file, sheet_name=None)\n",
    "\n",
    "prof_names = list(profiles.keys())\n",
    "\n",
    "chainages = [1000.0, 95000.0, 1000.0, 95000.0, 1000.0, 113000.0]\n",
    "branches_names = [branches.Name[0],branches.Name[0],branches.Name[1],branches.Name[1],branches.Name[2],branches.Name[2]]\n",
    "\n",
    "# create cross-section locations\n",
    "crsloc = CrossLocModel()\n",
    "\n",
    "for index,prof_name in enumerate(prof_names):\n",
    "    crs = CrossSection()\n",
    "    crs.\n",
    "    crsloc.crosssection()\n"
   ]
  },
  {
   "cell_type": "markdown",
   "id": "ebf5a872",
   "metadata": {},
   "source": [
    "## Add roughness\n"
   ]
  },
  {
   "cell_type": "markdown",
   "id": "dfa479b4",
   "metadata": {},
   "source": [
    "## Add initial conditions\n"
   ]
  },
  {
   "cell_type": "markdown",
   "id": "3c3fb82d",
   "metadata": {},
   "source": [
    "## Add a weir to the model\n"
   ]
  },
  {
   "cell_type": "markdown",
   "id": "0faf52b4",
   "metadata": {},
   "source": [
    "## Save 1D model\n"
   ]
  },
  {
   "cell_type": "code",
   "execution_count": null,
   "id": "296915d5",
   "metadata": {},
   "outputs": [],
   "source": [
    "# Save the 1D model. \n",
    "fm.save(recurse=True)"
   ]
  },
  {
   "cell_type": "markdown",
   "id": "ea6f208f",
   "metadata": {},
   "source": [
    "## Create 2D flexible mesh\n"
   ]
  },
  {
   "cell_type": "markdown",
   "id": "fe52a43f",
   "metadata": {},
   "source": [
    "## Add DTM to 2D model\n"
   ]
  },
  {
   "cell_type": "markdown",
   "id": "0ddfa7e8",
   "metadata": {},
   "source": [
    "## Generate 1D2D links\n"
   ]
  },
  {
   "cell_type": "markdown",
   "id": "54b642aa",
   "metadata": {},
   "source": [
    "## Save 1D2D model"
   ]
  },
  {
   "cell_type": "markdown",
   "id": "4c9e6cfd",
   "metadata": {},
   "source": []
  }
 ],
 "metadata": {
  "kernelspec": {
   "display_name": "Python 3.9.13 ('hydrolib_dsd')",
   "language": "python",
   "name": "python3"
  },
  "language_info": {
   "codemirror_mode": {
    "name": "ipython",
    "version": 3
   },
   "file_extension": ".py",
   "mimetype": "text/x-python",
   "name": "python",
   "nbconvert_exporter": "python",
   "pygments_lexer": "ipython3",
   "version": "3.9.13"
  },
  "vscode": {
   "interpreter": {
    "hash": "6e1a30cfa4f222dcaa9bdc3742285583524fc6deff7f0644e6087047e77e2e59"
   }
  }
 },
 "nbformat": 4,
 "nbformat_minor": 5
}
